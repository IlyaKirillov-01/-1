{
 "cells": [
  {
   "cell_type": "markdown",
   "metadata": {},
   "source": [
    "# Вступление"
   ]
  },
  {
   "cell_type": "markdown",
   "metadata": {},
   "source": [
    "<div class=\"alert alert-info\"> \n",
    "Компьютерная индустрия развивается все большими темпами. Необходимо на основе имеющихся данных проанализировать рынок компьютерных игр.\n",
    "\n",
    "Объектом исследования являются данные по продажам игр в разных регионах мира. \n",
    "\n",
    "Предметом исследования - имеющиеся показатели, метрики и взаимосвязи в данных\n",
    "\n",
    "Целями работы являются:\n",
    "\n",
    "- провести исследовательский анализ данных\n",
    "- составить портрет пользвателя каждого региона\n",
    "- принять/не принять следующие гипотезы:\n",
    "    - Средние пользовательские рейтинги платформ Xbox One и PC одинаковые\n",
    "    - Средние пользовательские рейтинги жанров Action и Sports разные.\n",
    "\n",
    "Исследование буду проводить с помощью статистического аппарата и языка программирования Python и встроенных библиотек.\n",
    "\n",
    "</div>"
   ]
  },
  {
   "cell_type": "code",
   "execution_count": 3,
   "metadata": {
    "scrolled": false
   },
   "outputs": [],
   "source": [
    "import pandas as pd"
   ]
  },
  {
   "cell_type": "code",
   "execution_count": 4,
   "metadata": {},
   "outputs": [],
   "source": [
    "from scipy import stats as st"
   ]
  },
  {
   "cell_type": "code",
   "execution_count": 5,
   "metadata": {},
   "outputs": [],
   "source": [
    "import numpy as np"
   ]
  },
  {
   "cell_type": "code",
   "execution_count": 6,
   "metadata": {},
   "outputs": [],
   "source": [
    "import matplotlib.pyplot as plt"
   ]
  },
  {
   "cell_type": "markdown",
   "metadata": {},
   "source": [
    "## Шаг 1. Импорт и просмотр данных"
   ]
  },
  {
   "cell_type": "markdown",
   "metadata": {},
   "source": [
    "Импортирую данные с помощью метода read_csv"
   ]
  },
  {
   "cell_type": "code",
   "execution_count": 7,
   "metadata": {},
   "outputs": [],
   "source": [
    "games = pd.read_csv('/datasets/games.csv')"
   ]
  },
  {
   "cell_type": "markdown",
   "metadata": {},
   "source": [
    "Посмотрю на первые 5 строк таблицы и пойму, что из себя представляют данные."
   ]
  },
  {
   "cell_type": "code",
   "execution_count": 8,
   "metadata": {
    "scrolled": true
   },
   "outputs": [
    {
     "data": {
      "text/html": [
       "<div>\n",
       "<style scoped>\n",
       "    .dataframe tbody tr th:only-of-type {\n",
       "        vertical-align: middle;\n",
       "    }\n",
       "\n",
       "    .dataframe tbody tr th {\n",
       "        vertical-align: top;\n",
       "    }\n",
       "\n",
       "    .dataframe thead th {\n",
       "        text-align: right;\n",
       "    }\n",
       "</style>\n",
       "<table border=\"1\" class=\"dataframe\">\n",
       "  <thead>\n",
       "    <tr style=\"text-align: right;\">\n",
       "      <th></th>\n",
       "      <th>Name</th>\n",
       "      <th>Platform</th>\n",
       "      <th>Year_of_Release</th>\n",
       "      <th>Genre</th>\n",
       "      <th>NA_sales</th>\n",
       "      <th>EU_sales</th>\n",
       "      <th>JP_sales</th>\n",
       "      <th>Other_sales</th>\n",
       "      <th>Critic_Score</th>\n",
       "      <th>User_Score</th>\n",
       "      <th>Rating</th>\n",
       "    </tr>\n",
       "  </thead>\n",
       "  <tbody>\n",
       "    <tr>\n",
       "      <th>0</th>\n",
       "      <td>Wii Sports</td>\n",
       "      <td>Wii</td>\n",
       "      <td>2006.0</td>\n",
       "      <td>Sports</td>\n",
       "      <td>41.36</td>\n",
       "      <td>28.96</td>\n",
       "      <td>3.77</td>\n",
       "      <td>8.45</td>\n",
       "      <td>76.0</td>\n",
       "      <td>8</td>\n",
       "      <td>E</td>\n",
       "    </tr>\n",
       "    <tr>\n",
       "      <th>1</th>\n",
       "      <td>Super Mario Bros.</td>\n",
       "      <td>NES</td>\n",
       "      <td>1985.0</td>\n",
       "      <td>Platform</td>\n",
       "      <td>29.08</td>\n",
       "      <td>3.58</td>\n",
       "      <td>6.81</td>\n",
       "      <td>0.77</td>\n",
       "      <td>NaN</td>\n",
       "      <td>NaN</td>\n",
       "      <td>NaN</td>\n",
       "    </tr>\n",
       "    <tr>\n",
       "      <th>2</th>\n",
       "      <td>Mario Kart Wii</td>\n",
       "      <td>Wii</td>\n",
       "      <td>2008.0</td>\n",
       "      <td>Racing</td>\n",
       "      <td>15.68</td>\n",
       "      <td>12.76</td>\n",
       "      <td>3.79</td>\n",
       "      <td>3.29</td>\n",
       "      <td>82.0</td>\n",
       "      <td>8.3</td>\n",
       "      <td>E</td>\n",
       "    </tr>\n",
       "    <tr>\n",
       "      <th>3</th>\n",
       "      <td>Wii Sports Resort</td>\n",
       "      <td>Wii</td>\n",
       "      <td>2009.0</td>\n",
       "      <td>Sports</td>\n",
       "      <td>15.61</td>\n",
       "      <td>10.93</td>\n",
       "      <td>3.28</td>\n",
       "      <td>2.95</td>\n",
       "      <td>80.0</td>\n",
       "      <td>8</td>\n",
       "      <td>E</td>\n",
       "    </tr>\n",
       "    <tr>\n",
       "      <th>4</th>\n",
       "      <td>Pokemon Red/Pokemon Blue</td>\n",
       "      <td>GB</td>\n",
       "      <td>1996.0</td>\n",
       "      <td>Role-Playing</td>\n",
       "      <td>11.27</td>\n",
       "      <td>8.89</td>\n",
       "      <td>10.22</td>\n",
       "      <td>1.00</td>\n",
       "      <td>NaN</td>\n",
       "      <td>NaN</td>\n",
       "      <td>NaN</td>\n",
       "    </tr>\n",
       "  </tbody>\n",
       "</table>\n",
       "</div>"
      ],
      "text/plain": [
       "                       Name Platform  Year_of_Release         Genre  NA_sales  \\\n",
       "0                Wii Sports      Wii           2006.0        Sports     41.36   \n",
       "1         Super Mario Bros.      NES           1985.0      Platform     29.08   \n",
       "2            Mario Kart Wii      Wii           2008.0        Racing     15.68   \n",
       "3         Wii Sports Resort      Wii           2009.0        Sports     15.61   \n",
       "4  Pokemon Red/Pokemon Blue       GB           1996.0  Role-Playing     11.27   \n",
       "\n",
       "   EU_sales  JP_sales  Other_sales  Critic_Score User_Score Rating  \n",
       "0     28.96      3.77         8.45          76.0          8      E  \n",
       "1      3.58      6.81         0.77           NaN        NaN    NaN  \n",
       "2     12.76      3.79         3.29          82.0        8.3      E  \n",
       "3     10.93      3.28         2.95          80.0          8      E  \n",
       "4      8.89     10.22         1.00           NaN        NaN    NaN  "
      ]
     },
     "execution_count": 8,
     "metadata": {},
     "output_type": "execute_result"
    }
   ],
   "source": [
    "games.head(5)"
   ]
  },
  {
   "cell_type": "markdown",
   "metadata": {},
   "source": [
    "Посмотрю информацию о данных, применив метод info()"
   ]
  },
  {
   "cell_type": "code",
   "execution_count": 9,
   "metadata": {
    "scrolled": false
   },
   "outputs": [
    {
     "name": "stdout",
     "output_type": "stream",
     "text": [
      "<class 'pandas.core.frame.DataFrame'>\n",
      "RangeIndex: 16715 entries, 0 to 16714\n",
      "Data columns (total 11 columns):\n",
      " #   Column           Non-Null Count  Dtype  \n",
      "---  ------           --------------  -----  \n",
      " 0   Name             16713 non-null  object \n",
      " 1   Platform         16715 non-null  object \n",
      " 2   Year_of_Release  16446 non-null  float64\n",
      " 3   Genre            16713 non-null  object \n",
      " 4   NA_sales         16715 non-null  float64\n",
      " 5   EU_sales         16715 non-null  float64\n",
      " 6   JP_sales         16715 non-null  float64\n",
      " 7   Other_sales      16715 non-null  float64\n",
      " 8   Critic_Score     8137 non-null   float64\n",
      " 9   User_Score       10014 non-null  object \n",
      " 10  Rating           9949 non-null   object \n",
      "dtypes: float64(6), object(5)\n",
      "memory usage: 1.4+ MB\n"
     ]
    }
   ],
   "source": [
    "games.info()"
   ]
  },
  {
   "cell_type": "markdown",
   "metadata": {},
   "source": [
    "<div class=\"alert alert-info\"> Таким образом, в наших данных есть 16715 строк. Датафрейм состоит из 11 колонок. В некоторых из них присутствуют пропуски. \n",
    "    \n",
    "Также присуствует два типа данных \"object\" и \"float64\". Есть столбец с годом релиза игры - вещественный тип данных. Нужно будет поменять на целочисленный.\n",
    "\n",
    "Большое количество пропусков в столбе с оценкой критиков, оценкой пользователей и рейтингом игр. \n",
    "    \n",
    "Также стоит отметить, что в отличие от оценки критиков, в столбец с оценкой пользователей имеет типа данных - object. \n",
    "    \n",
    "Значит, там могут находиться не только цифры. Либо цифры, но которые перенеслись как строка.\n",
    "    \n",
    "В рейтинге есть как Nan, так и буквы, обозначающие рейтинг - соответственно, тип данных - object\n",
    "    \n",
    "</div>"
   ]
  },
  {
   "cell_type": "markdown",
   "metadata": {},
   "source": [
    "## Шаг 2."
   ]
  },
  {
   "cell_type": "markdown",
   "metadata": {},
   "source": [
    "### Замена названий столбцов"
   ]
  },
  {
   "cell_type": "code",
   "execution_count": 10,
   "metadata": {},
   "outputs": [],
   "source": [
    "games.columns = games.columns.str.lower() "
   ]
  },
  {
   "cell_type": "code",
   "execution_count": 11,
   "metadata": {},
   "outputs": [
    {
     "data": {
      "text/plain": [
       "Index(['name', 'platform', 'year_of_release', 'genre', 'na_sales', 'eu_sales',\n",
       "       'jp_sales', 'other_sales', 'critic_score', 'user_score', 'rating'],\n",
       "      dtype='object')"
      ]
     },
     "execution_count": 11,
     "metadata": {},
     "output_type": "execute_result"
    }
   ],
   "source": [
    "games.columns"
   ]
  },
  {
   "cell_type": "markdown",
   "metadata": {},
   "source": [
    "### Обработка пропусков и замена типа данных"
   ]
  },
  {
   "cell_type": "markdown",
   "metadata": {},
   "source": [
    "Всего строк в таблице 16715.\n",
    "Пропусков в столбцах:"
   ]
  },
  {
   "cell_type": "code",
   "execution_count": 12,
   "metadata": {},
   "outputs": [
    {
     "data": {
      "text/plain": [
       "name                  2\n",
       "platform              0\n",
       "year_of_release     269\n",
       "genre                 2\n",
       "na_sales              0\n",
       "eu_sales              0\n",
       "jp_sales              0\n",
       "other_sales           0\n",
       "critic_score       8578\n",
       "user_score         6701\n",
       "rating             6766\n",
       "dtype: int64"
      ]
     },
     "execution_count": 12,
     "metadata": {},
     "output_type": "execute_result"
    }
   ],
   "source": [
    "games.isna().sum()"
   ]
  },
  {
   "cell_type": "code",
   "execution_count": 13,
   "metadata": {
    "scrolled": true
   },
   "outputs": [
    {
     "data": {
      "text/plain": [
       "name                0.01\n",
       "platform            0.00\n",
       "year_of_release     1.61\n",
       "genre               0.01\n",
       "na_sales            0.00\n",
       "eu_sales            0.00\n",
       "jp_sales            0.00\n",
       "other_sales         0.00\n",
       "critic_score       51.32\n",
       "user_score         40.09\n",
       "rating             40.48\n",
       "dtype: float64"
      ]
     },
     "execution_count": 13,
     "metadata": {},
     "output_type": "execute_result"
    }
   ],
   "source": [
    "(games.isna().sum() / len(games)).round(4) * 100\n"
   ]
  },
  {
   "cell_type": "markdown",
   "metadata": {},
   "source": [
    "У двух игр не указано название и жанр, удалю данные позиции, тк как на результаты исследований это не повлияет"
   ]
  },
  {
   "cell_type": "markdown",
   "metadata": {},
   "source": [
    "В 269 строках не указан год выпуска игры. Считаю, что заменять пропуски будет некорректно, тк как это может повлиять на результаты. Поэтому удалю их\n",
    "\n",
    "Пропуски могли появиться из-за того, что пользователь не ввел год выпуска либо по причине того, что год релиза игры неопределен в принципе."
   ]
  },
  {
   "cell_type": "code",
   "execution_count": 14,
   "metadata": {},
   "outputs": [],
   "source": [
    "pd.options.mode.chained_assignment = None"
   ]
  },
  {
   "cell_type": "code",
   "execution_count": 15,
   "metadata": {},
   "outputs": [],
   "source": [
    "for i in games[games['year_of_release'].isnull() == True].index:\n",
    "    games['year_of_release'][i] = games.loc[games['name']== games['name'][i], 'year_of_release'].max()\n"
   ]
  },
  {
   "cell_type": "code",
   "execution_count": 16,
   "metadata": {},
   "outputs": [
    {
     "data": {
      "text/plain": [
       "name                0.01\n",
       "platform            0.00\n",
       "year_of_release     0.87\n",
       "genre               0.01\n",
       "na_sales            0.00\n",
       "eu_sales            0.00\n",
       "jp_sales            0.00\n",
       "other_sales         0.00\n",
       "critic_score       51.32\n",
       "user_score         40.09\n",
       "rating             40.48\n",
       "dtype: float64"
      ]
     },
     "execution_count": 16,
     "metadata": {},
     "output_type": "execute_result"
    }
   ],
   "source": [
    "(games.isna().sum() / len(games)).round(4) * 100"
   ]
  },
  {
   "cell_type": "code",
   "execution_count": 17,
   "metadata": {},
   "outputs": [],
   "source": [
    "games.dropna(subset=['name','year_of_release', 'genre'], inplace=True)"
   ]
  },
  {
   "cell_type": "code",
   "execution_count": 18,
   "metadata": {
    "scrolled": true
   },
   "outputs": [
    {
     "data": {
      "text/plain": [
       "name                  0\n",
       "platform              0\n",
       "year_of_release       0\n",
       "genre                 0\n",
       "na_sales              0\n",
       "eu_sales              0\n",
       "jp_sales              0\n",
       "other_sales           0\n",
       "critic_score       8492\n",
       "user_score         6633\n",
       "rating             6699\n",
       "dtype: int64"
      ]
     },
     "execution_count": 18,
     "metadata": {},
     "output_type": "execute_result"
    }
   ],
   "source": [
    "games.isna().sum()"
   ]
  },
  {
   "cell_type": "code",
   "execution_count": 19,
   "metadata": {
    "scrolled": true
   },
   "outputs": [
    {
     "data": {
      "text/plain": [
       "0"
      ]
     },
     "execution_count": 19,
     "metadata": {},
     "output_type": "execute_result"
    }
   ],
   "source": [
    "games.duplicated().sum()"
   ]
  },
  {
   "cell_type": "markdown",
   "metadata": {},
   "source": [
    "<div class=\"alert alert-info\"> \n",
    "явных дубликатов в данных нет\n",
    "</div>"
   ]
  },
  {
   "cell_type": "markdown",
   "metadata": {},
   "source": [
    "#### user_score"
   ]
  },
  {
   "cell_type": "code",
   "execution_count": 22,
   "metadata": {
    "scrolled": true
   },
   "outputs": [
    {
     "data": {
      "text/plain": [
       "array(['8', nan, '8.3', '8.5', '6.6', '8.4', '8.6', '7.7', '6.3', '7.4',\n",
       "       '8.2', '9', '7.9', '8.1', '8.7', '7.1', '3.4', '5.3', '4.8', '3.2',\n",
       "       '8.9', '6.4', '7.8', '7.5', '2.6', '7.2', '9.2', '7', '7.3', '4.3',\n",
       "       '7.6', '5.7', '5', '9.1', '6.5', 'tbd', '8.8', '6.9', '9.4', '6.8',\n",
       "       '6.1', '6.7', '5.4', '4', '4.9', '4.5', '9.3', '6.2', '4.2', '6',\n",
       "       '3.7', '4.1', '5.8', '5.6', '5.5', '4.4', '4.6', '5.9', '3.9',\n",
       "       '3.1', '2.9', '5.2', '3.3', '4.7', '5.1', '3.5', '2.5', '1.9', '3',\n",
       "       '2.7', '2.2', '2', '9.5', '2.1', '3.6', '2.8', '1.8', '3.8', '0',\n",
       "       '1.6', '9.6', '2.4', '1.7', '1.1', '0.3', '1.5', '0.7', '1.2',\n",
       "       '2.3', '0.5', '1.3', '0.2', '0.6', '1.4', '0.9', '1', '9.7'],\n",
       "      dtype=object)"
      ]
     },
     "execution_count": 22,
     "metadata": {},
     "output_type": "execute_result"
    }
   ],
   "source": [
    "games['user_score'].unique()"
   ]
  },
  {
   "cell_type": "markdown",
   "metadata": {},
   "source": [
    "В данных есть пропуски и \"tbd\"-значение. Пропуски могли возникнуть:\n",
    "- если пользователи не дали оценки\n",
    "- при загрузке данных\n",
    "\n",
    "\"tbd\" - Используется, если какая-то информация еще не определена или решение по вопросу не принято. \n",
    "\n",
    "Заменю данное значение на пропуск.\n"
   ]
  },
  {
   "cell_type": "code",
   "execution_count": 23,
   "metadata": {},
   "outputs": [],
   "source": [
    "games['user_score'] = games['user_score'].replace('tbd', np.nan)"
   ]
  },
  {
   "cell_type": "code",
   "execution_count": 24,
   "metadata": {
    "scrolled": true
   },
   "outputs": [
    {
     "data": {
      "text/plain": [
       "array(['8', nan, '8.3', '8.5', '6.6', '8.4', '8.6', '7.7', '6.3', '7.4',\n",
       "       '8.2', '9', '7.9', '8.1', '8.7', '7.1', '3.4', '5.3', '4.8', '3.2',\n",
       "       '8.9', '6.4', '7.8', '7.5', '2.6', '7.2', '9.2', '7', '7.3', '4.3',\n",
       "       '7.6', '5.7', '5', '9.1', '6.5', '8.8', '6.9', '9.4', '6.8', '6.1',\n",
       "       '6.7', '5.4', '4', '4.9', '4.5', '9.3', '6.2', '4.2', '6', '3.7',\n",
       "       '4.1', '5.8', '5.6', '5.5', '4.4', '4.6', '5.9', '3.9', '3.1',\n",
       "       '2.9', '5.2', '3.3', '4.7', '5.1', '3.5', '2.5', '1.9', '3', '2.7',\n",
       "       '2.2', '2', '9.5', '2.1', '3.6', '2.8', '1.8', '3.8', '0', '1.6',\n",
       "       '9.6', '2.4', '1.7', '1.1', '0.3', '1.5', '0.7', '1.2', '2.3',\n",
       "       '0.5', '1.3', '0.2', '0.6', '1.4', '0.9', '1', '9.7'], dtype=object)"
      ]
     },
     "execution_count": 24,
     "metadata": {},
     "output_type": "execute_result"
    }
   ],
   "source": [
    "games['user_score'].unique()"
   ]
  },
  {
   "cell_type": "markdown",
   "metadata": {},
   "source": [
    "Теперь можно работать с пропусками.\n",
    "\n",
    "Слишком много пропусков в данных, чтобы их удалять."
   ]
  },
  {
   "cell_type": "markdown",
   "metadata": {},
   "source": [
    "Выведу игры, у которых нет оценок пользователей."
   ]
  },
  {
   "cell_type": "code",
   "execution_count": 25,
   "metadata": {
    "scrolled": true
   },
   "outputs": [
    {
     "data": {
      "text/html": [
       "<div>\n",
       "<style scoped>\n",
       "    .dataframe tbody tr th:only-of-type {\n",
       "        vertical-align: middle;\n",
       "    }\n",
       "\n",
       "    .dataframe tbody tr th {\n",
       "        vertical-align: top;\n",
       "    }\n",
       "\n",
       "    .dataframe thead th {\n",
       "        text-align: right;\n",
       "    }\n",
       "</style>\n",
       "<table border=\"1\" class=\"dataframe\">\n",
       "  <thead>\n",
       "    <tr style=\"text-align: right;\">\n",
       "      <th></th>\n",
       "      <th>name</th>\n",
       "      <th>platform</th>\n",
       "      <th>year_of_release</th>\n",
       "      <th>genre</th>\n",
       "      <th>na_sales</th>\n",
       "      <th>eu_sales</th>\n",
       "      <th>jp_sales</th>\n",
       "      <th>other_sales</th>\n",
       "      <th>critic_score</th>\n",
       "      <th>user_score</th>\n",
       "      <th>rating</th>\n",
       "    </tr>\n",
       "  </thead>\n",
       "  <tbody>\n",
       "    <tr>\n",
       "      <th>1</th>\n",
       "      <td>Super Mario Bros.</td>\n",
       "      <td>NES</td>\n",
       "      <td>1985.0</td>\n",
       "      <td>Platform</td>\n",
       "      <td>29.08</td>\n",
       "      <td>3.58</td>\n",
       "      <td>6.81</td>\n",
       "      <td>0.77</td>\n",
       "      <td>NaN</td>\n",
       "      <td>NaN</td>\n",
       "      <td>NaN</td>\n",
       "    </tr>\n",
       "    <tr>\n",
       "      <th>4</th>\n",
       "      <td>Pokemon Red/Pokemon Blue</td>\n",
       "      <td>GB</td>\n",
       "      <td>1996.0</td>\n",
       "      <td>Role-Playing</td>\n",
       "      <td>11.27</td>\n",
       "      <td>8.89</td>\n",
       "      <td>10.22</td>\n",
       "      <td>1.00</td>\n",
       "      <td>NaN</td>\n",
       "      <td>NaN</td>\n",
       "      <td>NaN</td>\n",
       "    </tr>\n",
       "    <tr>\n",
       "      <th>5</th>\n",
       "      <td>Tetris</td>\n",
       "      <td>GB</td>\n",
       "      <td>1989.0</td>\n",
       "      <td>Puzzle</td>\n",
       "      <td>23.20</td>\n",
       "      <td>2.26</td>\n",
       "      <td>4.22</td>\n",
       "      <td>0.58</td>\n",
       "      <td>NaN</td>\n",
       "      <td>NaN</td>\n",
       "      <td>NaN</td>\n",
       "    </tr>\n",
       "    <tr>\n",
       "      <th>9</th>\n",
       "      <td>Duck Hunt</td>\n",
       "      <td>NES</td>\n",
       "      <td>1984.0</td>\n",
       "      <td>Shooter</td>\n",
       "      <td>26.93</td>\n",
       "      <td>0.63</td>\n",
       "      <td>0.28</td>\n",
       "      <td>0.47</td>\n",
       "      <td>NaN</td>\n",
       "      <td>NaN</td>\n",
       "      <td>NaN</td>\n",
       "    </tr>\n",
       "    <tr>\n",
       "      <th>10</th>\n",
       "      <td>Nintendogs</td>\n",
       "      <td>DS</td>\n",
       "      <td>2005.0</td>\n",
       "      <td>Simulation</td>\n",
       "      <td>9.05</td>\n",
       "      <td>10.95</td>\n",
       "      <td>1.93</td>\n",
       "      <td>2.74</td>\n",
       "      <td>NaN</td>\n",
       "      <td>NaN</td>\n",
       "      <td>NaN</td>\n",
       "    </tr>\n",
       "    <tr>\n",
       "      <th>...</th>\n",
       "      <td>...</td>\n",
       "      <td>...</td>\n",
       "      <td>...</td>\n",
       "      <td>...</td>\n",
       "      <td>...</td>\n",
       "      <td>...</td>\n",
       "      <td>...</td>\n",
       "      <td>...</td>\n",
       "      <td>...</td>\n",
       "      <td>...</td>\n",
       "      <td>...</td>\n",
       "    </tr>\n",
       "    <tr>\n",
       "      <th>16710</th>\n",
       "      <td>Samurai Warriors: Sanada Maru</td>\n",
       "      <td>PS3</td>\n",
       "      <td>2016.0</td>\n",
       "      <td>Action</td>\n",
       "      <td>0.00</td>\n",
       "      <td>0.00</td>\n",
       "      <td>0.01</td>\n",
       "      <td>0.00</td>\n",
       "      <td>NaN</td>\n",
       "      <td>NaN</td>\n",
       "      <td>NaN</td>\n",
       "    </tr>\n",
       "    <tr>\n",
       "      <th>16711</th>\n",
       "      <td>LMA Manager 2007</td>\n",
       "      <td>X360</td>\n",
       "      <td>2006.0</td>\n",
       "      <td>Sports</td>\n",
       "      <td>0.00</td>\n",
       "      <td>0.01</td>\n",
       "      <td>0.00</td>\n",
       "      <td>0.00</td>\n",
       "      <td>NaN</td>\n",
       "      <td>NaN</td>\n",
       "      <td>NaN</td>\n",
       "    </tr>\n",
       "    <tr>\n",
       "      <th>16712</th>\n",
       "      <td>Haitaka no Psychedelica</td>\n",
       "      <td>PSV</td>\n",
       "      <td>2016.0</td>\n",
       "      <td>Adventure</td>\n",
       "      <td>0.00</td>\n",
       "      <td>0.00</td>\n",
       "      <td>0.01</td>\n",
       "      <td>0.00</td>\n",
       "      <td>NaN</td>\n",
       "      <td>NaN</td>\n",
       "      <td>NaN</td>\n",
       "    </tr>\n",
       "    <tr>\n",
       "      <th>16713</th>\n",
       "      <td>Spirits &amp; Spells</td>\n",
       "      <td>GBA</td>\n",
       "      <td>2003.0</td>\n",
       "      <td>Platform</td>\n",
       "      <td>0.01</td>\n",
       "      <td>0.00</td>\n",
       "      <td>0.00</td>\n",
       "      <td>0.00</td>\n",
       "      <td>NaN</td>\n",
       "      <td>NaN</td>\n",
       "      <td>NaN</td>\n",
       "    </tr>\n",
       "    <tr>\n",
       "      <th>16714</th>\n",
       "      <td>Winning Post 8 2016</td>\n",
       "      <td>PSV</td>\n",
       "      <td>2016.0</td>\n",
       "      <td>Simulation</td>\n",
       "      <td>0.00</td>\n",
       "      <td>0.00</td>\n",
       "      <td>0.01</td>\n",
       "      <td>0.00</td>\n",
       "      <td>NaN</td>\n",
       "      <td>NaN</td>\n",
       "      <td>NaN</td>\n",
       "    </tr>\n",
       "  </tbody>\n",
       "</table>\n",
       "<p>9027 rows × 11 columns</p>\n",
       "</div>"
      ],
      "text/plain": [
       "                                name platform  year_of_release         genre  \\\n",
       "1                  Super Mario Bros.      NES           1985.0      Platform   \n",
       "4           Pokemon Red/Pokemon Blue       GB           1996.0  Role-Playing   \n",
       "5                             Tetris       GB           1989.0        Puzzle   \n",
       "9                          Duck Hunt      NES           1984.0       Shooter   \n",
       "10                        Nintendogs       DS           2005.0    Simulation   \n",
       "...                              ...      ...              ...           ...   \n",
       "16710  Samurai Warriors: Sanada Maru      PS3           2016.0        Action   \n",
       "16711               LMA Manager 2007     X360           2006.0        Sports   \n",
       "16712        Haitaka no Psychedelica      PSV           2016.0     Adventure   \n",
       "16713               Spirits & Spells      GBA           2003.0      Platform   \n",
       "16714            Winning Post 8 2016      PSV           2016.0    Simulation   \n",
       "\n",
       "       na_sales  eu_sales  jp_sales  other_sales  critic_score user_score  \\\n",
       "1         29.08      3.58      6.81         0.77           NaN        NaN   \n",
       "4         11.27      8.89     10.22         1.00           NaN        NaN   \n",
       "5         23.20      2.26      4.22         0.58           NaN        NaN   \n",
       "9         26.93      0.63      0.28         0.47           NaN        NaN   \n",
       "10         9.05     10.95      1.93         2.74           NaN        NaN   \n",
       "...         ...       ...       ...          ...           ...        ...   \n",
       "16710      0.00      0.00      0.01         0.00           NaN        NaN   \n",
       "16711      0.00      0.01      0.00         0.00           NaN        NaN   \n",
       "16712      0.00      0.00      0.01         0.00           NaN        NaN   \n",
       "16713      0.01      0.00      0.00         0.00           NaN        NaN   \n",
       "16714      0.00      0.00      0.01         0.00           NaN        NaN   \n",
       "\n",
       "      rating  \n",
       "1        NaN  \n",
       "4        NaN  \n",
       "5        NaN  \n",
       "9        NaN  \n",
       "10       NaN  \n",
       "...      ...  \n",
       "16710    NaN  \n",
       "16711    NaN  \n",
       "16712    NaN  \n",
       "16713    NaN  \n",
       "16714    NaN  \n",
       "\n",
       "[9027 rows x 11 columns]"
      ]
     },
     "execution_count": 25,
     "metadata": {},
     "output_type": "execute_result"
    }
   ],
   "source": [
    "games.query('user_score.isna()')"
   ]
  },
  {
   "cell_type": "markdown",
   "metadata": {},
   "source": [
    "У более половины игр нет оценок пользователей."
   ]
  },
  {
   "cell_type": "markdown",
   "metadata": {},
   "source": [
    "Из нижней части таблице видно, что у игр, где нет оценок пользователей, продажи по регионам равны 0 млн копий.\n",
    "\n",
    "Удалять такие данные некорректно, тк как копий продано может быть менее 10 тысяч - а это равно 0.00 млн."
   ]
  },
  {
   "cell_type": "markdown",
   "metadata": {},
   "source": [
    "У игр, которых было продано мало, отсутсвие значений можно объяснить тем, что пользователи просто не поставили оценки играм. Но у более популярных игр отсутсвие данных приводит к вопросам.\n",
    "\n",
    "Поэтому заполню пропуски в `user_score` средним значением по жанру. "
   ]
  },
  {
   "cell_type": "code",
   "execution_count": 26,
   "metadata": {},
   "outputs": [],
   "source": [
    "games['user_score'] = pd.to_numeric(games['user_score'], errors='coerce')"
   ]
  },
  {
   "cell_type": "markdown",
   "metadata": {},
   "source": [
    "Столбец `year_of_release` имеет тип `float`, заменю данных тип на `int`"
   ]
  },
  {
   "cell_type": "code",
   "execution_count": 28,
   "metadata": {},
   "outputs": [],
   "source": [
    "games['year_of_release'] = games['year_of_release'].astype(int)"
   ]
  },
  {
   "cell_type": "markdown",
   "metadata": {},
   "source": [
    "Рейтинг ставит определенная организация. поэтому пропуски заменю на \"не определен\". Здесь пропуски могли появиться по тех причине, либо организация действительно не поставила рейтинг для игры."
   ]
  },
  {
   "cell_type": "markdown",
   "metadata": {},
   "source": [
    "<div class=\"alert alert-info\"> \n",
    "Стоит отметить, что рейтинговое агентство появилось в 1994 году. Следоватльно, до этого года нет рейтинга у игр.</div>"
   ]
  },
  {
   "cell_type": "code",
   "execution_count": 29,
   "metadata": {},
   "outputs": [],
   "source": [
    "games['rating'] = games['rating'].fillna('Не определен')"
   ]
  },
  {
   "cell_type": "markdown",
   "metadata": {},
   "source": [
    "Добавлю столбцец суммарных продаж для игр"
   ]
  },
  {
   "cell_type": "code",
   "execution_count": 30,
   "metadata": {},
   "outputs": [],
   "source": [
    "#games['total_sales'] = games['na_sales'] + games['eu_sales'] +games['jp_sales']+games['other_sales']"
   ]
  },
  {
   "cell_type": "code",
   "execution_count": 31,
   "metadata": {},
   "outputs": [],
   "source": [
    "games['total_sales'] = games[['na_sales', 'eu_sales', 'jp_sales','other_sales']].sum(axis=1)"
   ]
  },
  {
   "cell_type": "markdown",
   "metadata": {},
   "source": [
    "## Шаг 3. Исследовательский анализ данных"
   ]
  },
  {
   "cell_type": "markdown",
   "metadata": {},
   "source": [
    "### Количество выпускаемых игр в разные периоды"
   ]
  },
  {
   "cell_type": "markdown",
   "metadata": {},
   "source": [
    "Сгруппирую данные по году и выведу количество игр, релиз которых был в определенный год"
   ]
  },
  {
   "cell_type": "code",
   "execution_count": 32,
   "metadata": {},
   "outputs": [
    {
     "data": {
      "text/plain": [
       "<AxesSubplot:xlabel='year_of_release'>"
      ]
     },
     "execution_count": 32,
     "metadata": {},
     "output_type": "execute_result"
    },
    {
     "data": {
      "image/png": "[encoded data removed]",
      "text/plain": [
       "<Figure size 432x288 with 1 Axes>"
      ]
     },
     "metadata": {
      "needs_background": "light"
     },
     "output_type": "display_data"
    }
   ],
   "source": [
    "games.groupby('year_of_release')['name'].count().plot(kind='bar')"
   ]
  },
  {
   "cell_type": "markdown",
   "metadata": {},
   "source": [
    "Думаю, для анализа данных часть игр, которые выпускались 1994 года не важна. Индустрия игр еще была не так популярна. Всего игр выпущенных до 1994 года составляет 365 штук. Это около 2% выборки.\n",
    "\n",
    "На графике видно, что левый хвост гистограммы очень узок.\n",
    "\n",
    "Рекордное количество игр было выпущено в 2008-09 годах."
   ]
  },
  {
   "cell_type": "code",
   "execution_count": 33,
   "metadata": {},
   "outputs": [
    {
     "data": {
      "text/plain": [
       "365"
      ]
     },
     "execution_count": 33,
     "metadata": {},
     "output_type": "execute_result"
    }
   ],
   "source": [
    "games.query('year_of_release<1994')['name'].count()"
   ]
  },
  {
   "cell_type": "markdown",
   "metadata": {},
   "source": [
    "### Анализ продаж по платформам"
   ]
  },
  {
   "cell_type": "markdown",
   "metadata": {},
   "source": [
    "Создам список, где будут храниться названия всех платформ."
   ]
  },
  {
   "cell_type": "code",
   "execution_count": 34,
   "metadata": {},
   "outputs": [],
   "source": [
    "platforms = games['platform'].unique()"
   ]
  },
  {
   "cell_type": "markdown",
   "metadata": {},
   "source": [
    "Далее для каждой платформы выведу график, как изменялись продажи игр по годам."
   ]
  },
  {
   "cell_type": "markdown",
   "metadata": {},
   "source": []
  },
  {
   "cell_type": "code",
   "execution_count": 35,
   "metadata": {
    "scrolled": true
   },
   "outputs": [
    {
     "name": "stdout",
     "output_type": "stream",
     "text": [
      "AxesSubplot(0.125,0.125;0.775x0.755)\n",
      "AxesSubplot(0.125,0.125;0.775x0.755)\n",
      "AxesSubplot(0.125,0.125;0.775x0.755)\n",
      "AxesSubplot(0.125,0.125;0.775x0.755)\n",
      "AxesSubplot(0.125,0.125;0.775x0.755)\n",
      "AxesSubplot(0.125,0.125;0.775x0.755)\n",
      "AxesSubplot(0.125,0.125;0.775x0.755)\n",
      "AxesSubplot(0.125,0.125;0.775x0.755)\n",
      "AxesSubplot(0.125,0.125;0.775x0.755)\n",
      "AxesSubplot(0.125,0.125;0.775x0.755)\n",
      "AxesSubplot(0.125,0.125;0.775x0.755)\n",
      "AxesSubplot(0.125,0.125;0.775x0.755)\n",
      "AxesSubplot(0.125,0.125;0.775x0.755)\n",
      "AxesSubplot(0.125,0.125;0.775x0.755)\n",
      "AxesSubplot(0.125,0.125;0.775x0.755)\n",
      "AxesSubplot(0.125,0.125;0.775x0.755)\n",
      "AxesSubplot(0.125,0.125;0.775x0.755)\n",
      "AxesSubplot(0.125,0.125;0.775x0.755)\n",
      "AxesSubplot(0.125,0.125;0.775x0.755)\n",
      "AxesSubplot(0.125,0.125;0.775x0.755)\n",
      "AxesSubplot(0.125,0.125;0.775x0.755)\n",
      "AxesSubplot(0.125,0.125;0.775x0.755)\n",
      "AxesSubplot(0.125,0.125;0.775x0.755)\n",
      "AxesSubplot(0.125,0.125;0.775x0.755)\n",
      "AxesSubplot(0.125,0.125;0.775x0.755)\n",
      "AxesSubplot(0.125,0.125;0.775x0.755)\n",
      "AxesSubplot(0.125,0.125;0.775x0.755)\n",
      "AxesSubplot(0.125,0.125;0.775x0.755)\n",
      "AxesSubplot(0.125,0.125;0.775x0.755)\n",
      "AxesSubplot(0.125,0.125;0.775x0.755)\n",
      "AxesSubplot(0.125,0.125;0.775x0.755)\n"
     ]
    },
    {
     "data": {
      "image/png": "[encoded data removed]",
      "text/plain": [
       "<Figure size 1440x720 with 1 Axes>"
      ]
     },
     "metadata": {
      "needs_background": "light"
     },
     "output_type": "display_data"
    }
   ],
   "source": [
    "\n",
    "for pl in platforms:\n",
    "    print(games.loc[(games['platform']==pl)&(games['year_of_release']>=1994)].groupby('year_of_release')['total_sales'].sum().plot(label=pl, legend=True, \n",
    "                                                                                                figsize=(20,10)))"
   ]
  },
  {
   "cell_type": "markdown",
   "metadata": {},
   "source": [
    "В общем то смотреть все платформы одновременно очень неэффективно. Выберу платформы с наибольшими суммарными продажами c 1994 года и построю графики изменения продаж по годам."
   ]
  },
  {
   "cell_type": "code",
   "execution_count": 36,
   "metadata": {},
   "outputs": [
    {
     "data": {
      "text/plain": [
       "Text(0, 0.5, 'Продажи')"
      ]
     },
     "execution_count": 36,
     "metadata": {},
     "output_type": "execute_result"
    },
    {
     "data": {
      "image/png": "[encoded data removed]",
      "text/plain": [
       "<Figure size 1080x432 with 1 Axes>"
      ]
     },
     "metadata": {
      "needs_background": "light"
     },
     "output_type": "display_data"
    }
   ],
   "source": [
    "games.query('year_of_release>=1994').groupby('platform')['total_sales'].sum().sort_values(ascending=False).plot(kind='bar', \n",
    "                                                                                                                figsize=(15,6)\n",
    "                                                                                                               )\n",
    "plt.title('Суммарные продажи платформ с 1994 года')\n",
    "\n",
    "plt.xlabel('Платформа')\n",
    "\n",
    "plt.ylabel('Продажи', rotation=90)"
   ]
  },
  {
   "cell_type": "markdown",
   "metadata": {},
   "source": [
    "<div class=\"alert alert-info\"> \n",
    "Здесь видно, что лидеры за все время - это первые 6 платформ, поэтому для дальнейшего действия ( для определение пероида жизни платформы ограничусь шестью платформами.)</div>"
   ]
  },
  {
   "cell_type": "code",
   "execution_count": 37,
   "metadata": {},
   "outputs": [],
   "source": [
    "platforms = games.groupby(['platform'])['total_sales'].sum().sort_values(ascending=False).head(6)"
   ]
  },
  {
   "cell_type": "markdown",
   "metadata": {},
   "source": [
    "Далее сделаю списков названия топовых платформ"
   ]
  },
  {
   "cell_type": "code",
   "execution_count": 38,
   "metadata": {},
   "outputs": [],
   "source": [
    "platforms = list(platforms.index.values)"
   ]
  },
  {
   "cell_type": "code",
   "execution_count": 39,
   "metadata": {},
   "outputs": [
    {
     "data": {
      "text/plain": [
       "['PS2', 'X360', 'PS3', 'Wii', 'DS', 'PS']"
      ]
     },
     "execution_count": 39,
     "metadata": {},
     "output_type": "execute_result"
    }
   ],
   "source": [
    "platforms"
   ]
  },
  {
   "cell_type": "markdown",
   "metadata": {},
   "source": [
    "Построю для них распределение продаж по годам."
   ]
  },
  {
   "cell_type": "code",
   "execution_count": 40,
   "metadata": {},
   "outputs": [
    {
     "data": {
      "text/plain": [
       "Text(0, 0.5, 'Продажи')"
      ]
     },
     "execution_count": 40,
     "metadata": {},
     "output_type": "execute_result"
    },
    {
     "data": {
      "image/png": "[encoded data removed]",
      "text/plain": [
       "<Figure size 1080x360 with 1 Axes>"
      ]
     },
     "metadata": {
      "needs_background": "light"
     },
     "output_type": "display_data"
    }
   ],
   "source": [
    "for pl in platforms:\n",
    "    games.query('year_of_release>=1994 and platform==@pl').groupby('year_of_release')['total_sales'].sum().plot(legend=True, \n",
    "                                                                                                                label=pl, \n",
    "                                                                                                                figsize = (15,5))\n",
    "plt.title('Суммарные продажи топ-6 платформ по годам')\n",
    "\n",
    "plt.xlabel('Год')\n",
    "\n",
    "plt.ylabel('Продажи')"
   ]
  },
  {
   "cell_type": "markdown",
   "metadata": {},
   "source": [
    "На графике видно, сколько в целом живут самые популярные платформы. В целом у них жизненный цикл - 10 лет. Исключение составляет DS, очень долгое время данная платформа была в стадии \"внедрения\" (по ЖЦП), и только с 2005 года у нее начался рост. Примерно через каждые пять лет на рынок выхохит новая платформа. "
   ]
  },
  {
   "cell_type": "markdown",
   "metadata": {},
   "source": [
    "Стоит отметить, что странным кажется, что к 2016 году продажи всех игр стремяться к 0. Посмотрю на лидеров рынка за другой период"
   ]
  },
  {
   "cell_type": "markdown",
   "metadata": {},
   "source": [
    "**Далее опледеляю актуальный период**"
   ]
  },
  {
   "cell_type": "markdown",
   "metadata": {},
   "source": [
    "<div class=\"alert alert-info\"> \n",
    "Как я указал ранне, лидирующие платформы занимают первые 6 позиций. PS опережает PS4 более чем в два раза. Платформы, после 6 места до 18 имеют примерно одинаковую популярность</div>"
   ]
  },
  {
   "cell_type": "markdown",
   "metadata": {},
   "source": [
    "<div class=\"alert alert-info\"> \n",
    "Но это данные с 1994 года ,стоит смотреть на распределение платформ в последние 3 года - такое условие поможет выявить популярные платформы на сегодняшний момент и отбросить не популярные</div>"
   ]
  },
  {
   "cell_type": "code",
   "execution_count": 41,
   "metadata": {
    "scrolled": true
   },
   "outputs": [
    {
     "data": {
      "text/plain": [
       "Text(0, 0.5, 'Продажи')"
      ]
     },
     "execution_count": 41,
     "metadata": {},
     "output_type": "execute_result"
    },
    {
     "data": {
      "image/png": "[encoded data removed]",
      "text/plain": [
       "<Figure size 864x432 with 1 Axes>"
      ]
     },
     "metadata": {
      "needs_background": "light"
     },
     "output_type": "display_data"
    }
   ],
   "source": [
    "games.query('2014<=year_of_release<=2016').groupby('platform')['total_sales'].sum().sort_values(ascending=False).plot(kind='bar', \n",
    "                                                                                                                figsize=(12,6)\n",
    "                                                                                                               )\n",
    "plt.title('Суммарные продажи платформ в 2014-2016 гг')\n",
    "\n",
    "plt.xlabel('Платформа')\n",
    "\n",
    "plt.ylabel('Продажи', rotation=90)"
   ]
  },
  {
   "cell_type": "markdown",
   "metadata": {},
   "source": [
    "<div class=\"alert alert-info\"> \n",
    "Таким образом, PS2 вообще не находится в лидерах. Распределение платформ совсем иное.</div>"
   ]
  },
  {
   "cell_type": "markdown",
   "metadata": {},
   "source": [
    "**Поэтому для дальнейшего исследования буду считать актуальным пириод - 2014-2016 годы**"
   ]
  },
  {
   "cell_type": "markdown",
   "metadata": {},
   "source": [
    "<div class=\"alert alert-info\"> \n",
    " С учетом жизненного цикла платформ - на таком промежутке времени будут видны популярные и набирабщие популярность платформы.\n",
    "</div>"
   ]
  },
  {
   "cell_type": "code",
   "execution_count": 42,
   "metadata": {},
   "outputs": [
    {
     "data": {
      "text/plain": [
       "platform\n",
       "PS4     288.15\n",
       "XOne    140.36\n",
       "3DS      86.68\n",
       "PS3      68.18\n",
       "X360     48.22\n",
       "WiiU     42.98\n",
       "PC       27.40\n",
       "PSV      22.40\n",
       "Wii       5.07\n",
       "PSP       0.36\n",
       "Name: total_sales, dtype: float64"
      ]
     },
     "execution_count": 42,
     "metadata": {},
     "output_type": "execute_result"
    }
   ],
   "source": [
    "games.query('2014<=year_of_release<=2016').groupby('platform')['total_sales'].sum().sort_values(ascending=False)"
   ]
  },
  {
   "cell_type": "markdown",
   "metadata": {},
   "source": [
    "<div class=\"alert alert-info\"> \n",
    "Здесь уже в лидерах появилась ps4. Продажи данной платформы в разы превышают конкурентов. За 2014-2016 годы платформа PS4 продала 288 млн копий игр\n",
    "\n",
    "Всего в последние три года на рынке 10 платформ. Ограничу выборку пятью самыми продаваемыми платформами</div>"
   ]
  },
  {
   "cell_type": "code",
   "execution_count": 43,
   "metadata": {},
   "outputs": [],
   "source": [
    "platforms = games.query('2014<=year_of_release<=2016').groupby('platform')['total_sales'].sum().sort_values(ascending=False).head(5)"
   ]
  },
  {
   "cell_type": "code",
   "execution_count": 44,
   "metadata": {},
   "outputs": [],
   "source": [
    "platforms = list(platforms.index.values)"
   ]
  },
  {
   "cell_type": "code",
   "execution_count": 45,
   "metadata": {
    "scrolled": true
   },
   "outputs": [
    {
     "data": {
      "text/plain": [
       "Text(0, 0.5, 'Продажи')"
      ]
     },
     "execution_count": 45,
     "metadata": {},
     "output_type": "execute_result"
    },
    {
     "data": {
      "image/png": "[encoded data removed]",
      "text/plain": [
       "<Figure size 1080x360 with 1 Axes>"
      ]
     },
     "metadata": {
      "needs_background": "light"
     },
     "output_type": "display_data"
    }
   ],
   "source": [
    "for pl in platforms:\n",
    "    games.query('platform==@pl and 2014<=year_of_release<=2016').groupby('year_of_release')['total_sales'].sum().plot(legend=True, \n",
    "                                                                                                                      label=pl,\n",
    "                                                                                                                     figsize=(15,5))\n",
    "\n",
    "plt.title('Суммарные продажи топ-6 платформ в 2014-2016 годах')\n",
    "\n",
    "plt.xlabel('Год')\n",
    "\n",
    "plt.ylabel('Продажи')"
   ]
  },
  {
   "cell_type": "markdown",
   "metadata": {},
   "source": [
    "<div class=\"alert alert-info\"> \n",
    "Таким образом, вижу, что все популярные платформы к 2016 году снизили свои продажи по сравнению с 2015. Но стоит отметить, что 2016 год еще не закончен, перед новогодними праздниками ситуация может измениться. \n",
    "    \n",
    "По-прежнему самая популярная платформа - PS4. Динамика движения XOne и PS4 схожа.\n",
    "</div>"
   ]
  },
  {
   "cell_type": "code",
   "execution_count": 46,
   "metadata": {},
   "outputs": [
    {
     "data": {
      "text/plain": [
       "platform\n",
       "PS4     164\n",
       "XOne     87\n",
       "PSV      85\n",
       "PC       54\n",
       "3DS      46\n",
       "Name: name, dtype: int64"
      ]
     },
     "execution_count": 46,
     "metadata": {},
     "output_type": "execute_result"
    }
   ],
   "source": [
    "games.query('year_of_release==2016').groupby('platform')['name'].count().sort_values(ascending=False).head(5)"
   ]
  },
  {
   "cell_type": "markdown",
   "metadata": {},
   "source": [
    "Также видим, что и игр, выпущенных на PS4 в 2016 г в разы больше по сравнению с остальными платформами. Следовательно, PS4 - это очень перспективная платформа, которую следует развивать. К тому же исходя из данных - жизненный цикл платформы составляет примерно 10 лет, а PS4 выпустилась только в 2013 года, что говорит о большом потенциале роста."
   ]
  },
  {
   "cell_type": "markdown",
   "metadata": {},
   "source": [
    "<div class=\"alert alert-info\"> \n",
    "\n",
    "Топ-3 лидирующие платформы по продажам игр за последние три года - PS4, XOne, 3DS, а по количеству выпущенных игр PS4, XOne, PSV\n",
    "\n",
    "По динамике продаж видно, что у PS4, XOne в 2015 году был пик продаж. У всех лидирующих платформ наблюдается спад продаж. Лидирующей по продажам остается PS4</div>"
   ]
  },
  {
   "cell_type": "markdown",
   "metadata": {},
   "source": [
    "### «Ящик с усами» по глобальным продажам игр в разбивке по платформам"
   ]
  },
  {
   "cell_type": "markdown",
   "metadata": {},
   "source": [
    "Построю боксплоты для каждой платформы по общим продажам на них (2014-2016гг)."
   ]
  },
  {
   "cell_type": "code",
   "execution_count": 47,
   "metadata": {
    "scrolled": true
   },
   "outputs": [
    {
     "data": {
      "text/plain": [
       "<AxesSubplot:>"
      ]
     },
     "execution_count": 47,
     "metadata": {},
     "output_type": "execute_result"
    },
    {
     "data": {
      "image/png": "[encoded data removed]",
      "text/plain": [
       "<Figure size 1080x360 with 1 Axes>"
      ]
     },
     "metadata": {
      "needs_background": "light"
     },
     "output_type": "display_data"
    }
   ],
   "source": [
    "games.query('2014<=year_of_release<=2016 and platform in @platforms').groupby('platform').boxplot(column='total_sales',  subplots=False,rot=90, fontsize=12, figsize=(15,5))\n"
   ]
  },
  {
   "cell_type": "markdown",
   "metadata": {},
   "source": [
    "<div class=\"alert alert-info\">\n",
    "построю боксплоты с уменьшенной шкалой \"у\"\n",
    "</div>"
   ]
  },
  {
   "cell_type": "code",
   "execution_count": 48,
   "metadata": {
    "scrolled": false
   },
   "outputs": [
    {
     "data": {
      "text/plain": [
       "(0.0, 2.0)"
      ]
     },
     "execution_count": 48,
     "metadata": {},
     "output_type": "execute_result"
    },
    {
     "data": {
      "image/png": "[encoded data removed]",
      "text/plain": [
       "<Figure size 1080x360 with 1 Axes>"
      ]
     },
     "metadata": {
      "needs_background": "light"
     },
     "output_type": "display_data"
    }
   ],
   "source": [
    "games.query('2014<=year_of_release<=2016 and platform in @platforms').groupby('platform').boxplot(column='total_sales',\n",
    "                                                                       subplots=False,\n",
    "                                                                       rot=90, \n",
    "                                                                       fontsize=12, \n",
    "                                                                       figsize=(15,5))\n",
    "\n",
    "plt.title('\"Ящики с усами\" по глобальным продажам платформ за 2014-2016 гг')\n",
    "plt.xlabel('Платформа')\n",
    "plt.ylabel('Продажи')\n",
    "plt.ylim(0,2)"
   ]
  },
  {
   "cell_type": "markdown",
   "metadata": {},
   "source": [
    "<div class=\"alert alert-info\"> На графике видно, что:\n",
    "\n",
    "-  у платформ PS4, XOne, X360 медианы продаж находятся примерно на одном уровне. (половина всех игр на платформах за 2014-2016 имели продажи в ~200 тыс копий.\n",
    "\n",
    "Болле того:\n",
    "\n",
    "- PS4 и XOne схожи -  около 3/4 игр распродаются в количестве 700 тыс копий\n",
    "- 3DS и PS3 схожи -  около 3/4 игр распродаются в количестве около 250 тыс копий\n",
    "\n",
    "Но для этих платформ понимание игр-хитов различное:\n",
    "\n",
    "- для PS4 и XOne игры, которые были проданы в количестве более1,5 млн копий - являются очень популярными.\n",
    "- X360 - более ~1.05 млн копий\n",
    "- 3DS - ~550 тыс копий\n",
    "- PS3 - более 750 тыс копий\n",
    "\n",
    "Также смещение квартилей, медиан может быть свидетельством общего количества игр, имеющихся у платформ </div>"
   ]
  },
  {
   "cell_type": "markdown",
   "metadata": {},
   "source": [
    "(прошлый проект) Почти у всех платформ есть \"выбросы\" - игры, которые становились очень популярными. В целом у большей части таких игр продажи составляли до 20 млн копий. Но есть и исключения: так, у некоторых игр продажи составили до 40 млн копий, а у одной игры - 80 млн копий. Это рекордной значение за все время."
   ]
  },
  {
   "cell_type": "markdown",
   "metadata": {},
   "source": [
    "Платформы выпускают много игр, продажи которых выходят за рамки 1,5 межквартильных размаха"
   ]
  },
  {
   "cell_type": "markdown",
   "metadata": {},
   "source": [
    "### Влияние отзывов пользователей и критиков на продажи платформы."
   ]
  },
  {
   "cell_type": "markdown",
   "metadata": {},
   "source": [
    "Возьму самую популярную платформу за все время - PS3.\n"
   ]
  },
  {
   "cell_type": "markdown",
   "metadata": {},
   "source": [
    "<div class=\"alert alert-info\">\n",
    "Рассмотрю самую популярную на текущий момент платформу - PS4\n",
    "</div>"
   ]
  },
  {
   "cell_type": "markdown",
   "metadata": {},
   "source": [
    "#### Оценка пользователей - продажи и оценка критиков - продажи"
   ]
  },
  {
   "cell_type": "markdown",
   "metadata": {},
   "source": [
    "Построю диаграмму рассеяния с помощью метода scatter, по оси х - отображу оценки пользователей по игре, по у - общие продажи данной игры"
   ]
  },
  {
   "cell_type": "code",
   "execution_count": 49,
   "metadata": {
    "scrolled": true
   },
   "outputs": [],
   "source": [
    "ps4 = games.query('2014<=year_of_release<=2016 and platform==\"PS4\"')"
   ]
  },
  {
   "cell_type": "code",
   "execution_count": 50,
   "metadata": {},
   "outputs": [
    {
     "data": {
      "text/plain": [
       "<AxesSubplot:xlabel='user_score', ylabel='total_sales'>"
      ]
     },
     "execution_count": 50,
     "metadata": {},
     "output_type": "execute_result"
    },
    {
     "data": {
      "image/png": "[encoded data removed]",
      "text/plain": [
       "<Figure size 432x288 with 1 Axes>"
      ]
     },
     "metadata": {
      "needs_background": "light"
     },
     "output_type": "display_data"
    }
   ],
   "source": [
    "ps4.plot.scatter(x='user_score', y='total_sales', c='green', alpha=0.5)"
   ]
  },
  {
   "cell_type": "markdown",
   "metadata": {},
   "source": [
    "Явного влияния оценки пользователей на продажи я не вижу. Стоит только сказать, что, действительно, зона, где оценка игр более 6 - намного насыщеннее и в этой зоне больше игр находится за рамками средних продаж."
   ]
  },
  {
   "cell_type": "code",
   "execution_count": 51,
   "metadata": {
    "scrolled": true
   },
   "outputs": [
    {
     "data": {
      "text/plain": [
       "-0.040131589472697356"
      ]
     },
     "execution_count": 51,
     "metadata": {},
     "output_type": "execute_result"
    }
   ],
   "source": [
    "ps4['user_score'].corr(ps4['total_sales'])"
   ]
  },
  {
   "cell_type": "markdown",
   "metadata": {},
   "source": [
    "Аналогичные действия проведу с оценками критиков."
   ]
  },
  {
   "cell_type": "code",
   "execution_count": 52,
   "metadata": {},
   "outputs": [
    {
     "data": {
      "text/plain": [
       "<AxesSubplot:xlabel='critic_score', ylabel='total_sales'>"
      ]
     },
     "execution_count": 52,
     "metadata": {},
     "output_type": "execute_result"
    },
    {
     "data": {
      "image/png": "[encoded data removed]",
      "text/plain": [
       "<Figure size 432x288 with 1 Axes>"
      ]
     },
     "metadata": {
      "needs_background": "light"
     },
     "output_type": "display_data"
    }
   ],
   "source": [
    "ps4.plot.scatter(x='critic_score', y='total_sales', c='green', alpha=0.5)"
   ]
  },
  {
   "cell_type": "code",
   "execution_count": 53,
   "metadata": {},
   "outputs": [
    {
     "data": {
      "text/plain": [
       "0.40266141068104083"
      ]
     },
     "execution_count": 53,
     "metadata": {},
     "output_type": "execute_result"
    }
   ],
   "source": [
    "ps4['critic_score'].corr(ps4['total_sales'])"
   ]
  },
  {
   "cell_type": "markdown",
   "metadata": {},
   "source": [
    "ТАким образом, на платформе PS4 оценки пользователей не влияет на продажи игр. Пользователи скорее следят за мнением критиков и принимают решения, покупать игру игру или нет."
   ]
  },
  {
   "cell_type": "markdown",
   "metadata": {},
   "source": [
    "ОЦенка критиков более весомая и она в большей степени влияет на продажи игр. Сгруппировав данные по оценке критиков, я получил датафрейм, в котором отражается сколько игр было продано с определенной оценкой.\n",
    "\n",
    "На последнем графике уже видна закономерность, что от оценки в 60 баллов - чем больше оценка критика - тем больше игр продается.\n",
    "\n",
    "Кф корреляции равен 0,42, что показывается наличие влияния, но показатель мал, чтобы говорить, что связь сильная."
   ]
  },
  {
   "cell_type": "markdown",
   "metadata": {},
   "source": [
    "**Посмотрю кф корреляции между параметрами на других платформах (топ-5)**"
   ]
  },
  {
   "cell_type": "markdown",
   "metadata": {},
   "source": [
    "Напишу функцию, которая принимает датафрейм и выводит кф корреляции и графики для каждой платформы. (криво, но постарался))"
   ]
  },
  {
   "cell_type": "code",
   "execution_count": 65,
   "metadata": {
    "scrolled": true
   },
   "outputs": [],
   "source": [
    "def graphs(data):\n",
    "    for pl in platforms:\n",
    "        if pl!=\"PS4\":\n",
    "            print(pl)\n",
    "            print('Коэффициент корреляции между оценкой пользователей и продажами: ', data.query('2014<=year_of_release<=2016 and platform==@pl')['user_score'].corr(data.query('2014<=year_of_release<=2016 and platform==@pl')['total_sales']).round(2))\n",
    "            print('Коэффициент корреляции между оценкой критиков и продажами: ', data.query('2014<=year_of_release<=2016 and platform==@pl')['critic_score'].corr(data.query('2014<=year_of_release<=2016 and platform==@pl')['total_sales']).round(2))\n",
    "            fig = plt.figure(figsize=(15, 5))\n",
    "            \n",
    "            ax1=fig.add_subplot(1,2,1)\n",
    "            ax2=fig.add_subplot(1,2,2)\n",
    "            ax1.set(title='user-sales')\n",
    "            ax2.set(title='critic-sales')\n",
    "            pl_user = data.query('2014<=year_of_release<=2016 and platform==@pl').groupby('user_score')['total_sales'].sum()\n",
    "            pl_user = pl_user.to_frame()\n",
    "            pl_user.reset_index(inplace=True)\n",
    "            pl_critic = data.query('2014<=year_of_release<=2016 and platform==@pl').groupby('critic_score')['total_sales'].sum()\n",
    "            pl_critic = pl_critic.to_frame()\n",
    "            pl_critic.reset_index(inplace=True)\n",
    "            ax1.scatter(pl_user['user_score'], pl_user['total_sales'])\n",
    "            ax2.scatter(pl_critic['critic_score'], pl_critic['total_sales'])\n",
    "            plt.show()\n",
    "        else:\n",
    "            continue"
   ]
  },
  {
   "cell_type": "code",
   "execution_count": 66,
   "metadata": {
    "scrolled": true
   },
   "outputs": [
    {
     "name": "stdout",
     "output_type": "stream",
     "text": [
      "XOne\n",
      "Коэффициент корреляции между оценкой пользователей и продажами:  -0.07\n",
      "Коэффициент корреляции между оценкой критиков и продажами:  0.43\n"
     ]
    },
    {
     "data": {
      "image/png": "[encoded data removed]",
      "text/plain": [
       "<Figure size 1080x360 with 2 Axes>"
      ]
     },
     "metadata": {
      "needs_background": "light"
     },
     "output_type": "display_data"
    },
    {
     "name": "stdout",
     "output_type": "stream",
     "text": [
      "3DS\n",
      "Коэффициент корреляции между оценкой пользователей и продажами:  0.22\n",
      "Коэффициент корреляции между оценкой критиков и продажами:  0.31\n"
     ]
    },
    {
     "data": {
      "image/png": "[encoded data removed]",
      "text/plain": [
       "<Figure size 1080x360 with 2 Axes>"
      ]
     },
     "metadata": {
      "needs_background": "light"
     },
     "output_type": "display_data"
    },
    {
     "name": "stdout",
     "output_type": "stream",
     "text": [
      "PS3\n",
      "Коэффициент корреляции между оценкой пользователей и продажами:  -0.17\n",
      "Коэффициент корреляции между оценкой критиков и продажами:  0.45\n"
     ]
    },
    {
     "data": {
      "image/png": "[encoded data removed]",
      "text/plain": [
       "<Figure size 1080x360 with 2 Axes>"
      ]
     },
     "metadata": {
      "needs_background": "light"
     },
     "output_type": "display_data"
    },
    {
     "name": "stdout",
     "output_type": "stream",
     "text": [
      "X360\n",
      "Коэффициент корреляции между оценкой пользователей и продажами:  -0.14\n",
      "Коэффициент корреляции между оценкой критиков и продажами:  0.53\n"
     ]
    },
    {
     "data": {
      "image/png": "[encoded data removed]",
      "text/plain": [
       "<Figure size 1080x360 with 2 Axes>"
      ]
     },
     "metadata": {
      "needs_background": "light"
     },
     "output_type": "display_data"
    }
   ],
   "source": [
    "graphs(games)"
   ]
  },
  {
   "cell_type": "markdown",
   "metadata": {},
   "source": [
    "<div class=\"alert alert-info\">\n",
    "Оценки пользователей не влияют на продажи игр. А вот оценки критиков влияют. Пользователи прислушиваются к их мнению и принимают решение о покупке. \n",
    "\n",
    "У показателя критик-продажи - кф корреляции выше 0,4 (кроме 3DS), что показывает наличие связи и это более явно демострируют графики.\n",
    "\n",
    "Наибольший кф корреляции (0,53) наблюдается на платформе X360. </div>"
   ]
  },
  {
   "cell_type": "markdown",
   "metadata": {},
   "source": [
    "### Распеределение игр по жанрам."
   ]
  },
  {
   "cell_type": "code",
   "execution_count": 67,
   "metadata": {
    "scrolled": true
   },
   "outputs": [
    {
     "data": {
      "text/plain": [
       "<AxesSubplot:xlabel='genre'>"
      ]
     },
     "execution_count": 67,
     "metadata": {},
     "output_type": "execute_result"
    },
    {
     "data": {
      "image/png": "[encoded data removed]",
      "text/plain": [
       "<Figure size 432x288 with 1 Axes>"
      ]
     },
     "metadata": {
      "needs_background": "light"
     },
     "output_type": "display_data"
    }
   ],
   "source": [
    "games.query('2014<=year_of_release<=2016').groupby('genre')['total_sales'].sum().sort_values(ascending=False).plot(kind='bar')"
   ]
  },
  {
   "cell_type": "markdown",
   "metadata": {},
   "source": [
    "Самые популярные жанры - это Action, Shooter. \n",
    "Самый непопулярный жанр - Puzzle"
   ]
  },
  {
   "cell_type": "markdown",
   "metadata": {},
   "source": [
    "<div class=\"alert alert-info\">\n",
    "\n",
    "Вероятно экшн игры рпивлекают своей реалистичностью, игроки погружаются в игру и они испытывают ощущение реальности. Развивают своих игроков и тд. Также экшн игры более дорогие по своей разработке, поэтому, возможно, больше средств уходит и на маркетинг, что привлекает большое количество пользователей</div>"
   ]
  },
  {
   "cell_type": "code",
   "execution_count": 68,
   "metadata": {
    "scrolled": false
   },
   "outputs": [
    {
     "data": {
      "text/plain": [
       "(0.0, 4.0)"
      ]
     },
     "execution_count": 68,
     "metadata": {},
     "output_type": "execute_result"
    },
    {
     "data": {
      "image/png": "[encoded data removed]",
      "text/plain": [
       "<Figure size 1080x360 with 1 Axes>"
      ]
     },
     "metadata": {
      "needs_background": "light"
     },
     "output_type": "display_data"
    }
   ],
   "source": [
    "games.query('2014<=year_of_release<=2016').groupby('genre').boxplot(column='total_sales',\n",
    "                                                                       subplots=False,\n",
    "                                                                       rot=90, \n",
    "                                                                       fontsize=12, \n",
    "                                                                       figsize=(15,5))\n",
    "\n",
    "plt.title('\"Ящики с усами\" по жанрам за 2014-2016 гг')\n",
    "plt.xlabel('Жанр')\n",
    "plt.ylabel('Продажи')\n",
    "plt.ylim(0,4)"
   ]
  },
  {
   "cell_type": "code",
   "execution_count": 69,
   "metadata": {
    "scrolled": false
   },
   "outputs": [
    {
     "data": {
      "text/plain": [
       "mean      0.322113\n",
       "median    0.090000\n",
       "Name: total_sales, dtype: float64"
      ]
     },
     "execution_count": 69,
     "metadata": {},
     "output_type": "execute_result"
    }
   ],
   "source": [
    "games.query('2014<=year_of_release<=2016 and genre==\"Action\"')['total_sales'].agg(['mean', 'median'])"
   ]
  },
  {
   "cell_type": "code",
   "execution_count": 70,
   "metadata": {
    "scrolled": false
   },
   "outputs": [
    {
     "data": {
      "text/plain": [
       "mean      1.335469\n",
       "median    0.515000\n",
       "Name: total_sales, dtype: float64"
      ]
     },
     "execution_count": 70,
     "metadata": {},
     "output_type": "execute_result"
    }
   ],
   "source": [
    "games.query('2014<=year_of_release<=2016 and genre==\"Shooter\"')['total_sales'].agg(['mean', 'median'])"
   ]
  },
  {
   "cell_type": "markdown",
   "metadata": {},
   "source": [
    "<div class=\"alert alert-info\">\n",
    "Среднее очень сильно отличается от медианного значения - значит, есть игры, которые продавались большим тиражом и стали очень популярные, не смотря на то, что половина игр жанра экшн была продажа в количестве по 100 тыс копий\n",
    "\n",
    "у шутеров разница между средним и медианой не такая большая как у экшн игр, но все же почти в три раза среднее больше медианы.\n",
    "\n",
    "Значит, так же есть игры, которые стали очень популярные и продались в большом количестве.</div>"
   ]
  },
  {
   "cell_type": "markdown",
   "metadata": {},
   "source": [
    "<div class=\"alert alert-info\">\n",
    "Из боксплотов можно сделать такие выводы:\n",
    "    \n",
    "Распределение выпускаемых игр по жанрам отличается между собой.\n",
    "    \n",
    "Например, видна разница между шутерами и экшн играми:\n",
    "    \n",
    "У шутеров 75% игр в этом жанре были проданы в размере 1,6 млн копий\n",
    "В то время как у экшн игр 75% игр лежит в диапазоне продаж до ~300 тыс копий.\n",
    "Но не смотря на это экшн - самый продаваемый жанр. \n",
    "    \n",
    "Также стоит посмотреть на количество игр в жанре\n",
    "\n",
    "</div>"
   ]
  },
  {
   "cell_type": "code",
   "execution_count": 71,
   "metadata": {
    "scrolled": true
   },
   "outputs": [
    {
     "data": {
      "text/plain": [
       "count    620\n",
       "Name: genre, dtype: int64"
      ]
     },
     "execution_count": 71,
     "metadata": {},
     "output_type": "execute_result"
    }
   ],
   "source": [
    "games.query('2014<=year_of_release<=2016 and genre==\"Action\"')['genre'].agg(['count'])"
   ]
  },
  {
   "cell_type": "code",
   "execution_count": 72,
   "metadata": {},
   "outputs": [
    {
     "data": {
      "text/plain": [
       "count    128\n",
       "Name: genre, dtype: int64"
      ]
     },
     "execution_count": 72,
     "metadata": {},
     "output_type": "execute_result"
    }
   ],
   "source": [
    "games.query('2014<=year_of_release<=2016 and genre==\"Shooter\"')['genre'].agg(['count'])"
   ]
  },
  {
   "cell_type": "markdown",
   "metadata": {},
   "source": [
    "<div class=\"alert alert-info\">\n",
    "За 2014-2016 годы жкшн игр было выпущено 620 штук, в то время как шутеров - 128. Почти в 5 раз меньше.\n",
    "    \n",
    "Но из столбчатой диаграммы видно, что шутеры и экшн игры по продаваемости находятся рядом.\n",
    "    \n",
    "Значит, шутеры при их небольшом количестве продавались намного эффетивнее. При 128 шт игр - продажи сходи с экшн.\n",
    "    \n",
    "Наиболее прибыльные игры - это шутеры. Они становятся очень популярные\n",
    "</div>"
   ]
  },
  {
   "cell_type": "markdown",
   "metadata": {},
   "source": [
    "### Вывод"
   ]
  },
  {
   "cell_type": "markdown",
   "metadata": {},
   "source": [
    "- с 1994 года количество выпускаемых игр стало стремительно расти\n",
    "- В 2007-2008 годах был достигнут пик продаж игр на приставки\n",
    "- Жизненный цикл платформы составляет 10 лет, через каждые пять лет на рынок выхохит новая платформа\n",
    "- Пользователи при покупке игр берут во внимание оценки критиков, что влияет на продажи.\n",
    "- Наиболее популярный жанр - action, но наиболее прибыльный (количество-продажи) shooter. При небольшом количестве игр - продажи схожи с экшн играми.\n",
    "- Наименее популярный жанр - puzzle\n"
   ]
  },
  {
   "cell_type": "markdown",
   "metadata": {},
   "source": [
    "## Портрет пользователя каждого региона"
   ]
  },
  {
   "cell_type": "markdown",
   "metadata": {},
   "source": [
    "### Самые популярные платформы (топ-5) в регионах, cамые популярные жанры (топ-5), рейтинг ESRB"
   ]
  },
  {
   "cell_type": "code",
   "execution_count": 73,
   "metadata": {},
   "outputs": [],
   "source": [
    "regions=['na_sales', 'eu_sales', 'jp_sales']"
   ]
  },
  {
   "cell_type": "code",
   "execution_count": 74,
   "metadata": {},
   "outputs": [],
   "source": [
    "def pop_pl(data):\n",
    "    for i in regions:\n",
    "        print(i)\n",
    "        fig = plt.figure(figsize=(15, 3))\n",
    "        ax1=fig.add_subplot(1,3,1)\n",
    "        ax2=fig.add_subplot(1,3,2)\n",
    "        ax3=fig.add_subplot(1,3,3)\n",
    "        ax1.set(title='pop_pl')\n",
    "        ax2.set(title='pop_genres')\n",
    "        ax3.set(title='pop_rating')\n",
    "        plat = data.query('2014<=year_of_release<=2016').groupby('platform')[i].sum().sort_values(ascending=False).head(5)\n",
    "        plat = plat.to_frame()\n",
    "        plat.reset_index(inplace=True)\n",
    "        genres = data.query('2014<=year_of_release<=2016').groupby('genre')[i].sum().sort_values(ascending=False).head(5)\n",
    "        genres= genres.to_frame()\n",
    "        genres.reset_index(inplace=True)\n",
    "        rating =data.query('2014<=year_of_release<=2016').groupby('rating')[i].sum().sort_values(ascending=False).head(5)\n",
    "        rating = rating.to_frame()\n",
    "        rating.reset_index(inplace=True)\n",
    "        ax1.bar(plat['platform'], plat[i], color = 'green')\n",
    "        ax2.bar(genres['genre'], genres[i], color = 'blue')\n",
    "        ax3.bar(rating['rating'], rating[i], color = 'pink')\n",
    "        plt.show()"
   ]
  },
  {
   "cell_type": "code",
   "execution_count": 75,
   "metadata": {
    "scrolled": false
   },
   "outputs": [
    {
     "name": "stdout",
     "output_type": "stream",
     "text": [
      "na_sales\n"
     ]
    },
    {
     "data": {
      "image/png": "[encoded data removed]",
      "text/plain": [
       "<Figure size 1080x216 with 3 Axes>"
      ]
     },
     "metadata": {
      "needs_background": "light"
     },
     "output_type": "display_data"
    },
    {
     "name": "stdout",
     "output_type": "stream",
     "text": [
      "eu_sales\n"
     ]
    },
    {
     "data": {
      "image/png": "[encoded data removed]",
      "text/plain": [
       "<Figure size 1080x216 with 3 Axes>"
      ]
     },
     "metadata": {
      "needs_background": "light"
     },
     "output_type": "display_data"
    },
    {
     "name": "stdout",
     "output_type": "stream",
     "text": [
      "jp_sales\n"
     ]
    },
    {
     "data": {
      "image/png": "[encoded data removed]",
      "text/plain": [
       "<Figure size 1080x216 with 3 Axes>"
      ]
     },
     "metadata": {
      "needs_background": "light"
     },
     "output_type": "display_data"
    }
   ],
   "source": [
    "pop_pl(games)"
   ]
  },
  {
   "cell_type": "markdown",
   "metadata": {},
   "source": [
    "<div class=\"alert alert-info\"> Посмотрю для каждого региона долю присуствия топ-5 платформ.\n",
    "</div>"
   ]
  },
  {
   "cell_type": "code",
   "execution_count": 76,
   "metadata": {},
   "outputs": [],
   "source": [
    "na_sales_pl = games.query('2014<=year_of_release<=2016').groupby('platform')['na_sales'].sum().to_frame()"
   ]
  },
  {
   "cell_type": "code",
   "execution_count": 77,
   "metadata": {},
   "outputs": [],
   "source": [
    "na_sales_pl['percent']=((na_sales_pl['na_sales']/games.query('2014<=year_of_release<=2016')['na_sales'].sum())*100).round(2)"
   ]
  },
  {
   "cell_type": "code",
   "execution_count": 78,
   "metadata": {
    "scrolled": true
   },
   "outputs": [
    {
     "data": {
      "text/html": [
       "<div>\n",
       "<style scoped>\n",
       "    .dataframe tbody tr th:only-of-type {\n",
       "        vertical-align: middle;\n",
       "    }\n",
       "\n",
       "    .dataframe tbody tr th {\n",
       "        vertical-align: top;\n",
       "    }\n",
       "\n",
       "    .dataframe thead th {\n",
       "        text-align: right;\n",
       "    }\n",
       "</style>\n",
       "<table border=\"1\" class=\"dataframe\">\n",
       "  <thead>\n",
       "    <tr style=\"text-align: right;\">\n",
       "      <th></th>\n",
       "      <th>na_sales</th>\n",
       "      <th>percent</th>\n",
       "    </tr>\n",
       "    <tr>\n",
       "      <th>platform</th>\n",
       "      <th></th>\n",
       "      <th></th>\n",
       "    </tr>\n",
       "  </thead>\n",
       "  <tbody>\n",
       "    <tr>\n",
       "      <th>PS4</th>\n",
       "      <td>98.61</td>\n",
       "      <td>34.71</td>\n",
       "    </tr>\n",
       "    <tr>\n",
       "      <th>XOne</th>\n",
       "      <td>81.27</td>\n",
       "      <td>28.60</td>\n",
       "    </tr>\n",
       "    <tr>\n",
       "      <th>X360</th>\n",
       "      <td>28.30</td>\n",
       "      <td>9.96</td>\n",
       "    </tr>\n",
       "    <tr>\n",
       "      <th>3DS</th>\n",
       "      <td>22.64</td>\n",
       "      <td>7.97</td>\n",
       "    </tr>\n",
       "    <tr>\n",
       "      <th>PS3</th>\n",
       "      <td>22.05</td>\n",
       "      <td>7.76</td>\n",
       "    </tr>\n",
       "  </tbody>\n",
       "</table>\n",
       "</div>"
      ],
      "text/plain": [
       "          na_sales  percent\n",
       "platform                   \n",
       "PS4          98.61    34.71\n",
       "XOne         81.27    28.60\n",
       "X360         28.30     9.96\n",
       "3DS          22.64     7.97\n",
       "PS3          22.05     7.76"
      ]
     },
     "execution_count": 78,
     "metadata": {},
     "output_type": "execute_result"
    }
   ],
   "source": [
    "na_sales_pl.sort_values(by='percent', ascending=False).head(5)"
   ]
  },
  {
   "cell_type": "markdown",
   "metadata": {},
   "source": [
    "<div class=\"alert alert-info\">\n",
    "PS4 занимает ~35% рынка платформ в Америке, второе место занимает XOne</div>"
   ]
  },
  {
   "cell_type": "code",
   "execution_count": 79,
   "metadata": {},
   "outputs": [],
   "source": [
    "eu_sales_pl = games.query('2014<=year_of_release<=2016').groupby('platform')['eu_sales'].sum().to_frame()"
   ]
  },
  {
   "cell_type": "code",
   "execution_count": 80,
   "metadata": {},
   "outputs": [],
   "source": [
    "eu_sales_pl['percent']=((eu_sales_pl['eu_sales']/games.query('2014<=year_of_release<=2016')['eu_sales'].sum())*100).round(2)"
   ]
  },
  {
   "cell_type": "code",
   "execution_count": 81,
   "metadata": {
    "scrolled": false
   },
   "outputs": [
    {
     "data": {
      "text/html": [
       "<div>\n",
       "<style scoped>\n",
       "    .dataframe tbody tr th:only-of-type {\n",
       "        vertical-align: middle;\n",
       "    }\n",
       "\n",
       "    .dataframe tbody tr th {\n",
       "        vertical-align: top;\n",
       "    }\n",
       "\n",
       "    .dataframe thead th {\n",
       "        text-align: right;\n",
       "    }\n",
       "</style>\n",
       "<table border=\"1\" class=\"dataframe\">\n",
       "  <thead>\n",
       "    <tr style=\"text-align: right;\">\n",
       "      <th></th>\n",
       "      <th>eu_sales</th>\n",
       "      <th>percent</th>\n",
       "    </tr>\n",
       "    <tr>\n",
       "      <th>platform</th>\n",
       "      <th></th>\n",
       "      <th></th>\n",
       "    </tr>\n",
       "  </thead>\n",
       "  <tbody>\n",
       "    <tr>\n",
       "      <th>PS4</th>\n",
       "      <td>130.04</td>\n",
       "      <td>48.00</td>\n",
       "    </tr>\n",
       "    <tr>\n",
       "      <th>XOne</th>\n",
       "      <td>46.25</td>\n",
       "      <td>17.07</td>\n",
       "    </tr>\n",
       "    <tr>\n",
       "      <th>PS3</th>\n",
       "      <td>25.54</td>\n",
       "      <td>9.43</td>\n",
       "    </tr>\n",
       "    <tr>\n",
       "      <th>PC</th>\n",
       "      <td>18.22</td>\n",
       "      <td>6.72</td>\n",
       "    </tr>\n",
       "    <tr>\n",
       "      <th>3DS</th>\n",
       "      <td>16.12</td>\n",
       "      <td>5.95</td>\n",
       "    </tr>\n",
       "  </tbody>\n",
       "</table>\n",
       "</div>"
      ],
      "text/plain": [
       "          eu_sales  percent\n",
       "platform                   \n",
       "PS4         130.04    48.00\n",
       "XOne         46.25    17.07\n",
       "PS3          25.54     9.43\n",
       "PC           18.22     6.72\n",
       "3DS          16.12     5.95"
      ]
     },
     "execution_count": 81,
     "metadata": {},
     "output_type": "execute_result"
    }
   ],
   "source": [
    "eu_sales_pl.sort_values(by='percent', ascending=False).head(5)"
   ]
  },
  {
   "cell_type": "markdown",
   "metadata": {},
   "source": [
    "<div class=\"alert alert-info\">\n",
    "Доля рынка PS4 в Европе в три раза превышает XOne. \n",
    "</div>"
   ]
  },
  {
   "cell_type": "code",
   "execution_count": 82,
   "metadata": {},
   "outputs": [],
   "source": [
    "jp_sales_pl = games.query('2014<=year_of_release<=2016').groupby('platform')['jp_sales'].sum().to_frame()"
   ]
  },
  {
   "cell_type": "code",
   "execution_count": 83,
   "metadata": {},
   "outputs": [],
   "source": [
    "jp_sales_pl['percent']=((jp_sales_pl['jp_sales']/games.query('2014<=year_of_release<=2016')['jp_sales'].sum())*100).round(2)"
   ]
  },
  {
   "cell_type": "code",
   "execution_count": 84,
   "metadata": {
    "scrolled": false
   },
   "outputs": [
    {
     "data": {
      "text/html": [
       "<div>\n",
       "<style scoped>\n",
       "    .dataframe tbody tr th:only-of-type {\n",
       "        vertical-align: middle;\n",
       "    }\n",
       "\n",
       "    .dataframe tbody tr th {\n",
       "        vertical-align: top;\n",
       "    }\n",
       "\n",
       "    .dataframe thead th {\n",
       "        text-align: right;\n",
       "    }\n",
       "</style>\n",
       "<table border=\"1\" class=\"dataframe\">\n",
       "  <thead>\n",
       "    <tr style=\"text-align: right;\">\n",
       "      <th></th>\n",
       "      <th>jp_sales</th>\n",
       "      <th>percent</th>\n",
       "    </tr>\n",
       "    <tr>\n",
       "      <th>platform</th>\n",
       "      <th></th>\n",
       "      <th></th>\n",
       "    </tr>\n",
       "  </thead>\n",
       "  <tbody>\n",
       "    <tr>\n",
       "      <th>3DS</th>\n",
       "      <td>44.24</td>\n",
       "      <td>47.52</td>\n",
       "    </tr>\n",
       "    <tr>\n",
       "      <th>PS4</th>\n",
       "      <td>15.02</td>\n",
       "      <td>16.13</td>\n",
       "    </tr>\n",
       "    <tr>\n",
       "      <th>PSV</th>\n",
       "      <td>14.54</td>\n",
       "      <td>15.62</td>\n",
       "    </tr>\n",
       "    <tr>\n",
       "      <th>PS3</th>\n",
       "      <td>11.22</td>\n",
       "      <td>12.05</td>\n",
       "    </tr>\n",
       "    <tr>\n",
       "      <th>WiiU</th>\n",
       "      <td>7.31</td>\n",
       "      <td>7.85</td>\n",
       "    </tr>\n",
       "  </tbody>\n",
       "</table>\n",
       "</div>"
      ],
      "text/plain": [
       "          jp_sales  percent\n",
       "platform                   \n",
       "3DS          44.24    47.52\n",
       "PS4          15.02    16.13\n",
       "PSV          14.54    15.62\n",
       "PS3          11.22    12.05\n",
       "WiiU          7.31     7.85"
      ]
     },
     "execution_count": 84,
     "metadata": {},
     "output_type": "execute_result"
    }
   ],
   "source": [
    "jp_sales_pl.sort_values(by='percent', ascending=False).head(5)"
   ]
  },
  {
   "cell_type": "markdown",
   "metadata": {},
   "source": [
    "<div class=\"alert alert-info\">\n",
    "В Японии самой популярной платформой является 3DS, ее доля рынка почти 50%\n",
    "</div>"
   ]
  },
  {
   "cell_type": "markdown",
   "metadata": {},
   "source": [
    "#### Платформы"
   ]
  },
  {
   "cell_type": "markdown",
   "metadata": {},
   "source": [
    "<div class=\"alert alert-info\">\n",
    "<b> вывод</b> Таким образом, в Америке наиболее популярны PS4 и XOne. ПРимерно одинаковую популярность занимают X360 ,3DS, PS3\n",
    "    \n",
    "В Европе же лидирующие позиции ханимают PS4, XOne. (причем у PS4 продажи в 3 раза больше чем у XOne) Также в топ входят PS3, PC И 3DS. \n",
    "    \n",
    "Ситуация в Японии отличается от Америки и Европы.\n",
    "\n",
    "Платформа 3DS лидирует.(ее продажи более чем в 2 раза превышают вторую по популярности платформу PS4). PS4, PSV и PS3 примерно одинаковы по популярности. \n",
    "    \n",
    "Также в топ входит WiiU, которая не наблюдалась в лидерах в Америке и в Европе.\n",
    "\n",
    "Получается, предпочтения японцев в выборе платформ отличаются от американцев и европейцев.\n",
    "    \n",
    "Такое различие может говорить об оринетации платформ на разные рынки. Ведь PS4 выпустилась в 2013 году и ее продажи начались в США, Европе, Южной Америке, России и Австралии, и только в 2014 году в Японии.\n",
    "    \n",
    "А вот 3DS - поступила в продажу в Японии 2011 года и только потом в США\n",
    "</div>"
   ]
  },
  {
   "cell_type": "markdown",
   "metadata": {},
   "source": [
    "В Америке X360 и PS2 - две наиболее популярные платформы. Также в топ входят Wii, PS3 И DS."
   ]
  },
  {
   "cell_type": "markdown",
   "metadata": {},
   "source": [
    "В Европе же лидирубщие позиции ханимают PS2, PS3. Также в топ входят X360, Wii И PS.\n",
    "\n",
    "Платформа DS не в ходит топ-5 в отличие от Америке."
   ]
  },
  {
   "cell_type": "markdown",
   "metadata": {},
   "source": [
    "Ситуация в Японии кардинально отличается от Америки и Европы. \n",
    "\n",
    "Платформа DS лидирует. PS и PS2 одинаковы по поулярности. Также В топ входят две платформы, которые не были в лидерах в Америке и в Европе - SNES и 3DS.\n",
    "\n",
    "То есть можно сделать вывод, что предпочтения японцев в выборе платформ отличаются от Америки и Европы."
   ]
  },
  {
   "cell_type": "markdown",
   "metadata": {},
   "source": [
    "#### Жанры"
   ]
  },
  {
   "cell_type": "markdown",
   "metadata": {},
   "source": [
    "<div class=\"alert alert-info\">\n",
    "<b>\n",
    "    вывод</b> В Америке лидируют шутеры, затем идут экшн игры, спорт, ролевые и микс\n",
    "    \n",
    "В Европе первое место занимают экшн игры, потом идут шутеры, спорт, ролевые и, в отличие от Америки, гонки (racing).\n",
    "    \n",
    "В Америке и Европе портреты потребителей по жанрам примерно схожи, чего нельзя сказать о Японии.\n",
    "    \n",
    "В лидерах здесь ролевые игры и экшн. Бои, микс и шутеры в разы менее популярны.\n",
    "</div>"
   ]
  },
  {
   "cell_type": "markdown",
   "metadata": {},
   "source": [
    "В целом жанровые предпочтения в Америке и Европе идентичны. Action- самый популярный жанр в данных регионах."
   ]
  },
  {
   "cell_type": "markdown",
   "metadata": {},
   "source": [
    "А вот в Японии с большим отрывом лидируют ролевые игры на пк. Причем продажи по данному жанру более чем в 2 раза превышают след по популярности жанр - action. Остальные 4 жанры совпадают с Америкой."
   ]
  },
  {
   "cell_type": "markdown",
   "metadata": {},
   "source": [
    "#### Влияние рейтинга на продажи"
   ]
  },
  {
   "cell_type": "markdown",
   "metadata": {},
   "source": [
    "<div class=\"alert alert-info\">\n",
    "Америка и Европа схожи по свои предпочтениям в рейтинге игр. Так Распределение игр по рейтингу примерно идентичное. \n",
    "Лидируют игры с рейтингом М - для взрослых. Второе место занимают игры без рейтинга.\n",
    "\n",
    "В Японии ситуация кардинально отличается, там безоговорочным фаворитом являются игры без рейтинга.\n",
    "\n",
    "Стоит сказать, что ESRB - это огранизация, целевая задача которой - определять рейтинги игр для США и Канады. Что объясняет высокий показатель игр без рейтинга в Японии.\n",
    "\n",
    "Помимо этого, ESRB выставляет рейтинг офлайн-играм. В онлайн-играх, содержимое которых может модифицироваться пользователями, используется замечание «Game Experience May Change During Online Play», которое предупреждает покупателей о том, что пользовательский контент в игре не проходил рецензирования ESRB.\n",
    "\n",
    "Таким образом, игры без рейтинга могут служить ориентиром, что игра была выпущена для японской аудитории, либо она является онлайн-игрой.</div>"
   ]
  },
  {
   "cell_type": "markdown",
   "metadata": {},
   "source": [
    "Весомая часть игр составлют игры с неизвестным рейтингом. Это никакой информации при интерпретации данных не даст, поэтому построю графики только с указанными рейтингами."
   ]
  },
  {
   "cell_type": "markdown",
   "metadata": {},
   "source": [
    "В целом в данных регионах распределение рейтингов схоже.\n",
    "\n",
    "\n",
    "Лидируют игры с рейтингом Е - это «E» («Everyone») — «Для всех»: Содержание вполне подходит для всех возрастов. Такие игры могут понравиться и взрослым. Игры с этим рейтингом могут содержать минимальное насилие, в основном «мультяшного» характера.\n",
    "\n",
    "В Европе и Америке игры Т и М почти одинаковы по популярности, а вот в Японии игры-Т - намного популярнее игр М.\n"
   ]
  },
  {
   "cell_type": "markdown",
   "metadata": {},
   "source": [
    "### Вывод"
   ]
  },
  {
   "cell_type": "markdown",
   "metadata": {},
   "source": [
    "**Портрет пользователя - Америка**:\n",
    "\n",
    "Самые популярные платформы:\n",
    "- PS4, XOne (34%и 28% рынка)\n",
    "\n",
    "Самые популярный жанр:\n",
    "- Shooter, Action\n",
    "\n",
    "Три самые популярные рейтинга:\n",
    "- М(«Для взрослых»), без рейтинга (возможно, это онлайн-игры), Е (для всех)"
   ]
  },
  {
   "cell_type": "markdown",
   "metadata": {},
   "source": [
    "**Портрет пользователя - Европа**:\n",
    "\n",
    "Самая популярная платформа:\n",
    "- PS4 (48% рынка)\n",
    "\n",
    "Самые популярный жанр:\n",
    "\n",
    "- Action, Shooter\n",
    "\n",
    "Три самые популярные рейтинга:\n",
    "- М(«Для взрослых»), без рейтинга (возможно, это онлайн-игры), Е (для всех)"
   ]
  },
  {
   "cell_type": "markdown",
   "metadata": {},
   "source": [
    "**Портрет пользователя - Япония**:\n",
    "\n",
    "Самые популярная платформа:\n",
    "- 3DS (47% рынка)\n",
    "\n",
    "Самые популярные жанры:\n",
    "\n",
    "- Role-Playing, Action\n",
    "\n",
    "Три самые популярные рейтинга:\n",
    "- Е (Для всех»), Т(«Подросткам»), М(«Для взрослых»)"
   ]
  },
  {
   "cell_type": "markdown",
   "metadata": {},
   "source": [
    "## Проверка гипотез"
   ]
  },
  {
   "cell_type": "markdown",
   "metadata": {},
   "source": [
    "### Средние пользовательские рейтинги платформ Xbox One и PC одинаковые"
   ]
  },
  {
   "cell_type": "markdown",
   "metadata": {},
   "source": [
    "<div class=\"alert alert-info\">\n",
    "Ho = средние пользовательские рейтинги платформ Xbox One и PC одинаковые (Xср=Yср)\n",
    "    \n",
    "H1 = средние пользовательские рейтинги платформ Xbox One и PC не равны друг другу (Xср не равен Yср)\n",
    "    \n",
    "Критическая область будет двухсторонней\n",
    "</div>\n"
   ]
  },
  {
   "cell_type": "code",
   "execution_count": 85,
   "metadata": {},
   "outputs": [],
   "source": [
    "alpha=0.05"
   ]
  },
  {
   "cell_type": "markdown",
   "metadata": {},
   "source": [
    "Чтобы сравнивать средние двух выборок необходимо, чтобы средние их выборок были нормально распределены вокруг среднего ген совокупности.\n",
    "\n",
    "Предположим, что это условие выполняется."
   ]
  },
  {
   "cell_type": "code",
   "execution_count": 86,
   "metadata": {},
   "outputs": [],
   "source": [
    "results = st.ttest_ind(games.query('2014<=year_of_release<=2016 and platform==\"XOne\" and user_score.isna() == False')['user_score'], \n",
    "                       games.query('2014<=year_of_release<=2016 and platform==\"PC\" and user_score.isna() == False')['user_score'])"
   ]
  },
  {
   "cell_type": "code",
   "execution_count": 87,
   "metadata": {},
   "outputs": [
    {
     "name": "stdout",
     "output_type": "stream",
     "text": [
      "p-значение: 0.1269024252036148\n"
     ]
    }
   ],
   "source": [
    "print('p-значение:', results.pvalue)"
   ]
  },
  {
   "cell_type": "code",
   "execution_count": 88,
   "metadata": {},
   "outputs": [
    {
     "name": "stdout",
     "output_type": "stream",
     "text": [
      "Не получилось отвергнуть нулевую гипотезу\n"
     ]
    }
   ],
   "source": [
    "if results.pvalue<alpha:\n",
    "    print('Отвергаем нулевую гипотезу')\n",
    "else:\n",
    "    print('Не получилось отвергнуть нулевую гипотезу')"
   ]
  },
  {
   "cell_type": "markdown",
   "metadata": {},
   "source": [
    "<div class=\"alert alert-info\">\n",
    "\n",
    "pvalue (12%) больше уровня значимости (5%). Это означает, что вероятность получить одинаковые средние из двух выборок весома.\n",
    "\n",
    "в 12 из 100 случаев можем получить одинаковые средние для пользовательских рейтингов у данных платформ.\n",
    "\n",
    "Поэтому на имеющихся данных, на уровне значимости 5% (уровне доверия 95%) нет оснований отвергнуть\n",
    "нулевую гипотезу\n",
    "    \n",
    "</div>"
   ]
  },
  {
   "cell_type": "code",
   "execution_count": 89,
   "metadata": {},
   "outputs": [
    {
     "data": {
      "text/plain": [
       "6.594545454545456"
      ]
     },
     "execution_count": 89,
     "metadata": {},
     "output_type": "execute_result"
    }
   ],
   "source": [
    "games.query('2014<=year_of_release<=2016 and platform==\"XOne\" and user_score.isna() == False')['user_score'].mean()"
   ]
  },
  {
   "cell_type": "code",
   "execution_count": 90,
   "metadata": {},
   "outputs": [
    {
     "data": {
      "text/plain": [
       "6.316260162601626"
      ]
     },
     "execution_count": 90,
     "metadata": {},
     "output_type": "execute_result"
    }
   ],
   "source": [
    "games.query('2014<=year_of_release<=2016 and platform==\"PC\" and user_score.isna() == False')['user_score'].mean()"
   ]
  },
  {
   "cell_type": "markdown",
   "metadata": {},
   "source": [
    "<div class=\"alert alert-info\">\n",
    "Если проверить средние данных выборок, то, действительно, средние значение пользовательских оценок очень близки между собой. \n",
    "\n",
    "Поэтому мправедливо не отвергать нулевую гипотезу\n",
    "</div"
   ]
  },
  {
   "cell_type": "markdown",
   "metadata": {},
   "source": [
    "### Средние пользовательские рейтинги жанров Action (англ. «действие», экшен-игры) и Sports (англ. «спортивные соревнования») разные."
   ]
  },
  {
   "cell_type": "markdown",
   "metadata": {},
   "source": [
    "<div class=\"alert alert-info\">\n",
    "    \n",
    "    Попытка номер 3))\n",
    "Ho = средние пользовательские рейтинги жанров Action и Sports одинаковые(Xср = Yср)\n",
    "    \n",
    "H1 = средние пользовательские рейтинги жанров Action и Sports разные (Xср не равен Yср)\n",
    "    \n",
    "\n",
    "</div>\n"
   ]
  },
  {
   "cell_type": "code",
   "execution_count": 92,
   "metadata": {},
   "outputs": [],
   "source": [
    "alpha=0.05"
   ]
  },
  {
   "cell_type": "code",
   "execution_count": 93,
   "metadata": {},
   "outputs": [],
   "source": [
    "results = st.ttest_ind(games.query( '2014<=year_of_release<=2016 and genre==\"Action\" and user_score.isna() == False')['user_score'], \n",
    "                       games.query( '2014<=year_of_release<=2016 and genre==\"Sports\" and user_score.isna() == False')['user_score'])"
   ]
  },
  {
   "cell_type": "code",
   "execution_count": 94,
   "metadata": {},
   "outputs": [
    {
     "name": "stdout",
     "output_type": "stream",
     "text": [
      "p-значение: 2.1177739029231719e-19\n"
     ]
    }
   ],
   "source": [
    "print('p-значение:', results.pvalue)"
   ]
  },
  {
   "cell_type": "code",
   "execution_count": 95,
   "metadata": {
    "scrolled": false
   },
   "outputs": [
    {
     "name": "stdout",
     "output_type": "stream",
     "text": [
      "Отвергаем нулевую гипотезу\n"
     ]
    }
   ],
   "source": [
    "if results.pvalue<alpha:\n",
    "    print('Отвергаем нулевую гипотезу')\n",
    "else:\n",
    "    print('Не получилось отвергнуть нулевую гипотезу')"
   ]
  },
  {
   "cell_type": "markdown",
   "metadata": {},
   "source": [
    "<div class=\"alert alert-info\">\n",
    "\n",
    "    \n",
    "p-value в разы меньше уровня стат значимости (5%).\n",
    "    \n",
    "ТАким образом, при ~0 случаях из 100 мы можем получить одинаковые средние пользовательские рейтинги. Уровень стат значимости задан на уровне 5 случаев. Значит, при всех значениях, что меньше 5 - мы не принимаем первую гипотезу, и может принять гипотезу о том, что, действително, средние пользовательские рейтинги могут быть разными\n",
    "   \n",
    "\n",
    "</div>"
   ]
  },
  {
   "cell_type": "code",
   "execution_count": 96,
   "metadata": {},
   "outputs": [
    {
     "data": {
      "text/plain": [
       "6.766442953020134"
      ]
     },
     "execution_count": 96,
     "metadata": {},
     "output_type": "execute_result"
    }
   ],
   "source": [
    "games.query( '2014<=year_of_release<=2016 and genre==\"Action\" and user_score.isna() == False')['user_score'].mean()"
   ]
  },
  {
   "cell_type": "code",
   "execution_count": 97,
   "metadata": {
    "scrolled": false
   },
   "outputs": [
    {
     "data": {
      "text/plain": [
       "5.2251968503937"
      ]
     },
     "execution_count": 97,
     "metadata": {},
     "output_type": "execute_result"
    }
   ],
   "source": [
    "games.query( '2014<=year_of_release<=2016 and genre==\"Sports\" and user_score.isna() == False')['user_score'].mean()"
   ]
  },
  {
   "cell_type": "markdown",
   "metadata": {},
   "source": [
    "<div class=\"alert alert-info\">\n",
    "Даже если сравнить средние значения этих выборок, то они сильно отличаются (на 1.5 балла), поэтому есть основания предполагать что средние ген совокупности так же различны.</div>"
   ]
  },
  {
   "cell_type": "markdown",
   "metadata": {},
   "source": [
    "вероятность получить значение за пределелами 0,05 крайне мала(вероятность того, что полученное среднее будет сильно отличаться от среднего выборки первой совокупности). Следовательно, много вероятно получить такое значение, которое будет близко к среднему первой совокупности.\n",
    "\n",
    "Поэтому мы отвергли гипотезу о том, что средние рейтинги разные. Ведь даже если посмотреть на средние значения этих выборок, то они отличаются всего на 0,1 единицы, что является малой разницей между показателями."
   ]
  },
  {
   "cell_type": "code",
   "execution_count": 98,
   "metadata": {},
   "outputs": [
    {
     "data": {
      "text/plain": [
       "7.0564835164835165"
      ]
     },
     "execution_count": 98,
     "metadata": {},
     "output_type": "execute_result"
    }
   ],
   "source": [
    "games.query('genre==\"Action\"')['user_score'].mean()"
   ]
  },
  {
   "cell_type": "code",
   "execution_count": 99,
   "metadata": {},
   "outputs": [
    {
     "data": {
      "text/plain": [
       "6.956375227686704"
      ]
     },
     "execution_count": 99,
     "metadata": {},
     "output_type": "execute_result"
    }
   ],
   "source": [
    "games.query('genre==\"Sports\"')['user_score'].mean()"
   ]
  },
  {
   "cell_type": "markdown",
   "metadata": {},
   "source": [
    "## Шаг 6 Общий вывод"
   ]
  },
  {
   "cell_type": "markdown",
   "metadata": {},
   "source": [
    "<div class=\"alert alert-info\">\n",
    "Таким образом, в ходе проекта были достигнуты следующие цели:\n",
    "\n",
    "- проведен исследовательский анализ данных\n",
    "- составлен портрет пользвателя каждого региона\n",
    "- была проверена гипотеза \"Средние пользовательские рейтинги платформ Xbox One и PC одинаковые\" \n",
    "- была проверена гипотеза \"Средние пользовательские рейтинги жанров Action и Sports разные\" \n",
    "\n",
    "Сделаны следующие выводы:\n",
    "- бум выпуска игр пришелся на 2008-2009 годы, потом количество выпущенных игр с каждый годом стало уменьшаться\n",
    "- на текущий момент самая популярная платформа - PS4. Ее популярность растет, она занимает болльшую часть рынка в Америке и Европе. и Вероятно, еще не достигла своего пика, тк в среднем пик достигается на 5 год существования платформы.\n",
    "- Средний жизненный цикл платформы - 10 лет\n",
    "- Каждые пять лет на рынке появляется новая игровая платформа\n",
    "- Наблюдается зависимость между оценкой критиков и продажами игр. Пользователи ориентирубтся на отзывы критиков при покупке игр\n",
    "- Наиболее популярный жанр за 2014-2016 г- action\n",
    "- Пользователи Америки и Европы очень похожи, а вот пользователь Японии отличается в своих жанровых и платформенных предпочтениях\n",
    "- гипотеза \"Средние пользовательские рейтинги платформ Xbox One и PC одинаковые\" - принята\n",
    "-  гипотеза \"Средние пользовательские рейтинги жанров Action и Sports одинаковые\" - не принята\n",
    "</div>"
   ]
  }
 ],
 "metadata": {
  "ExecuteTimeLog": [
   {
    "duration": 417,
    "start_time": "2023-03-14T03:48:01.134Z"
   },
   {
    "duration": 468,
    "start_time": "2023-03-14T03:49:41.121Z"
   },
   {
    "duration": 3,
    "start_time": "2023-03-14T03:49:49.111Z"
   },
   {
    "duration": 123,
    "start_time": "2023-03-14T03:50:16.653Z"
   },
   {
    "duration": 23,
    "start_time": "2023-03-14T03:52:04.587Z"
   },
   {
    "duration": 17,
    "start_time": "2023-03-14T03:52:16.825Z"
   },
   {
    "duration": 14,
    "start_time": "2023-03-14T03:52:57.630Z"
   },
   {
    "duration": 3,
    "start_time": "2023-03-14T03:56:29.872Z"
   },
   {
    "duration": 4,
    "start_time": "2023-03-14T03:56:39.152Z"
   },
   {
    "duration": 143,
    "start_time": "2023-03-14T04:00:16.162Z"
   },
   {
    "duration": 79,
    "start_time": "2023-03-14T04:01:03.032Z"
   },
   {
    "duration": 14,
    "start_time": "2023-03-14T04:03:47.954Z"
   },
   {
    "duration": 9,
    "start_time": "2023-03-14T04:07:26.167Z"
   },
   {
    "duration": 12,
    "start_time": "2023-03-14T04:07:43.368Z"
   },
   {
    "duration": 8,
    "start_time": "2023-03-14T04:14:02.823Z"
   },
   {
    "duration": 11,
    "start_time": "2023-03-14T04:14:04.594Z"
   },
   {
    "duration": 655,
    "start_time": "2023-03-14T04:16:25.316Z"
   },
   {
    "duration": 85,
    "start_time": "2023-03-14T04:16:51.967Z"
   },
   {
    "duration": 211,
    "start_time": "2023-03-14T04:16:54.204Z"
   },
   {
    "duration": 207,
    "start_time": "2023-03-14T04:16:59.204Z"
   },
   {
    "duration": 1410,
    "start_time": "2023-03-14T04:20:00.055Z"
   },
   {
    "duration": 781,
    "start_time": "2023-03-14T04:21:43.222Z"
   },
   {
    "duration": 14,
    "start_time": "2023-03-14T04:23:34.092Z"
   },
   {
    "duration": 139,
    "start_time": "2023-03-14T04:23:46.075Z"
   },
   {
    "duration": 183,
    "start_time": "2023-03-14T04:24:13.543Z"
   },
   {
    "duration": 303,
    "start_time": "2023-03-14T04:24:37.636Z"
   },
   {
    "duration": 3,
    "start_time": "2023-03-14T04:27:51.493Z"
   },
   {
    "duration": 19,
    "start_time": "2023-03-14T04:27:51.499Z"
   },
   {
    "duration": 12,
    "start_time": "2023-03-14T04:27:51.520Z"
   },
   {
    "duration": 74,
    "start_time": "2023-03-14T04:27:51.534Z"
   },
   {
    "duration": 16,
    "start_time": "2023-03-14T04:27:51.610Z"
   },
   {
    "duration": 45,
    "start_time": "2023-03-14T04:27:51.627Z"
   },
   {
    "duration": 26,
    "start_time": "2023-03-14T04:27:51.674Z"
   },
   {
    "duration": 18,
    "start_time": "2023-03-14T04:27:51.702Z"
   },
   {
    "duration": 18,
    "start_time": "2023-03-14T04:27:51.722Z"
   },
   {
    "duration": 10,
    "start_time": "2023-03-14T04:27:55.427Z"
   },
   {
    "duration": 12,
    "start_time": "2023-03-14T04:27:55.873Z"
   },
   {
    "duration": 332,
    "start_time": "2023-03-14T04:27:57.703Z"
   },
   {
    "duration": 5,
    "start_time": "2023-03-14T04:29:35.561Z"
   },
   {
    "duration": 23,
    "start_time": "2023-03-14T04:33:42.518Z"
   },
   {
    "duration": 259,
    "start_time": "2023-03-14T04:35:02.936Z"
   },
   {
    "duration": 16,
    "start_time": "2023-03-14T04:44:50.390Z"
   },
   {
    "duration": 29,
    "start_time": "2023-03-14T04:45:36.054Z"
   },
   {
    "duration": 9,
    "start_time": "2023-03-14T04:46:19.598Z"
   },
   {
    "duration": 12,
    "start_time": "2023-03-14T04:46:49.353Z"
   },
   {
    "duration": 22,
    "start_time": "2023-03-14T04:47:09.493Z"
   },
   {
    "duration": 11,
    "start_time": "2023-03-14T04:47:23.494Z"
   },
   {
    "duration": 12,
    "start_time": "2023-03-14T04:47:49.094Z"
   },
   {
    "duration": 106,
    "start_time": "2023-03-14T05:00:51.658Z"
   },
   {
    "duration": 13,
    "start_time": "2023-03-14T05:01:03.579Z"
   },
   {
    "duration": 33,
    "start_time": "2023-03-14T05:01:04.623Z"
   },
   {
    "duration": 6,
    "start_time": "2023-03-14T05:02:52.132Z"
   },
   {
    "duration": 5,
    "start_time": "2023-03-14T05:02:58.612Z"
   },
   {
    "duration": 7,
    "start_time": "2023-03-14T05:03:10.413Z"
   },
   {
    "duration": 6,
    "start_time": "2023-03-14T05:03:11.093Z"
   },
   {
    "duration": 4,
    "start_time": "2023-03-14T05:09:03.368Z"
   },
   {
    "duration": 4,
    "start_time": "2023-03-14T05:09:09.538Z"
   },
   {
    "duration": 4,
    "start_time": "2023-03-14T05:10:28.727Z"
   },
   {
    "duration": 26,
    "start_time": "2023-03-14T05:10:33.224Z"
   },
   {
    "duration": 6,
    "start_time": "2023-03-14T05:12:45.379Z"
   },
   {
    "duration": 28,
    "start_time": "2023-03-14T05:12:45.972Z"
   },
   {
    "duration": 4,
    "start_time": "2023-03-14T05:15:20.472Z"
   },
   {
    "duration": 1356,
    "start_time": "2023-03-14T05:15:21.068Z"
   },
   {
    "duration": 3,
    "start_time": "2023-03-14T05:16:26.637Z"
   },
   {
    "duration": 314,
    "start_time": "2023-03-14T05:16:27.443Z"
   },
   {
    "duration": 457,
    "start_time": "2023-03-14T05:16:35.979Z"
   },
   {
    "duration": 3,
    "start_time": "2023-03-14T05:17:19.118Z"
   },
   {
    "duration": 49210,
    "start_time": "2023-03-14T05:17:19.553Z"
   },
   {
    "duration": 12,
    "start_time": "2023-03-14T05:18:48.217Z"
   },
   {
    "duration": 2,
    "start_time": "2023-03-14T05:19:08.272Z"
   },
   {
    "duration": 19,
    "start_time": "2023-03-14T05:19:08.285Z"
   },
   {
    "duration": 8,
    "start_time": "2023-03-14T05:19:08.306Z"
   },
   {
    "duration": 81,
    "start_time": "2023-03-14T05:19:08.316Z"
   },
   {
    "duration": 14,
    "start_time": "2023-03-14T05:19:08.399Z"
   },
   {
    "duration": 15,
    "start_time": "2023-03-14T05:19:08.416Z"
   },
   {
    "duration": 13,
    "start_time": "2023-03-14T05:19:08.432Z"
   },
   {
    "duration": 8,
    "start_time": "2023-03-14T05:19:08.447Z"
   },
   {
    "duration": 23,
    "start_time": "2023-03-14T05:19:08.456Z"
   },
   {
    "duration": 15,
    "start_time": "2023-03-14T05:19:08.481Z"
   },
   {
    "duration": 17,
    "start_time": "2023-03-14T05:19:08.498Z"
   },
   {
    "duration": 6,
    "start_time": "2023-03-14T05:19:08.516Z"
   },
   {
    "duration": 9,
    "start_time": "2023-03-14T05:19:08.524Z"
   },
   {
    "duration": 6,
    "start_time": "2023-03-14T05:19:08.534Z"
   },
   {
    "duration": 4,
    "start_time": "2023-03-14T05:19:12.558Z"
   },
   {
    "duration": 48849,
    "start_time": "2023-03-14T05:19:13.022Z"
   },
   {
    "duration": 20,
    "start_time": "2023-03-14T05:20:01.873Z"
   },
   {
    "duration": 42,
    "start_time": "2023-03-14T05:20:01.897Z"
   },
   {
    "duration": 17,
    "start_time": "2023-03-14T05:23:39.057Z"
   },
   {
    "duration": 3,
    "start_time": "2023-03-14T05:23:54.627Z"
   },
   {
    "duration": 7,
    "start_time": "2023-03-14T05:23:54.632Z"
   },
   {
    "duration": 32,
    "start_time": "2023-03-14T05:23:54.641Z"
   },
   {
    "duration": 72,
    "start_time": "2023-03-14T05:23:54.675Z"
   },
   {
    "duration": 15,
    "start_time": "2023-03-14T05:23:54.750Z"
   },
   {
    "duration": 23,
    "start_time": "2023-03-14T05:23:54.767Z"
   },
   {
    "duration": 11,
    "start_time": "2023-03-14T05:23:54.797Z"
   },
   {
    "duration": 12,
    "start_time": "2023-03-14T05:23:54.810Z"
   },
   {
    "duration": 28,
    "start_time": "2023-03-14T05:23:54.824Z"
   },
   {
    "duration": 18,
    "start_time": "2023-03-14T05:23:54.854Z"
   },
   {
    "duration": 34,
    "start_time": "2023-03-14T05:23:54.876Z"
   },
   {
    "duration": 19,
    "start_time": "2023-03-14T05:23:54.912Z"
   },
   {
    "duration": 0,
    "start_time": "2023-03-14T05:23:54.932Z"
   },
   {
    "duration": 0,
    "start_time": "2023-03-14T05:23:54.934Z"
   },
   {
    "duration": 5,
    "start_time": "2023-03-14T05:24:08.452Z"
   },
   {
    "duration": 8,
    "start_time": "2023-03-14T05:24:09.458Z"
   },
   {
    "duration": 7,
    "start_time": "2023-03-14T05:24:26.227Z"
   },
   {
    "duration": 3,
    "start_time": "2023-03-14T05:24:31.906Z"
   },
   {
    "duration": 19,
    "start_time": "2023-03-14T05:24:31.911Z"
   },
   {
    "duration": 22,
    "start_time": "2023-03-14T05:24:31.932Z"
   },
   {
    "duration": 98,
    "start_time": "2023-03-14T05:24:31.956Z"
   },
   {
    "duration": 15,
    "start_time": "2023-03-14T05:24:32.056Z"
   },
   {
    "duration": 34,
    "start_time": "2023-03-14T05:24:32.074Z"
   },
   {
    "duration": 18,
    "start_time": "2023-03-14T05:24:32.110Z"
   },
   {
    "duration": 16,
    "start_time": "2023-03-14T05:24:32.130Z"
   },
   {
    "duration": 24,
    "start_time": "2023-03-14T05:24:32.148Z"
   },
   {
    "duration": 37,
    "start_time": "2023-03-14T05:24:32.174Z"
   },
   {
    "duration": 13,
    "start_time": "2023-03-14T05:24:32.214Z"
   },
   {
    "duration": 22,
    "start_time": "2023-03-14T05:24:32.229Z"
   },
   {
    "duration": 0,
    "start_time": "2023-03-14T05:24:32.253Z"
   },
   {
    "duration": 0,
    "start_time": "2023-03-14T05:24:32.254Z"
   },
   {
    "duration": 3,
    "start_time": "2023-03-14T05:24:53.597Z"
   },
   {
    "duration": 9,
    "start_time": "2023-03-14T05:24:53.602Z"
   },
   {
    "duration": 25,
    "start_time": "2023-03-14T05:24:53.613Z"
   },
   {
    "duration": 74,
    "start_time": "2023-03-14T05:24:53.640Z"
   },
   {
    "duration": 14,
    "start_time": "2023-03-14T05:24:53.716Z"
   },
   {
    "duration": 17,
    "start_time": "2023-03-14T05:24:53.732Z"
   },
   {
    "duration": 5,
    "start_time": "2023-03-14T05:24:53.750Z"
   },
   {
    "duration": 18,
    "start_time": "2023-03-14T05:24:53.757Z"
   },
   {
    "duration": 29,
    "start_time": "2023-03-14T05:24:53.776Z"
   },
   {
    "duration": 29,
    "start_time": "2023-03-14T05:24:53.806Z"
   },
   {
    "duration": 13,
    "start_time": "2023-03-14T05:24:53.838Z"
   },
   {
    "duration": 7,
    "start_time": "2023-03-14T05:24:57.322Z"
   },
   {
    "duration": 11,
    "start_time": "2023-03-14T05:25:12.237Z"
   },
   {
    "duration": 4,
    "start_time": "2023-03-14T05:25:43.207Z"
   },
   {
    "duration": 13,
    "start_time": "2023-03-14T05:25:47.777Z"
   },
   {
    "duration": 2,
    "start_time": "2023-03-14T05:26:10.337Z"
   },
   {
    "duration": 4,
    "start_time": "2023-03-14T05:26:10.352Z"
   },
   {
    "duration": 6,
    "start_time": "2023-03-14T05:26:10.358Z"
   },
   {
    "duration": 66,
    "start_time": "2023-03-14T05:26:10.365Z"
   },
   {
    "duration": 15,
    "start_time": "2023-03-14T05:26:10.433Z"
   },
   {
    "duration": 20,
    "start_time": "2023-03-14T05:26:10.450Z"
   },
   {
    "duration": 3,
    "start_time": "2023-03-14T05:26:10.472Z"
   },
   {
    "duration": 26,
    "start_time": "2023-03-14T05:26:10.479Z"
   },
   {
    "duration": 18,
    "start_time": "2023-03-14T05:26:10.507Z"
   },
   {
    "duration": 16,
    "start_time": "2023-03-14T05:26:10.526Z"
   },
   {
    "duration": 24,
    "start_time": "2023-03-14T05:26:10.543Z"
   },
   {
    "duration": 7,
    "start_time": "2023-03-14T05:26:12.107Z"
   },
   {
    "duration": 20,
    "start_time": "2023-03-14T05:26:12.377Z"
   },
   {
    "duration": 8,
    "start_time": "2023-03-14T05:26:13.867Z"
   },
   {
    "duration": 23,
    "start_time": "2023-03-14T05:26:22.468Z"
   },
   {
    "duration": 4,
    "start_time": "2023-03-14T05:27:46.117Z"
   },
   {
    "duration": 16,
    "start_time": "2023-03-14T05:29:23.577Z"
   },
   {
    "duration": 6,
    "start_time": "2023-03-14T05:37:18.597Z"
   },
   {
    "duration": 5,
    "start_time": "2023-03-14T05:37:25.537Z"
   },
   {
    "duration": 3,
    "start_time": "2023-03-14T05:38:11.625Z"
   },
   {
    "duration": 16,
    "start_time": "2023-03-14T05:38:11.630Z"
   },
   {
    "duration": 16,
    "start_time": "2023-03-14T05:38:11.648Z"
   },
   {
    "duration": 81,
    "start_time": "2023-03-14T05:38:11.667Z"
   },
   {
    "duration": 14,
    "start_time": "2023-03-14T05:38:11.749Z"
   },
   {
    "duration": 44,
    "start_time": "2023-03-14T05:38:11.765Z"
   },
   {
    "duration": 16,
    "start_time": "2023-03-14T05:38:11.811Z"
   },
   {
    "duration": 31,
    "start_time": "2023-03-14T05:38:11.828Z"
   },
   {
    "duration": 44,
    "start_time": "2023-03-14T05:38:11.861Z"
   },
   {
    "duration": 15,
    "start_time": "2023-03-14T05:38:11.908Z"
   },
   {
    "duration": 32,
    "start_time": "2023-03-14T05:38:11.925Z"
   },
   {
    "duration": 33,
    "start_time": "2023-03-14T05:38:11.959Z"
   },
   {
    "duration": 32,
    "start_time": "2023-03-14T05:38:11.994Z"
   },
   {
    "duration": 34,
    "start_time": "2023-03-14T05:38:12.028Z"
   },
   {
    "duration": 5,
    "start_time": "2023-03-14T05:38:19.952Z"
   },
   {
    "duration": 6,
    "start_time": "2023-03-14T05:38:20.296Z"
   },
   {
    "duration": 489,
    "start_time": "2023-03-14T09:02:04.226Z"
   },
   {
    "duration": 551,
    "start_time": "2023-03-14T09:02:04.718Z"
   },
   {
    "duration": 3,
    "start_time": "2023-03-14T09:02:05.276Z"
   },
   {
    "duration": 153,
    "start_time": "2023-03-14T09:02:05.281Z"
   },
   {
    "duration": 24,
    "start_time": "2023-03-14T09:02:05.437Z"
   },
   {
    "duration": 37,
    "start_time": "2023-03-14T09:02:05.463Z"
   },
   {
    "duration": 32,
    "start_time": "2023-03-14T09:02:05.503Z"
   },
   {
    "duration": 14,
    "start_time": "2023-03-14T09:02:05.537Z"
   },
   {
    "duration": 36,
    "start_time": "2023-03-14T09:02:05.553Z"
   },
   {
    "duration": 62,
    "start_time": "2023-03-14T09:02:05.590Z"
   },
   {
    "duration": 30,
    "start_time": "2023-03-14T09:02:05.654Z"
   },
   {
    "duration": 47,
    "start_time": "2023-03-14T09:02:05.686Z"
   },
   {
    "duration": 12,
    "start_time": "2023-03-14T09:02:05.735Z"
   },
   {
    "duration": 40,
    "start_time": "2023-03-14T09:02:05.750Z"
   },
   {
    "duration": 48,
    "start_time": "2023-03-14T09:02:05.791Z"
   },
   {
    "duration": 40,
    "start_time": "2023-03-14T09:02:05.841Z"
   },
   {
    "duration": 37,
    "start_time": "2023-03-14T09:02:05.883Z"
   },
   {
    "duration": 25,
    "start_time": "2023-03-14T09:03:37.006Z"
   },
   {
    "duration": 25,
    "start_time": "2023-03-14T09:08:02.805Z"
   },
   {
    "duration": 25,
    "start_time": "2023-03-14T09:08:13.750Z"
   },
   {
    "duration": 31,
    "start_time": "2023-03-14T09:08:23.685Z"
   },
   {
    "duration": 21,
    "start_time": "2023-03-14T09:09:09.262Z"
   },
   {
    "duration": 15,
    "start_time": "2023-03-14T09:11:03.089Z"
   },
   {
    "duration": 40,
    "start_time": "2023-03-14T09:11:40.670Z"
   },
   {
    "duration": 19,
    "start_time": "2023-03-14T09:11:47.031Z"
   },
   {
    "duration": 27,
    "start_time": "2023-03-14T09:14:38.679Z"
   },
   {
    "duration": 25,
    "start_time": "2023-03-14T09:21:02.861Z"
   },
   {
    "duration": 101,
    "start_time": "2023-03-14T09:26:47.493Z"
   },
   {
    "duration": 15,
    "start_time": "2023-03-14T09:27:06.792Z"
   },
   {
    "duration": 7,
    "start_time": "2023-03-14T09:27:43.069Z"
   },
   {
    "duration": 7,
    "start_time": "2023-03-14T09:27:44.902Z"
   },
   {
    "duration": 5,
    "start_time": "2023-03-14T09:28:43.613Z"
   },
   {
    "duration": 8,
    "start_time": "2023-03-14T09:28:48.695Z"
   },
   {
    "duration": 7,
    "start_time": "2023-03-14T09:29:14.213Z"
   },
   {
    "duration": 5,
    "start_time": "2023-03-14T09:30:06.029Z"
   },
   {
    "duration": 7,
    "start_time": "2023-03-14T09:30:18.414Z"
   },
   {
    "duration": 7,
    "start_time": "2023-03-14T09:31:08.151Z"
   },
   {
    "duration": 6,
    "start_time": "2023-03-14T09:31:13.453Z"
   },
   {
    "duration": 3,
    "start_time": "2023-03-14T09:31:57.790Z"
   },
   {
    "duration": 4,
    "start_time": "2023-03-14T09:31:59.517Z"
   },
   {
    "duration": 15,
    "start_time": "2023-03-14T09:32:08.733Z"
   },
   {
    "duration": 23,
    "start_time": "2023-03-14T09:32:59.934Z"
   },
   {
    "duration": 3,
    "start_time": "2023-03-14T09:43:10.311Z"
   },
   {
    "duration": 6,
    "start_time": "2023-03-14T09:43:10.317Z"
   },
   {
    "duration": 8,
    "start_time": "2023-03-14T09:43:10.325Z"
   },
   {
    "duration": 53,
    "start_time": "2023-03-14T09:43:10.336Z"
   },
   {
    "duration": 16,
    "start_time": "2023-03-14T09:43:10.392Z"
   },
   {
    "duration": 25,
    "start_time": "2023-03-14T09:43:10.410Z"
   },
   {
    "duration": 4,
    "start_time": "2023-03-14T09:43:10.437Z"
   },
   {
    "duration": 26,
    "start_time": "2023-03-14T09:43:10.443Z"
   },
   {
    "duration": 16,
    "start_time": "2023-03-14T09:43:10.471Z"
   },
   {
    "duration": 27,
    "start_time": "2023-03-14T09:43:10.489Z"
   },
   {
    "duration": 19,
    "start_time": "2023-03-14T09:43:10.518Z"
   },
   {
    "duration": 27,
    "start_time": "2023-03-14T09:43:10.539Z"
   },
   {
    "duration": 6,
    "start_time": "2023-03-14T09:43:10.569Z"
   },
   {
    "duration": 9,
    "start_time": "2023-03-14T09:43:10.579Z"
   },
   {
    "duration": 6,
    "start_time": "2023-03-14T09:43:10.591Z"
   },
   {
    "duration": 11,
    "start_time": "2023-03-14T09:43:10.599Z"
   },
   {
    "duration": 60,
    "start_time": "2023-03-14T09:43:10.613Z"
   },
   {
    "duration": 8,
    "start_time": "2023-03-14T09:43:12.933Z"
   },
   {
    "duration": 6,
    "start_time": "2023-03-14T09:43:13.693Z"
   },
   {
    "duration": 46,
    "start_time": "2023-03-14T09:43:27.693Z"
   },
   {
    "duration": 612,
    "start_time": "2023-03-14T09:44:32.239Z"
   },
   {
    "duration": 37,
    "start_time": "2023-03-14T09:46:12.897Z"
   },
   {
    "duration": 11,
    "start_time": "2023-03-14T09:46:17.110Z"
   },
   {
    "duration": 7,
    "start_time": "2023-03-14T09:46:38.477Z"
   },
   {
    "duration": 28,
    "start_time": "2023-03-14T09:47:13.814Z"
   },
   {
    "duration": 5,
    "start_time": "2023-03-14T09:48:53.756Z"
   },
   {
    "duration": 46,
    "start_time": "2023-03-14T09:48:53.763Z"
   },
   {
    "duration": 43,
    "start_time": "2023-03-14T09:48:53.812Z"
   },
   {
    "duration": 84,
    "start_time": "2023-03-14T09:48:53.857Z"
   },
   {
    "duration": 18,
    "start_time": "2023-03-14T09:48:53.944Z"
   },
   {
    "duration": 45,
    "start_time": "2023-03-14T09:48:53.964Z"
   },
   {
    "duration": 16,
    "start_time": "2023-03-14T09:48:54.012Z"
   },
   {
    "duration": 13,
    "start_time": "2023-03-14T09:48:54.031Z"
   },
   {
    "duration": 30,
    "start_time": "2023-03-14T09:48:54.047Z"
   },
   {
    "duration": 10,
    "start_time": "2023-03-14T09:48:54.080Z"
   },
   {
    "duration": 15,
    "start_time": "2023-03-14T09:48:54.092Z"
   },
   {
    "duration": 7,
    "start_time": "2023-03-14T09:48:54.109Z"
   },
   {
    "duration": 10,
    "start_time": "2023-03-14T09:48:54.118Z"
   },
   {
    "duration": 7,
    "start_time": "2023-03-14T09:48:54.165Z"
   },
   {
    "duration": 8,
    "start_time": "2023-03-14T09:48:54.174Z"
   },
   {
    "duration": 13,
    "start_time": "2023-03-14T09:48:54.184Z"
   },
   {
    "duration": 33,
    "start_time": "2023-03-14T09:48:54.199Z"
   },
   {
    "duration": 12,
    "start_time": "2023-03-14T09:49:37.949Z"
   },
   {
    "duration": 16,
    "start_time": "2023-03-14T09:49:56.425Z"
   },
   {
    "duration": 22,
    "start_time": "2023-03-14T09:50:17.829Z"
   },
   {
    "duration": 13,
    "start_time": "2023-03-14T09:50:33.229Z"
   },
   {
    "duration": 697,
    "start_time": "2023-03-14T09:53:31.341Z"
   },
   {
    "duration": 197,
    "start_time": "2023-03-14T09:53:42.934Z"
   },
   {
    "duration": 237,
    "start_time": "2023-03-14T09:54:12.246Z"
   },
   {
    "duration": 175,
    "start_time": "2023-03-14T09:54:27.792Z"
   },
   {
    "duration": 204,
    "start_time": "2023-03-14T09:54:42.133Z"
   },
   {
    "duration": 179,
    "start_time": "2023-03-14T09:55:03.279Z"
   },
   {
    "duration": 214,
    "start_time": "2023-03-14T09:55:09.904Z"
   },
   {
    "duration": 182,
    "start_time": "2023-03-14T09:55:17.128Z"
   },
   {
    "duration": 432,
    "start_time": "2023-03-15T03:29:17.069Z"
   },
   {
    "duration": 472,
    "start_time": "2023-03-15T03:29:17.503Z"
   },
   {
    "duration": 2,
    "start_time": "2023-03-15T03:29:17.977Z"
   },
   {
    "duration": 107,
    "start_time": "2023-03-15T03:29:17.981Z"
   },
   {
    "duration": 21,
    "start_time": "2023-03-15T03:29:18.091Z"
   },
   {
    "duration": 13,
    "start_time": "2023-03-15T03:29:18.114Z"
   },
   {
    "duration": 3,
    "start_time": "2023-03-15T03:29:18.129Z"
   },
   {
    "duration": 7,
    "start_time": "2023-03-15T03:29:18.134Z"
   },
   {
    "duration": 17,
    "start_time": "2023-03-15T03:29:18.143Z"
   },
   {
    "duration": 11,
    "start_time": "2023-03-15T03:29:18.178Z"
   },
   {
    "duration": 11,
    "start_time": "2023-03-15T03:29:18.191Z"
   },
   {
    "duration": 9,
    "start_time": "2023-03-15T03:29:18.203Z"
   },
   {
    "duration": 5,
    "start_time": "2023-03-15T03:29:18.214Z"
   },
   {
    "duration": 7,
    "start_time": "2023-03-15T03:29:18.221Z"
   },
   {
    "duration": 7,
    "start_time": "2023-03-15T03:29:18.230Z"
   },
   {
    "duration": 8,
    "start_time": "2023-03-15T03:29:18.239Z"
   },
   {
    "duration": 25,
    "start_time": "2023-03-15T03:29:18.278Z"
   },
   {
    "duration": 74,
    "start_time": "2023-03-15T03:29:40.310Z"
   },
   {
    "duration": 97,
    "start_time": "2023-03-15T03:29:55.414Z"
   },
   {
    "duration": 13,
    "start_time": "2023-03-15T03:30:12.045Z"
   },
   {
    "duration": 7,
    "start_time": "2023-03-15T03:31:20.062Z"
   },
   {
    "duration": 4,
    "start_time": "2023-03-15T03:31:21.279Z"
   },
   {
    "duration": 5,
    "start_time": "2023-03-15T03:31:23.040Z"
   },
   {
    "duration": 3,
    "start_time": "2023-03-15T03:31:43.501Z"
   },
   {
    "duration": 7,
    "start_time": "2023-03-15T03:31:43.506Z"
   },
   {
    "duration": 8,
    "start_time": "2023-03-15T03:31:43.515Z"
   },
   {
    "duration": 62,
    "start_time": "2023-03-15T03:31:43.525Z"
   },
   {
    "duration": 14,
    "start_time": "2023-03-15T03:31:43.589Z"
   },
   {
    "duration": 17,
    "start_time": "2023-03-15T03:31:43.605Z"
   },
   {
    "duration": 6,
    "start_time": "2023-03-15T03:31:43.623Z"
   },
   {
    "duration": 8,
    "start_time": "2023-03-15T03:31:43.630Z"
   },
   {
    "duration": 14,
    "start_time": "2023-03-15T03:31:43.640Z"
   },
   {
    "duration": 11,
    "start_time": "2023-03-15T03:31:43.678Z"
   },
   {
    "duration": 12,
    "start_time": "2023-03-15T03:31:43.691Z"
   },
   {
    "duration": 8,
    "start_time": "2023-03-15T03:31:43.705Z"
   },
   {
    "duration": 5,
    "start_time": "2023-03-15T03:31:45.445Z"
   },
   {
    "duration": 5,
    "start_time": "2023-03-15T03:31:45.785Z"
   },
   {
    "duration": 6,
    "start_time": "2023-03-15T03:31:46.524Z"
   },
   {
    "duration": 4,
    "start_time": "2023-03-15T03:31:49.731Z"
   },
   {
    "duration": 6,
    "start_time": "2023-03-15T03:31:50.834Z"
   },
   {
    "duration": 11,
    "start_time": "2023-03-15T03:33:11.340Z"
   },
   {
    "duration": 5,
    "start_time": "2023-03-15T03:33:44.375Z"
   },
   {
    "duration": 472,
    "start_time": "2023-03-15T03:34:16.300Z"
   },
   {
    "duration": 13,
    "start_time": "2023-03-15T03:40:08.518Z"
   },
   {
    "duration": 13,
    "start_time": "2023-03-15T03:40:26.758Z"
   },
   {
    "duration": 8,
    "start_time": "2023-03-15T03:41:26.072Z"
   },
   {
    "duration": 12,
    "start_time": "2023-03-15T03:41:28.274Z"
   },
   {
    "duration": 8,
    "start_time": "2023-03-15T03:41:45.774Z"
   },
   {
    "duration": 7,
    "start_time": "2023-03-15T03:41:57.360Z"
   },
   {
    "duration": 3,
    "start_time": "2023-03-15T03:45:21.374Z"
   },
   {
    "duration": 12,
    "start_time": "2023-03-15T03:45:21.379Z"
   },
   {
    "duration": 11,
    "start_time": "2023-03-15T03:45:21.393Z"
   },
   {
    "duration": 57,
    "start_time": "2023-03-15T03:45:21.406Z"
   },
   {
    "duration": 15,
    "start_time": "2023-03-15T03:45:21.465Z"
   },
   {
    "duration": 20,
    "start_time": "2023-03-15T03:45:21.482Z"
   },
   {
    "duration": 3,
    "start_time": "2023-03-15T03:45:21.504Z"
   },
   {
    "duration": 9,
    "start_time": "2023-03-15T03:45:21.508Z"
   },
   {
    "duration": 18,
    "start_time": "2023-03-15T03:45:21.518Z"
   },
   {
    "duration": 10,
    "start_time": "2023-03-15T03:45:21.538Z"
   },
   {
    "duration": 38,
    "start_time": "2023-03-15T03:45:21.549Z"
   },
   {
    "duration": 8,
    "start_time": "2023-03-15T03:45:21.589Z"
   },
   {
    "duration": 5,
    "start_time": "2023-03-15T03:45:21.598Z"
   },
   {
    "duration": 9,
    "start_time": "2023-03-15T03:45:21.606Z"
   },
   {
    "duration": 9,
    "start_time": "2023-03-15T03:45:21.616Z"
   },
   {
    "duration": 11,
    "start_time": "2023-03-15T03:45:21.627Z"
   },
   {
    "duration": 45,
    "start_time": "2023-03-15T03:45:21.639Z"
   },
   {
    "duration": 5,
    "start_time": "2023-03-15T03:45:21.686Z"
   },
   {
    "duration": 5,
    "start_time": "2023-03-15T03:45:26.432Z"
   },
   {
    "duration": 7,
    "start_time": "2023-03-15T03:45:29.852Z"
   },
   {
    "duration": 7,
    "start_time": "2023-03-15T03:45:31.952Z"
   },
   {
    "duration": 4,
    "start_time": "2023-03-15T03:45:47.964Z"
   },
   {
    "duration": 23,
    "start_time": "2023-03-15T03:45:49.844Z"
   },
   {
    "duration": 11,
    "start_time": "2023-03-15T03:46:04.901Z"
   },
   {
    "duration": 6,
    "start_time": "2023-03-15T03:47:19.892Z"
   },
   {
    "duration": 10,
    "start_time": "2023-03-15T03:47:39.826Z"
   },
   {
    "duration": 5,
    "start_time": "2023-03-15T03:50:12.600Z"
   },
   {
    "duration": 15,
    "start_time": "2023-03-15T03:50:23.152Z"
   },
   {
    "duration": 7,
    "start_time": "2023-03-15T03:52:42.220Z"
   },
   {
    "duration": 349,
    "start_time": "2023-03-15T03:53:00.530Z"
   },
   {
    "duration": 553,
    "start_time": "2023-03-15T03:55:35.339Z"
   },
   {
    "duration": 10,
    "start_time": "2023-03-15T03:58:45.814Z"
   },
   {
    "duration": 16,
    "start_time": "2023-03-15T04:03:13.789Z"
   },
   {
    "duration": 7,
    "start_time": "2023-03-15T04:03:53.793Z"
   },
   {
    "duration": 159,
    "start_time": "2023-03-15T04:04:59.986Z"
   },
   {
    "duration": 141,
    "start_time": "2023-03-15T04:06:13.725Z"
   },
   {
    "duration": 148,
    "start_time": "2023-03-15T04:07:26.941Z"
   },
   {
    "duration": 166,
    "start_time": "2023-03-15T04:07:55.544Z"
   },
   {
    "duration": 189,
    "start_time": "2023-03-15T04:09:14.535Z"
   },
   {
    "duration": 183,
    "start_time": "2023-03-15T04:09:26.244Z"
   },
   {
    "duration": 143,
    "start_time": "2023-03-15T04:12:34.026Z"
   },
   {
    "duration": 14,
    "start_time": "2023-03-15T04:12:46.557Z"
   },
   {
    "duration": 4448,
    "start_time": "2023-03-15T04:15:17.103Z"
   },
   {
    "duration": 153,
    "start_time": "2023-03-15T04:15:26.756Z"
   },
   {
    "duration": 229,
    "start_time": "2023-03-15T04:15:52.877Z"
   },
   {
    "duration": 257,
    "start_time": "2023-03-15T04:15:59.915Z"
   },
   {
    "duration": 232,
    "start_time": "2023-03-15T04:16:05.798Z"
   },
   {
    "duration": 11,
    "start_time": "2023-03-15T04:18:38.558Z"
   },
   {
    "duration": 4,
    "start_time": "2023-03-15T04:19:32.242Z"
   },
   {
    "duration": 2494,
    "start_time": "2023-03-15T04:22:36.813Z"
   },
   {
    "duration": 2384,
    "start_time": "2023-03-15T04:23:03.703Z"
   },
   {
    "duration": 75,
    "start_time": "2023-03-15T04:23:39.704Z"
   },
   {
    "duration": 3,
    "start_time": "2023-03-15T04:24:07.123Z"
   },
   {
    "duration": 71,
    "start_time": "2023-03-15T04:24:15.504Z"
   },
   {
    "duration": 113,
    "start_time": "2023-03-15T04:24:24.918Z"
   },
   {
    "duration": 162,
    "start_time": "2023-03-15T04:24:36.763Z"
   },
   {
    "duration": 579,
    "start_time": "2023-03-15T04:25:53.213Z"
   },
   {
    "duration": 1254,
    "start_time": "2023-03-15T04:26:06.573Z"
   },
   {
    "duration": 1480,
    "start_time": "2023-03-15T04:27:58.069Z"
   },
   {
    "duration": 90,
    "start_time": "2023-03-15T04:28:26.639Z"
   },
   {
    "duration": 97,
    "start_time": "2023-03-15T04:28:40.506Z"
   },
   {
    "duration": 69,
    "start_time": "2023-03-15T04:28:44.006Z"
   },
   {
    "duration": 105,
    "start_time": "2023-03-15T04:28:57.602Z"
   },
   {
    "duration": 1297,
    "start_time": "2023-03-15T04:29:08.538Z"
   },
   {
    "duration": 9,
    "start_time": "2023-03-15T04:32:44.524Z"
   },
   {
    "duration": 10,
    "start_time": "2023-03-15T04:33:09.302Z"
   },
   {
    "duration": 8,
    "start_time": "2023-03-15T04:34:34.364Z"
   },
   {
    "duration": 13,
    "start_time": "2023-03-15T04:34:48.327Z"
   },
   {
    "duration": 8,
    "start_time": "2023-03-15T04:34:54.957Z"
   },
   {
    "duration": 43,
    "start_time": "2023-03-15T04:35:39.274Z"
   },
   {
    "duration": 163,
    "start_time": "2023-03-15T04:35:44.539Z"
   },
   {
    "duration": 164,
    "start_time": "2023-03-15T04:36:01.703Z"
   },
   {
    "duration": 8,
    "start_time": "2023-03-15T04:36:24.170Z"
   },
   {
    "duration": 7,
    "start_time": "2023-03-15T04:36:29.284Z"
   },
   {
    "duration": 17,
    "start_time": "2023-03-15T04:36:42.960Z"
   },
   {
    "duration": 7,
    "start_time": "2023-03-15T04:36:47.124Z"
   },
   {
    "duration": 18,
    "start_time": "2023-03-15T04:37:04.375Z"
   },
   {
    "duration": 92,
    "start_time": "2023-03-15T04:37:25.759Z"
   },
   {
    "duration": 15,
    "start_time": "2023-03-15T04:37:29.900Z"
   },
   {
    "duration": 11,
    "start_time": "2023-03-15T04:37:34.219Z"
   },
   {
    "duration": 16,
    "start_time": "2023-03-15T04:38:14.318Z"
   },
   {
    "duration": 49,
    "start_time": "2023-03-16T03:28:01.515Z"
   },
   {
    "duration": 357,
    "start_time": "2023-03-16T03:28:08.026Z"
   },
   {
    "duration": 455,
    "start_time": "2023-03-16T03:28:08.385Z"
   },
   {
    "duration": 3,
    "start_time": "2023-03-16T03:28:08.842Z"
   },
   {
    "duration": 114,
    "start_time": "2023-03-16T03:28:08.846Z"
   },
   {
    "duration": 22,
    "start_time": "2023-03-16T03:28:08.962Z"
   },
   {
    "duration": 66,
    "start_time": "2023-03-16T03:28:08.985Z"
   },
   {
    "duration": 13,
    "start_time": "2023-03-16T03:28:09.052Z"
   },
   {
    "duration": 30,
    "start_time": "2023-03-16T03:28:09.067Z"
   },
   {
    "duration": 38,
    "start_time": "2023-03-16T03:28:09.099Z"
   },
   {
    "duration": 18,
    "start_time": "2023-03-16T03:28:09.139Z"
   },
   {
    "duration": 34,
    "start_time": "2023-03-16T03:28:09.158Z"
   },
   {
    "duration": 17,
    "start_time": "2023-03-16T03:28:09.193Z"
   },
   {
    "duration": 32,
    "start_time": "2023-03-16T03:28:09.211Z"
   },
   {
    "duration": 20,
    "start_time": "2023-03-16T03:28:09.245Z"
   },
   {
    "duration": 48,
    "start_time": "2023-03-16T03:28:09.267Z"
   },
   {
    "duration": 26,
    "start_time": "2023-03-16T03:28:09.317Z"
   },
   {
    "duration": 47,
    "start_time": "2023-03-16T03:28:09.345Z"
   },
   {
    "duration": 21,
    "start_time": "2023-03-16T03:28:09.393Z"
   },
   {
    "duration": 23,
    "start_time": "2023-03-16T03:28:09.415Z"
   },
   {
    "duration": 33,
    "start_time": "2023-03-16T03:28:09.439Z"
   },
   {
    "duration": 17,
    "start_time": "2023-03-16T03:28:09.474Z"
   },
   {
    "duration": 33,
    "start_time": "2023-03-16T03:28:09.493Z"
   },
   {
    "duration": 755,
    "start_time": "2023-03-16T03:28:09.527Z"
   },
   {
    "duration": 4,
    "start_time": "2023-03-16T03:28:10.284Z"
   },
   {
    "duration": 1138,
    "start_time": "2023-03-16T03:28:10.289Z"
   },
   {
    "duration": 6,
    "start_time": "2023-03-16T03:28:11.429Z"
   },
   {
    "duration": 18,
    "start_time": "2023-03-16T03:28:11.436Z"
   },
   {
    "duration": 12,
    "start_time": "2023-03-16T03:28:13.206Z"
   },
   {
    "duration": 121,
    "start_time": "2023-03-16T03:28:18.942Z"
   },
   {
    "duration": 3,
    "start_time": "2023-03-16T03:31:55.274Z"
   },
   {
    "duration": 69,
    "start_time": "2023-03-16T03:32:18.006Z"
   },
   {
    "duration": 6,
    "start_time": "2023-03-16T03:32:28.855Z"
   },
   {
    "duration": 4,
    "start_time": "2023-03-16T03:32:29.243Z"
   },
   {
    "duration": 5,
    "start_time": "2023-03-16T03:32:36.325Z"
   },
   {
    "duration": 166,
    "start_time": "2023-03-16T03:33:05.093Z"
   },
   {
    "duration": 232,
    "start_time": "2023-03-16T03:33:26.807Z"
   },
   {
    "duration": 7,
    "start_time": "2023-03-16T03:40:12.594Z"
   },
   {
    "duration": 3,
    "start_time": "2023-03-16T03:40:13.119Z"
   },
   {
    "duration": 4,
    "start_time": "2023-03-16T03:40:13.461Z"
   },
   {
    "duration": 328,
    "start_time": "2023-03-16T03:40:14.661Z"
   },
   {
    "duration": 5,
    "start_time": "2023-03-16T03:41:02.705Z"
   },
   {
    "duration": 4,
    "start_time": "2023-03-16T03:41:02.992Z"
   },
   {
    "duration": 4,
    "start_time": "2023-03-16T03:41:03.175Z"
   },
   {
    "duration": 255,
    "start_time": "2023-03-16T03:41:03.985Z"
   },
   {
    "duration": 12,
    "start_time": "2023-03-16T03:42:35.507Z"
   },
   {
    "duration": 11,
    "start_time": "2023-03-16T03:42:55.490Z"
   },
   {
    "duration": 9,
    "start_time": "2023-03-16T03:43:31.338Z"
   },
   {
    "duration": 10,
    "start_time": "2023-03-16T03:43:54.016Z"
   },
   {
    "duration": 11,
    "start_time": "2023-03-16T03:44:23.540Z"
   },
   {
    "duration": 13,
    "start_time": "2023-03-16T03:46:33.999Z"
   },
   {
    "duration": 11,
    "start_time": "2023-03-16T03:46:51.027Z"
   },
   {
    "duration": 139,
    "start_time": "2023-03-16T03:47:21.070Z"
   },
   {
    "duration": 14,
    "start_time": "2023-03-16T03:47:52.009Z"
   },
   {
    "duration": 10,
    "start_time": "2023-03-16T03:48:48.248Z"
   },
   {
    "duration": 3,
    "start_time": "2023-03-16T03:48:58.280Z"
   },
   {
    "duration": 242,
    "start_time": "2023-03-16T03:49:20.827Z"
   },
   {
    "duration": 10,
    "start_time": "2023-03-16T03:53:36.699Z"
   },
   {
    "duration": 12,
    "start_time": "2023-03-16T04:00:13.438Z"
   },
   {
    "duration": 91,
    "start_time": "2023-03-16T04:02:30.200Z"
   },
   {
    "duration": 11,
    "start_time": "2023-03-16T04:02:34.201Z"
   },
   {
    "duration": 72,
    "start_time": "2023-03-16T04:02:38.371Z"
   },
   {
    "duration": 2113,
    "start_time": "2023-03-16T04:03:52.403Z"
   },
   {
    "duration": 873,
    "start_time": "2023-03-16T04:04:23.789Z"
   },
   {
    "duration": 2200,
    "start_time": "2023-03-16T04:04:39.162Z"
   },
   {
    "duration": 2673,
    "start_time": "2023-03-16T04:05:02.691Z"
   },
   {
    "duration": 808,
    "start_time": "2023-03-16T04:05:51.503Z"
   },
   {
    "duration": 18,
    "start_time": "2023-03-16T04:12:52.901Z"
   },
   {
    "duration": 12,
    "start_time": "2023-03-16T04:15:26.026Z"
   },
   {
    "duration": 16,
    "start_time": "2023-03-16T04:15:32.312Z"
   },
   {
    "duration": 34,
    "start_time": "2023-03-16T04:15:46.638Z"
   },
   {
    "duration": 797,
    "start_time": "2023-03-16T04:16:07.037Z"
   },
   {
    "duration": 16,
    "start_time": "2023-03-16T04:16:12.267Z"
   },
   {
    "duration": 23,
    "start_time": "2023-03-16T04:21:30.926Z"
   },
   {
    "duration": 19,
    "start_time": "2023-03-16T04:23:27.687Z"
   },
   {
    "duration": 130,
    "start_time": "2023-03-16T04:23:47.916Z"
   },
   {
    "duration": 126,
    "start_time": "2023-03-16T04:24:45.560Z"
   },
   {
    "duration": 391,
    "start_time": "2023-03-16T04:25:00.075Z"
   },
   {
    "duration": 135,
    "start_time": "2023-03-16T04:25:07.936Z"
   },
   {
    "duration": 143,
    "start_time": "2023-03-16T04:25:23.359Z"
   },
   {
    "duration": 21,
    "start_time": "2023-03-16T04:26:57.817Z"
   },
   {
    "duration": 9,
    "start_time": "2023-03-16T04:27:09.795Z"
   },
   {
    "duration": 8,
    "start_time": "2023-03-16T04:27:27.877Z"
   },
   {
    "duration": 13,
    "start_time": "2023-03-16T04:28:00.230Z"
   },
   {
    "duration": 4,
    "start_time": "2023-03-16T04:28:07.754Z"
   },
   {
    "duration": 1255,
    "start_time": "2023-03-16T04:28:13.100Z"
   },
   {
    "duration": 12,
    "start_time": "2023-03-16T04:28:31.584Z"
   },
   {
    "duration": 4,
    "start_time": "2023-03-16T04:29:52.085Z"
   },
   {
    "duration": 128,
    "start_time": "2023-03-16T04:29:53.143Z"
   },
   {
    "duration": 135,
    "start_time": "2023-03-16T04:29:57.025Z"
   },
   {
    "duration": 3,
    "start_time": "2023-03-16T04:31:04.716Z"
   },
   {
    "duration": 6,
    "start_time": "2023-03-16T04:31:04.722Z"
   },
   {
    "duration": 5,
    "start_time": "2023-03-16T04:31:04.730Z"
   },
   {
    "duration": 63,
    "start_time": "2023-03-16T04:31:04.736Z"
   },
   {
    "duration": 14,
    "start_time": "2023-03-16T04:31:04.802Z"
   },
   {
    "duration": 19,
    "start_time": "2023-03-16T04:31:04.818Z"
   },
   {
    "duration": 3,
    "start_time": "2023-03-16T04:31:04.839Z"
   },
   {
    "duration": 9,
    "start_time": "2023-03-16T04:31:04.844Z"
   },
   {
    "duration": 30,
    "start_time": "2023-03-16T04:31:04.855Z"
   },
   {
    "duration": 15,
    "start_time": "2023-03-16T04:31:04.886Z"
   },
   {
    "duration": 28,
    "start_time": "2023-03-16T04:31:04.903Z"
   },
   {
    "duration": 9,
    "start_time": "2023-03-16T04:31:04.933Z"
   },
   {
    "duration": 14,
    "start_time": "2023-03-16T04:31:04.943Z"
   },
   {
    "duration": 7,
    "start_time": "2023-03-16T04:31:04.960Z"
   },
   {
    "duration": 13,
    "start_time": "2023-03-16T04:31:04.969Z"
   },
   {
    "duration": 12,
    "start_time": "2023-03-16T04:31:04.984Z"
   },
   {
    "duration": 26,
    "start_time": "2023-03-16T04:31:04.998Z"
   },
   {
    "duration": 7,
    "start_time": "2023-03-16T04:31:05.026Z"
   },
   {
    "duration": 17,
    "start_time": "2023-03-16T04:31:05.034Z"
   },
   {
    "duration": 12,
    "start_time": "2023-03-16T04:31:05.053Z"
   },
   {
    "duration": 7,
    "start_time": "2023-03-16T04:31:05.067Z"
   },
   {
    "duration": 5,
    "start_time": "2023-03-16T04:31:05.081Z"
   },
   {
    "duration": 310,
    "start_time": "2023-03-16T04:31:05.087Z"
   },
   {
    "duration": 4,
    "start_time": "2023-03-16T04:31:05.399Z"
   },
   {
    "duration": 1204,
    "start_time": "2023-03-16T04:31:05.406Z"
   },
   {
    "duration": 6,
    "start_time": "2023-03-16T04:31:06.612Z"
   },
   {
    "duration": 11,
    "start_time": "2023-03-16T04:31:06.619Z"
   },
   {
    "duration": 8,
    "start_time": "2023-03-16T04:31:06.632Z"
   },
   {
    "duration": 266,
    "start_time": "2023-03-16T04:31:06.641Z"
   },
   {
    "duration": 13,
    "start_time": "2023-03-16T04:31:06.909Z"
   },
   {
    "duration": 15,
    "start_time": "2023-03-16T04:31:06.924Z"
   },
   {
    "duration": 4,
    "start_time": "2023-03-16T04:31:06.941Z"
   },
   {
    "duration": 261,
    "start_time": "2023-03-16T04:31:06.946Z"
   },
   {
    "duration": 9,
    "start_time": "2023-03-16T04:31:07.209Z"
   },
   {
    "duration": 832,
    "start_time": "2023-03-16T04:31:07.219Z"
   },
   {
    "duration": 29,
    "start_time": "2023-03-16T04:31:08.053Z"
   },
   {
    "duration": 7,
    "start_time": "2023-03-16T04:31:10.835Z"
   },
   {
    "duration": 5,
    "start_time": "2023-03-16T04:31:11.244Z"
   },
   {
    "duration": 9,
    "start_time": "2023-03-16T04:31:12.594Z"
   },
   {
    "duration": 11,
    "start_time": "2023-03-16T04:31:34.105Z"
   },
   {
    "duration": 3,
    "start_time": "2023-03-16T04:31:38.613Z"
   },
   {
    "duration": 19,
    "start_time": "2023-03-16T04:31:38.618Z"
   },
   {
    "duration": 17,
    "start_time": "2023-03-16T04:31:38.639Z"
   },
   {
    "duration": 68,
    "start_time": "2023-03-16T04:31:38.658Z"
   },
   {
    "duration": 15,
    "start_time": "2023-03-16T04:31:38.728Z"
   },
   {
    "duration": 22,
    "start_time": "2023-03-16T04:31:38.744Z"
   },
   {
    "duration": 12,
    "start_time": "2023-03-16T04:31:38.768Z"
   },
   {
    "duration": 16,
    "start_time": "2023-03-16T04:31:38.782Z"
   },
   {
    "duration": 16,
    "start_time": "2023-03-16T04:31:38.801Z"
   },
   {
    "duration": 18,
    "start_time": "2023-03-16T04:31:38.819Z"
   },
   {
    "duration": 10,
    "start_time": "2023-03-16T04:31:38.838Z"
   },
   {
    "duration": 32,
    "start_time": "2023-03-16T04:31:38.849Z"
   },
   {
    "duration": 29,
    "start_time": "2023-03-16T04:31:38.883Z"
   },
   {
    "duration": 15,
    "start_time": "2023-03-16T04:31:38.914Z"
   },
   {
    "duration": 24,
    "start_time": "2023-03-16T04:31:38.931Z"
   },
   {
    "duration": 33,
    "start_time": "2023-03-16T04:31:38.957Z"
   },
   {
    "duration": 46,
    "start_time": "2023-03-16T04:31:38.991Z"
   },
   {
    "duration": 27,
    "start_time": "2023-03-16T04:31:39.038Z"
   },
   {
    "duration": 28,
    "start_time": "2023-03-16T04:31:39.066Z"
   },
   {
    "duration": 18,
    "start_time": "2023-03-16T04:31:39.096Z"
   },
   {
    "duration": 23,
    "start_time": "2023-03-16T04:31:39.116Z"
   },
   {
    "duration": 27,
    "start_time": "2023-03-16T04:31:39.141Z"
   },
   {
    "duration": 562,
    "start_time": "2023-03-16T04:31:39.170Z"
   },
   {
    "duration": 4,
    "start_time": "2023-03-16T04:31:39.735Z"
   },
   {
    "duration": 1066,
    "start_time": "2023-03-16T04:31:39.740Z"
   },
   {
    "duration": 6,
    "start_time": "2023-03-16T04:31:40.808Z"
   },
   {
    "duration": 60,
    "start_time": "2023-03-16T04:31:40.815Z"
   },
   {
    "duration": 16,
    "start_time": "2023-03-16T04:31:40.877Z"
   },
   {
    "duration": 250,
    "start_time": "2023-03-16T04:31:40.894Z"
   },
   {
    "duration": 11,
    "start_time": "2023-03-16T04:31:41.146Z"
   },
   {
    "duration": 24,
    "start_time": "2023-03-16T04:31:41.158Z"
   },
   {
    "duration": 12,
    "start_time": "2023-03-16T04:31:41.183Z"
   },
   {
    "duration": 224,
    "start_time": "2023-03-16T04:31:41.197Z"
   },
   {
    "duration": 9,
    "start_time": "2023-03-16T04:31:41.423Z"
   },
   {
    "duration": 777,
    "start_time": "2023-03-16T04:31:41.433Z"
   },
   {
    "duration": 14,
    "start_time": "2023-03-16T04:31:42.212Z"
   },
   {
    "duration": 10,
    "start_time": "2023-03-16T04:31:42.245Z"
   },
   {
    "duration": 3,
    "start_time": "2023-03-16T04:31:42.535Z"
   },
   {
    "duration": 4,
    "start_time": "2023-03-16T04:31:42.795Z"
   },
   {
    "duration": 130,
    "start_time": "2023-03-16T04:31:43.405Z"
   },
   {
    "duration": 17,
    "start_time": "2023-03-16T04:32:13.612Z"
   },
   {
    "duration": 135,
    "start_time": "2023-03-16T04:32:58.015Z"
   },
   {
    "duration": 12,
    "start_time": "2023-03-16T04:38:14.385Z"
   },
   {
    "duration": 138,
    "start_time": "2023-03-16T04:40:05.201Z"
   },
   {
    "duration": 3,
    "start_time": "2023-03-16T04:40:41.717Z"
   },
   {
    "duration": 6,
    "start_time": "2023-03-16T04:40:41.722Z"
   },
   {
    "duration": 6,
    "start_time": "2023-03-16T04:40:41.729Z"
   },
   {
    "duration": 53,
    "start_time": "2023-03-16T04:40:41.736Z"
   },
   {
    "duration": 14,
    "start_time": "2023-03-16T04:40:41.791Z"
   },
   {
    "duration": 23,
    "start_time": "2023-03-16T04:40:41.806Z"
   },
   {
    "duration": 3,
    "start_time": "2023-03-16T04:40:41.830Z"
   },
   {
    "duration": 17,
    "start_time": "2023-03-16T04:40:41.834Z"
   },
   {
    "duration": 10,
    "start_time": "2023-03-16T04:40:41.852Z"
   },
   {
    "duration": 20,
    "start_time": "2023-03-16T04:40:41.863Z"
   },
   {
    "duration": 8,
    "start_time": "2023-03-16T04:40:41.885Z"
   },
   {
    "duration": 17,
    "start_time": "2023-03-16T04:40:41.894Z"
   },
   {
    "duration": 4,
    "start_time": "2023-03-16T04:40:41.913Z"
   },
   {
    "duration": 6,
    "start_time": "2023-03-16T04:40:41.919Z"
   },
   {
    "duration": 6,
    "start_time": "2023-03-16T04:40:41.927Z"
   },
   {
    "duration": 7,
    "start_time": "2023-03-16T04:40:41.935Z"
   },
   {
    "duration": 39,
    "start_time": "2023-03-16T04:40:41.943Z"
   },
   {
    "duration": 8,
    "start_time": "2023-03-16T04:40:41.984Z"
   },
   {
    "duration": 11,
    "start_time": "2023-03-16T04:40:41.993Z"
   },
   {
    "duration": 6,
    "start_time": "2023-03-16T04:40:42.006Z"
   },
   {
    "duration": 7,
    "start_time": "2023-03-16T04:40:42.013Z"
   },
   {
    "duration": 7,
    "start_time": "2023-03-16T04:40:42.021Z"
   },
   {
    "duration": 312,
    "start_time": "2023-03-16T04:40:42.030Z"
   },
   {
    "duration": 3,
    "start_time": "2023-03-16T04:40:42.344Z"
   },
   {
    "duration": 1295,
    "start_time": "2023-03-16T04:40:42.349Z"
   },
   {
    "duration": 6,
    "start_time": "2023-03-16T04:40:43.645Z"
   },
   {
    "duration": 8,
    "start_time": "2023-03-16T04:40:43.653Z"
   },
   {
    "duration": 7,
    "start_time": "2023-03-16T04:40:43.663Z"
   },
   {
    "duration": 237,
    "start_time": "2023-03-16T04:40:43.682Z"
   },
   {
    "duration": 12,
    "start_time": "2023-03-16T04:40:43.920Z"
   },
   {
    "duration": 8,
    "start_time": "2023-03-16T04:40:43.934Z"
   },
   {
    "duration": 3,
    "start_time": "2023-03-16T04:40:43.943Z"
   },
   {
    "duration": 254,
    "start_time": "2023-03-16T04:40:43.948Z"
   },
   {
    "duration": 8,
    "start_time": "2023-03-16T04:40:44.203Z"
   },
   {
    "duration": 740,
    "start_time": "2023-03-16T04:40:44.213Z"
   },
   {
    "duration": 16,
    "start_time": "2023-03-16T04:40:44.954Z"
   },
   {
    "duration": 153,
    "start_time": "2023-03-16T04:40:44.981Z"
   },
   {
    "duration": 10,
    "start_time": "2023-03-16T04:40:45.575Z"
   },
   {
    "duration": 4,
    "start_time": "2023-03-16T04:40:45.589Z"
   },
   {
    "duration": 5,
    "start_time": "2023-03-16T04:40:45.983Z"
   },
   {
    "duration": 122,
    "start_time": "2023-03-16T04:40:46.684Z"
   },
   {
    "duration": 12,
    "start_time": "2023-03-16T04:40:49.194Z"
   },
   {
    "duration": 123,
    "start_time": "2023-03-16T04:40:52.312Z"
   },
   {
    "duration": 8,
    "start_time": "2023-03-16T04:41:35.614Z"
   },
   {
    "duration": 4,
    "start_time": "2023-03-16T04:41:41.956Z"
   },
   {
    "duration": 8,
    "start_time": "2023-03-16T04:42:38.394Z"
   },
   {
    "duration": 3,
    "start_time": "2023-03-16T04:42:39.124Z"
   },
   {
    "duration": 5,
    "start_time": "2023-03-16T04:42:39.504Z"
   },
   {
    "duration": 137,
    "start_time": "2023-03-16T04:42:39.904Z"
   },
   {
    "duration": 10,
    "start_time": "2023-03-16T04:42:42.204Z"
   },
   {
    "duration": 430,
    "start_time": "2023-03-16T06:21:02.996Z"
   },
   {
    "duration": 538,
    "start_time": "2023-03-16T06:21:03.428Z"
   },
   {
    "duration": 3,
    "start_time": "2023-03-16T06:21:03.969Z"
   },
   {
    "duration": 123,
    "start_time": "2023-03-16T06:21:03.974Z"
   },
   {
    "duration": 23,
    "start_time": "2023-03-16T06:21:04.100Z"
   },
   {
    "duration": 17,
    "start_time": "2023-03-16T06:21:04.125Z"
   },
   {
    "duration": 3,
    "start_time": "2023-03-16T06:21:04.144Z"
   },
   {
    "duration": 17,
    "start_time": "2023-03-16T06:21:04.149Z"
   },
   {
    "duration": 14,
    "start_time": "2023-03-16T06:21:04.168Z"
   },
   {
    "duration": 20,
    "start_time": "2023-03-16T06:21:04.184Z"
   },
   {
    "duration": 12,
    "start_time": "2023-03-16T06:21:04.206Z"
   },
   {
    "duration": 28,
    "start_time": "2023-03-16T06:21:04.221Z"
   },
   {
    "duration": 15,
    "start_time": "2023-03-16T06:21:04.251Z"
   },
   {
    "duration": 19,
    "start_time": "2023-03-16T06:21:04.270Z"
   },
   {
    "duration": 24,
    "start_time": "2023-03-16T06:21:04.291Z"
   },
   {
    "duration": 17,
    "start_time": "2023-03-16T06:21:04.317Z"
   },
   {
    "duration": 34,
    "start_time": "2023-03-16T06:21:04.337Z"
   },
   {
    "duration": 8,
    "start_time": "2023-03-16T06:21:04.373Z"
   },
   {
    "duration": 14,
    "start_time": "2023-03-16T06:21:04.383Z"
   },
   {
    "duration": 12,
    "start_time": "2023-03-16T06:21:04.399Z"
   },
   {
    "duration": 15,
    "start_time": "2023-03-16T06:21:04.413Z"
   },
   {
    "duration": 22,
    "start_time": "2023-03-16T06:21:04.430Z"
   },
   {
    "duration": 827,
    "start_time": "2023-03-16T06:21:04.455Z"
   },
   {
    "duration": 4,
    "start_time": "2023-03-16T06:21:05.284Z"
   },
   {
    "duration": 1261,
    "start_time": "2023-03-16T06:21:05.291Z"
   },
   {
    "duration": 6,
    "start_time": "2023-03-16T06:21:06.554Z"
   },
   {
    "duration": 10,
    "start_time": "2023-03-16T06:21:06.562Z"
   },
   {
    "duration": 17,
    "start_time": "2023-03-16T06:21:06.574Z"
   },
   {
    "duration": 307,
    "start_time": "2023-03-16T06:21:06.593Z"
   },
   {
    "duration": 13,
    "start_time": "2023-03-16T06:21:06.902Z"
   },
   {
    "duration": 10,
    "start_time": "2023-03-16T06:21:06.916Z"
   },
   {
    "duration": 9,
    "start_time": "2023-03-16T06:21:06.928Z"
   },
   {
    "duration": 288,
    "start_time": "2023-03-16T06:21:06.939Z"
   },
   {
    "duration": 12,
    "start_time": "2023-03-16T06:21:07.229Z"
   },
   {
    "duration": 863,
    "start_time": "2023-03-16T06:21:07.243Z"
   },
   {
    "duration": 16,
    "start_time": "2023-03-16T06:21:08.108Z"
   },
   {
    "duration": 156,
    "start_time": "2023-03-16T06:21:08.126Z"
   },
   {
    "duration": 8,
    "start_time": "2023-03-16T06:21:08.284Z"
   },
   {
    "duration": 9,
    "start_time": "2023-03-16T06:21:08.294Z"
   },
   {
    "duration": 12,
    "start_time": "2023-03-16T06:21:08.305Z"
   },
   {
    "duration": 152,
    "start_time": "2023-03-16T06:21:08.321Z"
   },
   {
    "duration": 14,
    "start_time": "2023-03-16T06:21:08.475Z"
   },
   {
    "duration": 161,
    "start_time": "2023-03-16T06:21:08.492Z"
   },
   {
    "duration": 10,
    "start_time": "2023-03-16T06:21:08.663Z"
   },
   {
    "duration": 27,
    "start_time": "2023-03-16T06:21:08.674Z"
   },
   {
    "duration": 10,
    "start_time": "2023-03-16T06:21:08.703Z"
   },
   {
    "duration": 242,
    "start_time": "2023-03-16T06:21:08.715Z"
   },
   {
    "duration": 16,
    "start_time": "2023-03-16T06:21:08.959Z"
   },
   {
    "duration": 6,
    "start_time": "2023-03-16T06:23:45.567Z"
   },
   {
    "duration": 3,
    "start_time": "2023-03-16T06:23:46.899Z"
   },
   {
    "duration": 356,
    "start_time": "2023-03-16T06:27:23.312Z"
   },
   {
    "duration": 370,
    "start_time": "2023-03-16T06:27:52.040Z"
   },
   {
    "duration": 385,
    "start_time": "2023-03-16T06:28:23.570Z"
   },
   {
    "duration": 5,
    "start_time": "2023-03-16T06:30:23.996Z"
   },
   {
    "duration": 16,
    "start_time": "2023-03-16T06:30:24.003Z"
   },
   {
    "duration": 15,
    "start_time": "2023-03-16T06:30:24.021Z"
   },
   {
    "duration": 72,
    "start_time": "2023-03-16T06:30:24.038Z"
   },
   {
    "duration": 19,
    "start_time": "2023-03-16T06:30:24.114Z"
   },
   {
    "duration": 50,
    "start_time": "2023-03-16T06:30:24.135Z"
   },
   {
    "duration": 4,
    "start_time": "2023-03-16T06:30:24.187Z"
   },
   {
    "duration": 13,
    "start_time": "2023-03-16T06:30:24.193Z"
   },
   {
    "duration": 28,
    "start_time": "2023-03-16T06:30:24.211Z"
   },
   {
    "duration": 21,
    "start_time": "2023-03-16T06:30:24.241Z"
   },
   {
    "duration": 17,
    "start_time": "2023-03-16T06:30:24.264Z"
   },
   {
    "duration": 9,
    "start_time": "2023-03-16T06:30:24.283Z"
   },
   {
    "duration": 24,
    "start_time": "2023-03-16T06:30:24.296Z"
   },
   {
    "duration": 9,
    "start_time": "2023-03-16T06:30:24.324Z"
   },
   {
    "duration": 19,
    "start_time": "2023-03-16T06:30:24.335Z"
   },
   {
    "duration": 22,
    "start_time": "2023-03-16T06:30:24.356Z"
   },
   {
    "duration": 33,
    "start_time": "2023-03-16T06:30:24.381Z"
   },
   {
    "duration": 14,
    "start_time": "2023-03-16T06:30:24.417Z"
   },
   {
    "duration": 22,
    "start_time": "2023-03-16T06:30:24.433Z"
   },
   {
    "duration": 9,
    "start_time": "2023-03-16T06:30:24.457Z"
   },
   {
    "duration": 35,
    "start_time": "2023-03-16T06:30:24.468Z"
   },
   {
    "duration": 12,
    "start_time": "2023-03-16T06:30:24.505Z"
   },
   {
    "duration": 375,
    "start_time": "2023-03-16T06:30:24.519Z"
   },
   {
    "duration": 5,
    "start_time": "2023-03-16T06:30:24.896Z"
   },
   {
    "duration": 1308,
    "start_time": "2023-03-16T06:30:24.902Z"
   },
   {
    "duration": 6,
    "start_time": "2023-03-16T06:30:26.212Z"
   },
   {
    "duration": 17,
    "start_time": "2023-03-16T06:30:26.220Z"
   },
   {
    "duration": 8,
    "start_time": "2023-03-16T06:30:26.239Z"
   },
   {
    "duration": 288,
    "start_time": "2023-03-16T06:30:26.249Z"
   },
   {
    "duration": 25,
    "start_time": "2023-03-16T06:30:26.539Z"
   },
   {
    "duration": 11,
    "start_time": "2023-03-16T06:30:26.566Z"
   },
   {
    "duration": 3,
    "start_time": "2023-03-16T06:30:26.579Z"
   },
   {
    "duration": 312,
    "start_time": "2023-03-16T06:30:26.583Z"
   },
   {
    "duration": 10,
    "start_time": "2023-03-16T06:30:26.897Z"
   },
   {
    "duration": 848,
    "start_time": "2023-03-16T06:30:26.908Z"
   },
   {
    "duration": 18,
    "start_time": "2023-03-16T06:30:27.758Z"
   },
   {
    "duration": 178,
    "start_time": "2023-03-16T06:30:27.778Z"
   },
   {
    "duration": 14,
    "start_time": "2023-03-16T06:30:27.958Z"
   },
   {
    "duration": 26,
    "start_time": "2023-03-16T06:30:27.974Z"
   },
   {
    "duration": 29,
    "start_time": "2023-03-16T06:30:28.003Z"
   },
   {
    "duration": 176,
    "start_time": "2023-03-16T06:30:28.036Z"
   },
   {
    "duration": 12,
    "start_time": "2023-03-16T06:30:28.215Z"
   },
   {
    "duration": 173,
    "start_time": "2023-03-16T06:30:28.228Z"
   },
   {
    "duration": 9,
    "start_time": "2023-03-16T06:30:28.404Z"
   },
   {
    "duration": 13,
    "start_time": "2023-03-16T06:30:28.415Z"
   },
   {
    "duration": 16,
    "start_time": "2023-03-16T06:30:28.430Z"
   },
   {
    "duration": 180,
    "start_time": "2023-03-16T06:30:28.448Z"
   },
   {
    "duration": 12,
    "start_time": "2023-03-16T06:30:28.630Z"
   },
   {
    "duration": 69,
    "start_time": "2023-03-16T06:30:43.010Z"
   },
   {
    "duration": 9,
    "start_time": "2023-03-16T06:34:18.625Z"
   },
   {
    "duration": 9,
    "start_time": "2023-03-16T06:34:40.494Z"
   },
   {
    "duration": 186,
    "start_time": "2023-03-16T06:40:53.641Z"
   },
   {
    "duration": 113,
    "start_time": "2023-03-16T06:51:47.841Z"
   },
   {
    "duration": 8,
    "start_time": "2023-03-16T06:52:01.140Z"
   },
   {
    "duration": 9,
    "start_time": "2023-03-16T06:52:19.433Z"
   },
   {
    "duration": 9,
    "start_time": "2023-03-16T06:52:31.096Z"
   },
   {
    "duration": 293,
    "start_time": "2023-03-16T06:52:45.128Z"
   },
   {
    "duration": 153,
    "start_time": "2023-03-16T06:52:51.867Z"
   },
   {
    "duration": 158,
    "start_time": "2023-03-16T06:52:54.798Z"
   },
   {
    "duration": 132,
    "start_time": "2023-03-16T06:53:59.403Z"
   },
   {
    "duration": 145,
    "start_time": "2023-03-16T06:58:13.833Z"
   },
   {
    "duration": 129,
    "start_time": "2023-03-16T07:05:08.669Z"
   },
   {
    "duration": 126,
    "start_time": "2023-03-16T07:05:22.129Z"
   },
   {
    "duration": 143,
    "start_time": "2023-03-16T07:05:32.391Z"
   },
   {
    "duration": 169,
    "start_time": "2023-03-16T07:13:40.720Z"
   },
   {
    "duration": 7,
    "start_time": "2023-03-16T07:14:08.318Z"
   },
   {
    "duration": 141,
    "start_time": "2023-03-16T07:19:53.792Z"
   },
   {
    "duration": 140,
    "start_time": "2023-03-16T07:20:02.232Z"
   },
   {
    "duration": 34,
    "start_time": "2023-03-16T07:31:08.371Z"
   },
   {
    "duration": 132,
    "start_time": "2023-03-16T07:31:19.026Z"
   },
   {
    "duration": 136,
    "start_time": "2023-03-16T07:31:28.475Z"
   },
   {
    "duration": 169,
    "start_time": "2023-03-16T07:31:32.603Z"
   },
   {
    "duration": 9,
    "start_time": "2023-03-16T07:51:16.912Z"
   },
   {
    "duration": 3,
    "start_time": "2023-03-16T08:04:16.154Z"
   },
   {
    "duration": 288,
    "start_time": "2023-03-16T08:06:55.648Z"
   },
   {
    "duration": 301,
    "start_time": "2023-03-16T08:07:23.812Z"
   },
   {
    "duration": 256,
    "start_time": "2023-03-16T08:08:43.696Z"
   },
   {
    "duration": 483,
    "start_time": "2023-03-16T08:09:00.332Z"
   },
   {
    "duration": 178,
    "start_time": "2023-03-16T08:09:24.303Z"
   },
   {
    "duration": 190,
    "start_time": "2023-03-16T08:11:11.664Z"
   },
   {
    "duration": 3,
    "start_time": "2023-03-16T08:12:22.343Z"
   },
   {
    "duration": 6,
    "start_time": "2023-03-16T08:12:56.655Z"
   },
   {
    "duration": 88,
    "start_time": "2023-03-16T08:18:12.771Z"
   },
   {
    "duration": 7,
    "start_time": "2023-03-16T08:18:22.510Z"
   },
   {
    "duration": 9,
    "start_time": "2023-03-16T08:18:24.879Z"
   },
   {
    "duration": 7,
    "start_time": "2023-03-16T08:18:51.041Z"
   },
   {
    "duration": 23,
    "start_time": "2023-03-16T08:25:17.231Z"
   },
   {
    "duration": 376,
    "start_time": "2023-03-16T08:25:57.078Z"
   },
   {
    "duration": 483,
    "start_time": "2023-03-16T08:26:14.410Z"
   },
   {
    "duration": 79,
    "start_time": "2023-03-16T08:26:38.715Z"
   },
   {
    "duration": 436,
    "start_time": "2023-03-16T08:26:43.526Z"
   },
   {
    "duration": 463,
    "start_time": "2023-03-16T08:26:59.186Z"
   },
   {
    "duration": 666,
    "start_time": "2023-03-16T08:27:45.619Z"
   },
   {
    "duration": 471,
    "start_time": "2023-03-16T08:27:54.080Z"
   },
   {
    "duration": 486,
    "start_time": "2023-03-16T08:28:23.736Z"
   },
   {
    "duration": 484,
    "start_time": "2023-03-16T08:28:35.299Z"
   },
   {
    "duration": 3,
    "start_time": "2023-03-16T08:30:02.806Z"
   },
   {
    "duration": 12,
    "start_time": "2023-03-16T08:31:52.218Z"
   },
   {
    "duration": 3,
    "start_time": "2023-03-16T08:31:57.411Z"
   },
   {
    "duration": 1406,
    "start_time": "2023-03-16T08:31:58.287Z"
   },
   {
    "duration": 1615,
    "start_time": "2023-03-16T08:32:12.286Z"
   },
   {
    "duration": 1479,
    "start_time": "2023-03-16T08:33:17.515Z"
   },
   {
    "duration": 1676,
    "start_time": "2023-03-16T08:33:27.590Z"
   },
   {
    "duration": 461,
    "start_time": "2023-03-16T11:23:55.053Z"
   },
   {
    "duration": 488,
    "start_time": "2023-03-16T11:23:55.516Z"
   },
   {
    "duration": 3,
    "start_time": "2023-03-16T11:23:56.007Z"
   },
   {
    "duration": 133,
    "start_time": "2023-03-16T11:23:56.012Z"
   },
   {
    "duration": 23,
    "start_time": "2023-03-16T11:23:56.147Z"
   },
   {
    "duration": 14,
    "start_time": "2023-03-16T11:23:56.171Z"
   },
   {
    "duration": 3,
    "start_time": "2023-03-16T11:23:56.186Z"
   },
   {
    "duration": 7,
    "start_time": "2023-03-16T11:23:56.190Z"
   },
   {
    "duration": 12,
    "start_time": "2023-03-16T11:23:56.199Z"
   },
   {
    "duration": 11,
    "start_time": "2023-03-16T11:23:56.212Z"
   },
   {
    "duration": 12,
    "start_time": "2023-03-16T11:23:56.225Z"
   },
   {
    "duration": 12,
    "start_time": "2023-03-16T11:23:56.238Z"
   },
   {
    "duration": 29,
    "start_time": "2023-03-16T11:23:56.252Z"
   },
   {
    "duration": 5,
    "start_time": "2023-03-16T11:23:56.284Z"
   },
   {
    "duration": 6,
    "start_time": "2023-03-16T11:23:56.290Z"
   },
   {
    "duration": 8,
    "start_time": "2023-03-16T11:23:56.298Z"
   },
   {
    "duration": 25,
    "start_time": "2023-03-16T11:23:56.307Z"
   },
   {
    "duration": 8,
    "start_time": "2023-03-16T11:23:56.334Z"
   },
   {
    "duration": 13,
    "start_time": "2023-03-16T11:23:56.343Z"
   },
   {
    "duration": 25,
    "start_time": "2023-03-16T11:23:56.358Z"
   },
   {
    "duration": 9,
    "start_time": "2023-03-16T11:23:56.385Z"
   },
   {
    "duration": 7,
    "start_time": "2023-03-16T11:23:56.395Z"
   },
   {
    "duration": 767,
    "start_time": "2023-03-16T11:23:56.404Z"
   },
   {
    "duration": 10,
    "start_time": "2023-03-16T11:23:57.172Z"
   },
   {
    "duration": 1247,
    "start_time": "2023-03-16T11:23:57.184Z"
   },
   {
    "duration": 7,
    "start_time": "2023-03-16T11:23:58.433Z"
   },
   {
    "duration": 5,
    "start_time": "2023-03-16T11:23:58.441Z"
   },
   {
    "duration": 18,
    "start_time": "2023-03-16T11:23:58.447Z"
   },
   {
    "duration": 265,
    "start_time": "2023-03-16T11:23:58.466Z"
   },
   {
    "duration": 13,
    "start_time": "2023-03-16T11:23:58.732Z"
   },
   {
    "duration": 9,
    "start_time": "2023-03-16T11:23:58.747Z"
   },
   {
    "duration": 23,
    "start_time": "2023-03-16T11:23:58.758Z"
   },
   {
    "duration": 262,
    "start_time": "2023-03-16T11:23:58.783Z"
   },
   {
    "duration": 10,
    "start_time": "2023-03-16T11:23:59.047Z"
   },
   {
    "duration": 785,
    "start_time": "2023-03-16T11:23:59.058Z"
   },
   {
    "duration": 16,
    "start_time": "2023-03-16T11:23:59.844Z"
   },
   {
    "duration": 144,
    "start_time": "2023-03-16T11:23:59.862Z"
   },
   {
    "duration": 9,
    "start_time": "2023-03-16T11:24:00.008Z"
   },
   {
    "duration": 18,
    "start_time": "2023-03-16T11:24:00.019Z"
   },
   {
    "duration": 32,
    "start_time": "2023-03-16T11:24:00.039Z"
   },
   {
    "duration": 151,
    "start_time": "2023-03-16T11:24:00.075Z"
   },
   {
    "duration": 12,
    "start_time": "2023-03-16T11:24:00.228Z"
   },
   {
    "duration": 207,
    "start_time": "2023-03-16T11:24:00.242Z"
   },
   {
    "duration": 8,
    "start_time": "2023-03-16T11:24:00.451Z"
   },
   {
    "duration": 35,
    "start_time": "2023-03-16T11:24:00.461Z"
   },
   {
    "duration": 66,
    "start_time": "2023-03-16T11:24:00.498Z"
   },
   {
    "duration": 298,
    "start_time": "2023-03-16T11:24:00.566Z"
   },
   {
    "duration": 20,
    "start_time": "2023-03-16T11:24:00.865Z"
   },
   {
    "duration": 80,
    "start_time": "2023-03-16T11:24:00.887Z"
   },
   {
    "duration": 184,
    "start_time": "2023-03-16T11:24:00.969Z"
   },
   {
    "duration": 129,
    "start_time": "2023-03-16T11:24:01.156Z"
   },
   {
    "duration": 132,
    "start_time": "2023-03-16T11:24:01.286Z"
   },
   {
    "duration": 149,
    "start_time": "2023-03-16T11:24:01.420Z"
   },
   {
    "duration": 140,
    "start_time": "2023-03-16T11:24:01.571Z"
   },
   {
    "duration": 134,
    "start_time": "2023-03-16T11:24:01.713Z"
   },
   {
    "duration": 139,
    "start_time": "2023-03-16T11:24:01.848Z"
   },
   {
    "duration": 19,
    "start_time": "2023-03-16T11:24:01.989Z"
   },
   {
    "duration": 175,
    "start_time": "2023-03-16T11:24:02.010Z"
   },
   {
    "duration": 158,
    "start_time": "2023-03-16T11:24:02.187Z"
   },
   {
    "duration": 147,
    "start_time": "2023-03-16T11:24:02.348Z"
   },
   {
    "duration": 3,
    "start_time": "2023-03-16T11:29:11.135Z"
   },
   {
    "duration": 5,
    "start_time": "2023-03-16T11:34:20.342Z"
   },
   {
    "duration": 812,
    "start_time": "2023-03-16T11:36:50.207Z"
   },
   {
    "duration": 732,
    "start_time": "2023-03-16T11:42:45.435Z"
   },
   {
    "duration": 1243,
    "start_time": "2023-03-16T11:43:48.532Z"
   },
   {
    "duration": 742,
    "start_time": "2023-03-16T11:44:10.199Z"
   },
   {
    "duration": 655,
    "start_time": "2023-03-16T11:44:38.748Z"
   },
   {
    "duration": 11,
    "start_time": "2023-03-16T11:46:20.023Z"
   },
   {
    "duration": 4,
    "start_time": "2023-03-16T11:46:41.822Z"
   },
   {
    "duration": 4,
    "start_time": "2023-03-16T11:47:52.887Z"
   },
   {
    "duration": 9,
    "start_time": "2023-03-16T11:48:20.040Z"
   },
   {
    "duration": 9,
    "start_time": "2023-03-16T11:48:26.216Z"
   },
   {
    "duration": 149,
    "start_time": "2023-03-16T11:49:10.595Z"
   },
   {
    "duration": 972,
    "start_time": "2023-03-16T11:50:12.674Z"
   },
   {
    "duration": 1098,
    "start_time": "2023-03-16T11:50:30.994Z"
   },
   {
    "duration": 12,
    "start_time": "2023-03-16T11:56:11.883Z"
   },
   {
    "duration": 4,
    "start_time": "2023-03-16T11:56:12.887Z"
   },
   {
    "duration": 4,
    "start_time": "2023-03-16T11:56:20.624Z"
   },
   {
    "duration": 8,
    "start_time": "2023-03-16T11:58:30.911Z"
   },
   {
    "duration": 10,
    "start_time": "2023-03-16T11:58:38.495Z"
   },
   {
    "duration": 79,
    "start_time": "2023-03-16T12:30:40.265Z"
   },
   {
    "duration": 5,
    "start_time": "2023-03-16T12:30:50.411Z"
   },
   {
    "duration": 15,
    "start_time": "2023-03-16T12:40:43.094Z"
   },
   {
    "duration": 4,
    "start_time": "2023-03-16T12:41:13.103Z"
   },
   {
    "duration": 104,
    "start_time": "2023-03-16T12:41:19.388Z"
   },
   {
    "duration": 8,
    "start_time": "2023-03-16T12:46:28.877Z"
   },
   {
    "duration": 12,
    "start_time": "2023-03-16T12:46:32.628Z"
   },
   {
    "duration": 4,
    "start_time": "2023-03-16T12:46:37.206Z"
   },
   {
    "duration": 135,
    "start_time": "2023-03-16T12:47:01.712Z"
   },
   {
    "duration": 15,
    "start_time": "2023-03-16T12:48:14.856Z"
   },
   {
    "duration": 13,
    "start_time": "2023-03-16T12:48:33.736Z"
   },
   {
    "duration": 148,
    "start_time": "2023-03-16T12:48:45.508Z"
   },
   {
    "duration": 176,
    "start_time": "2023-03-16T12:49:32.292Z"
   },
   {
    "duration": 40,
    "start_time": "2023-03-16T12:57:40.328Z"
   },
   {
    "duration": 1674,
    "start_time": "2023-03-16T12:58:05.961Z"
   },
   {
    "duration": 258,
    "start_time": "2023-03-16T12:58:40.952Z"
   },
   {
    "duration": 143,
    "start_time": "2023-03-16T12:58:53.562Z"
   },
   {
    "duration": 136,
    "start_time": "2023-03-16T12:59:02.569Z"
   },
   {
    "duration": 117,
    "start_time": "2023-03-16T12:59:30.145Z"
   },
   {
    "duration": 63,
    "start_time": "2023-03-16T13:13:53.495Z"
   },
   {
    "duration": 7,
    "start_time": "2023-03-16T13:15:46.161Z"
   },
   {
    "duration": 70,
    "start_time": "2023-03-16T13:16:34.832Z"
   },
   {
    "duration": 5,
    "start_time": "2023-03-16T13:18:34.935Z"
   },
   {
    "duration": 5,
    "start_time": "2023-03-16T13:18:48.215Z"
   },
   {
    "duration": 100,
    "start_time": "2023-03-16T13:18:50.198Z"
   },
   {
    "duration": 5,
    "start_time": "2023-03-16T13:19:18.975Z"
   },
   {
    "duration": 59,
    "start_time": "2023-03-16T13:19:19.743Z"
   },
   {
    "duration": 5,
    "start_time": "2023-03-16T13:21:17.840Z"
   },
   {
    "duration": 50,
    "start_time": "2023-03-16T13:21:18.596Z"
   },
   {
    "duration": 1686,
    "start_time": "2023-03-16T13:21:53.214Z"
   },
   {
    "duration": 149,
    "start_time": "2023-03-16T13:22:20.896Z"
   },
   {
    "duration": 223,
    "start_time": "2023-03-16T13:22:42.431Z"
   },
   {
    "duration": 5,
    "start_time": "2023-03-16T13:22:53.599Z"
   },
   {
    "duration": 88,
    "start_time": "2023-03-16T13:22:54.430Z"
   },
   {
    "duration": 9,
    "start_time": "2023-03-16T13:23:55.654Z"
   },
   {
    "duration": 1794,
    "start_time": "2023-03-16T13:23:56.215Z"
   },
   {
    "duration": 7,
    "start_time": "2023-03-16T13:24:10.919Z"
   },
   {
    "duration": 1570,
    "start_time": "2023-03-16T13:24:11.400Z"
   },
   {
    "duration": 5,
    "start_time": "2023-03-16T13:25:23.961Z"
   },
   {
    "duration": 1696,
    "start_time": "2023-03-16T13:25:24.559Z"
   },
   {
    "duration": 8,
    "start_time": "2023-03-16T13:28:25.905Z"
   },
   {
    "duration": 1494,
    "start_time": "2023-03-16T13:28:27.256Z"
   },
   {
    "duration": 48,
    "start_time": "2023-03-17T06:39:32.796Z"
   },
   {
    "duration": 367,
    "start_time": "2023-03-17T06:39:42.498Z"
   },
   {
    "duration": 388,
    "start_time": "2023-03-17T06:39:42.867Z"
   },
   {
    "duration": 2,
    "start_time": "2023-03-17T06:39:43.257Z"
   },
   {
    "duration": 335,
    "start_time": "2023-03-17T06:39:43.260Z"
   },
   {
    "duration": 247,
    "start_time": "2023-03-17T06:39:43.597Z"
   },
   {
    "duration": 17,
    "start_time": "2023-03-17T06:39:43.845Z"
   },
   {
    "duration": 24,
    "start_time": "2023-03-17T06:39:43.864Z"
   },
   {
    "duration": 3,
    "start_time": "2023-03-17T06:39:43.890Z"
   },
   {
    "duration": 6,
    "start_time": "2023-03-17T06:39:43.894Z"
   },
   {
    "duration": 10,
    "start_time": "2023-03-17T06:39:43.902Z"
   },
   {
    "duration": 8,
    "start_time": "2023-03-17T06:39:43.913Z"
   },
   {
    "duration": 21,
    "start_time": "2023-03-17T06:39:43.922Z"
   },
   {
    "duration": 5,
    "start_time": "2023-03-17T06:39:43.944Z"
   },
   {
    "duration": 4,
    "start_time": "2023-03-17T06:39:43.950Z"
   },
   {
    "duration": 4,
    "start_time": "2023-03-17T06:39:43.955Z"
   },
   {
    "duration": 5,
    "start_time": "2023-03-17T06:39:43.960Z"
   },
   {
    "duration": 4,
    "start_time": "2023-03-17T06:39:43.966Z"
   },
   {
    "duration": 20,
    "start_time": "2023-03-17T06:39:43.972Z"
   },
   {
    "duration": 6,
    "start_time": "2023-03-17T06:39:43.993Z"
   },
   {
    "duration": 15,
    "start_time": "2023-03-17T06:39:44.000Z"
   },
   {
    "duration": 4,
    "start_time": "2023-03-17T06:39:44.039Z"
   },
   {
    "duration": 7,
    "start_time": "2023-03-17T06:39:44.044Z"
   },
   {
    "duration": 10,
    "start_time": "2023-03-17T06:39:44.053Z"
   },
   {
    "duration": 257,
    "start_time": "2023-03-17T06:39:44.065Z"
   },
   {
    "duration": 3,
    "start_time": "2023-03-17T06:39:44.323Z"
   },
   {
    "duration": 987,
    "start_time": "2023-03-17T06:39:44.327Z"
   },
   {
    "duration": 7,
    "start_time": "2023-03-17T06:39:45.316Z"
   },
   {
    "duration": 3,
    "start_time": "2023-03-17T06:39:45.327Z"
   },
   {
    "duration": 9,
    "start_time": "2023-03-17T06:39:45.331Z"
   },
   {
    "duration": 226,
    "start_time": "2023-03-17T06:39:45.341Z"
   },
   {
    "duration": 10,
    "start_time": "2023-03-17T06:39:45.569Z"
   },
   {
    "duration": 8,
    "start_time": "2023-03-17T06:39:45.580Z"
   },
   {
    "duration": 4,
    "start_time": "2023-03-17T06:39:45.589Z"
   },
   {
    "duration": 210,
    "start_time": "2023-03-17T06:39:45.594Z"
   },
   {
    "duration": 7,
    "start_time": "2023-03-17T06:39:45.805Z"
   },
   {
    "duration": 699,
    "start_time": "2023-03-17T06:39:45.813Z"
   },
   {
    "duration": 13,
    "start_time": "2023-03-17T06:39:46.514Z"
   },
   {
    "duration": 137,
    "start_time": "2023-03-17T06:39:46.542Z"
   },
   {
    "duration": 6,
    "start_time": "2023-03-17T06:39:46.681Z"
   },
   {
    "duration": 17,
    "start_time": "2023-03-17T06:39:46.689Z"
   },
   {
    "duration": 8,
    "start_time": "2023-03-17T06:39:46.707Z"
   },
   {
    "duration": 108,
    "start_time": "2023-03-17T06:39:46.716Z"
   },
   {
    "duration": 16,
    "start_time": "2023-03-17T06:39:46.825Z"
   },
   {
    "duration": 114,
    "start_time": "2023-03-17T06:39:46.842Z"
   },
   {
    "duration": 6,
    "start_time": "2023-03-17T06:39:46.957Z"
   },
   {
    "duration": 3,
    "start_time": "2023-03-17T06:39:46.965Z"
   },
   {
    "duration": 3,
    "start_time": "2023-03-17T06:39:46.969Z"
   },
   {
    "duration": 128,
    "start_time": "2023-03-17T06:39:46.974Z"
   },
   {
    "duration": 9,
    "start_time": "2023-03-17T06:39:47.103Z"
   },
   {
    "duration": 57,
    "start_time": "2023-03-17T06:39:47.114Z"
   },
   {
    "duration": 228,
    "start_time": "2023-03-17T06:39:49.861Z"
   },
   {
    "duration": 883,
    "start_time": "2023-03-17T06:39:51.459Z"
   },
   {
    "duration": 4,
    "start_time": "2023-03-17T06:42:43.636Z"
   },
   {
    "duration": 856,
    "start_time": "2023-03-17T06:42:44.653Z"
   },
   {
    "duration": 7,
    "start_time": "2023-03-17T06:44:07.236Z"
   },
   {
    "duration": 1092,
    "start_time": "2023-03-17T06:44:07.686Z"
   },
   {
    "duration": 10,
    "start_time": "2023-03-17T06:59:40.268Z"
   },
   {
    "duration": 12,
    "start_time": "2023-03-17T06:59:56.914Z"
   },
   {
    "duration": 6,
    "start_time": "2023-03-17T07:03:09.393Z"
   },
   {
    "duration": 22,
    "start_time": "2023-03-17T07:03:09.695Z"
   },
   {
    "duration": 9,
    "start_time": "2023-03-17T07:03:22.248Z"
   },
   {
    "duration": 1002,
    "start_time": "2023-03-17T07:03:22.486Z"
   },
   {
    "duration": 9,
    "start_time": "2023-03-17T07:03:31.544Z"
   },
   {
    "duration": 1158,
    "start_time": "2023-03-17T07:03:31.919Z"
   },
   {
    "duration": 5,
    "start_time": "2023-03-17T07:03:39.415Z"
   },
   {
    "duration": 1062,
    "start_time": "2023-03-17T07:03:39.678Z"
   },
   {
    "duration": 5,
    "start_time": "2023-03-17T07:03:46.007Z"
   },
   {
    "duration": 1280,
    "start_time": "2023-03-17T07:03:46.390Z"
   },
   {
    "duration": 2,
    "start_time": "2023-03-17T07:25:10.553Z"
   },
   {
    "duration": 80,
    "start_time": "2023-03-17T07:25:12.028Z"
   },
   {
    "duration": 2,
    "start_time": "2023-03-17T07:25:24.172Z"
   },
   {
    "duration": 3,
    "start_time": "2023-03-17T07:25:27.909Z"
   },
   {
    "duration": 5,
    "start_time": "2023-03-17T07:25:28.660Z"
   },
   {
    "duration": 187,
    "start_time": "2023-03-17T07:25:39.015Z"
   },
   {
    "duration": 2,
    "start_time": "2023-03-17T07:26:47.860Z"
   },
   {
    "duration": 6,
    "start_time": "2023-03-17T07:26:48.549Z"
   },
   {
    "duration": 193,
    "start_time": "2023-03-17T07:26:49.388Z"
   },
   {
    "duration": 6,
    "start_time": "2023-03-17T07:32:43.808Z"
   },
   {
    "duration": 196,
    "start_time": "2023-03-17T07:32:44.870Z"
   },
   {
    "duration": 2,
    "start_time": "2023-03-17T07:33:19.934Z"
   },
   {
    "duration": 6,
    "start_time": "2023-03-17T07:33:20.286Z"
   },
   {
    "duration": 204,
    "start_time": "2023-03-17T07:33:25.285Z"
   },
   {
    "duration": 8,
    "start_time": "2023-03-17T07:34:20.806Z"
   },
   {
    "duration": 12,
    "start_time": "2023-03-17T07:34:27.173Z"
   },
   {
    "duration": 11,
    "start_time": "2023-03-17T07:34:45.814Z"
   },
   {
    "duration": 12,
    "start_time": "2023-03-17T07:34:53.919Z"
   },
   {
    "duration": 6,
    "start_time": "2023-03-17T07:36:49.444Z"
   },
   {
    "duration": 719,
    "start_time": "2023-03-17T07:36:50.142Z"
   },
   {
    "duration": 6,
    "start_time": "2023-03-17T07:36:59.206Z"
   },
   {
    "duration": 873,
    "start_time": "2023-03-17T07:37:01.014Z"
   },
   {
    "duration": 2,
    "start_time": "2023-03-17T07:37:47.079Z"
   },
   {
    "duration": 8,
    "start_time": "2023-03-17T07:38:12.552Z"
   },
   {
    "duration": 928,
    "start_time": "2023-03-17T07:38:12.807Z"
   },
   {
    "duration": 3,
    "start_time": "2023-03-17T07:38:34.400Z"
   },
   {
    "duration": 2,
    "start_time": "2023-03-17T07:38:34.855Z"
   },
   {
    "duration": 7,
    "start_time": "2023-03-17T07:38:35.151Z"
   },
   {
    "duration": 921,
    "start_time": "2023-03-17T07:38:35.471Z"
   },
   {
    "duration": 9,
    "start_time": "2023-03-17T07:38:47.544Z"
   },
   {
    "duration": 862,
    "start_time": "2023-03-17T07:38:48.198Z"
   },
   {
    "duration": 110,
    "start_time": "2023-03-17T07:38:49.062Z"
   },
   {
    "duration": 6,
    "start_time": "2023-03-17T07:39:10.882Z"
   },
   {
    "duration": 779,
    "start_time": "2023-03-17T07:39:11.142Z"
   },
   {
    "duration": 6,
    "start_time": "2023-03-17T07:39:18.075Z"
   },
   {
    "duration": 873,
    "start_time": "2023-03-17T07:39:18.887Z"
   },
   {
    "duration": 5,
    "start_time": "2023-03-17T07:40:12.760Z"
   },
   {
    "duration": 809,
    "start_time": "2023-03-17T07:40:13.278Z"
   },
   {
    "duration": 5,
    "start_time": "2023-03-17T07:40:34.608Z"
   },
   {
    "duration": 870,
    "start_time": "2023-03-17T07:40:35.183Z"
   },
   {
    "duration": 7,
    "start_time": "2023-03-17T07:41:17.161Z"
   },
   {
    "duration": 781,
    "start_time": "2023-03-17T07:41:17.535Z"
   },
   {
    "duration": 6,
    "start_time": "2023-03-17T07:44:16.760Z"
   },
   {
    "duration": 93,
    "start_time": "2023-03-17T07:44:17.224Z"
   },
   {
    "duration": 6,
    "start_time": "2023-03-17T07:44:37.520Z"
   },
   {
    "duration": 887,
    "start_time": "2023-03-17T07:44:38.032Z"
   },
   {
    "duration": 460,
    "start_time": "2023-03-17T11:47:59.857Z"
   },
   {
    "duration": 543,
    "start_time": "2023-03-17T11:48:00.319Z"
   },
   {
    "duration": 3,
    "start_time": "2023-03-17T11:48:00.864Z"
   },
   {
    "duration": 428,
    "start_time": "2023-03-17T11:48:00.876Z"
   },
   {
    "duration": 175,
    "start_time": "2023-03-17T11:48:01.307Z"
   },
   {
    "duration": 21,
    "start_time": "2023-03-17T11:48:01.484Z"
   },
   {
    "duration": 16,
    "start_time": "2023-03-17T11:48:01.507Z"
   },
   {
    "duration": 19,
    "start_time": "2023-03-17T11:48:01.525Z"
   },
   {
    "duration": 34,
    "start_time": "2023-03-17T11:48:01.547Z"
   },
   {
    "duration": 23,
    "start_time": "2023-03-17T11:48:01.583Z"
   },
   {
    "duration": 23,
    "start_time": "2023-03-17T11:48:01.608Z"
   },
   {
    "duration": 31,
    "start_time": "2023-03-17T11:48:01.633Z"
   },
   {
    "duration": 21,
    "start_time": "2023-03-17T11:48:01.665Z"
   },
   {
    "duration": 26,
    "start_time": "2023-03-17T11:48:01.690Z"
   },
   {
    "duration": 19,
    "start_time": "2023-03-17T11:48:01.718Z"
   },
   {
    "duration": 21,
    "start_time": "2023-03-17T11:48:01.739Z"
   },
   {
    "duration": 12,
    "start_time": "2023-03-17T11:48:01.762Z"
   },
   {
    "duration": 51,
    "start_time": "2023-03-17T11:48:01.775Z"
   },
   {
    "duration": 10,
    "start_time": "2023-03-17T11:48:01.828Z"
   },
   {
    "duration": 31,
    "start_time": "2023-03-17T11:48:01.840Z"
   },
   {
    "duration": 21,
    "start_time": "2023-03-17T11:48:01.873Z"
   },
   {
    "duration": 35,
    "start_time": "2023-03-17T11:48:01.896Z"
   },
   {
    "duration": 49,
    "start_time": "2023-03-17T11:48:01.933Z"
   },
   {
    "duration": 347,
    "start_time": "2023-03-17T11:48:01.984Z"
   },
   {
    "duration": 4,
    "start_time": "2023-03-17T11:48:02.334Z"
   },
   {
    "duration": 1351,
    "start_time": "2023-03-17T11:48:02.340Z"
   },
   {
    "duration": 6,
    "start_time": "2023-03-17T11:48:03.693Z"
   },
   {
    "duration": 14,
    "start_time": "2023-03-17T11:48:03.702Z"
   },
   {
    "duration": 33,
    "start_time": "2023-03-17T11:48:03.718Z"
   },
   {
    "duration": 285,
    "start_time": "2023-03-17T11:48:03.753Z"
   },
   {
    "duration": 13,
    "start_time": "2023-03-17T11:48:04.040Z"
   },
   {
    "duration": 29,
    "start_time": "2023-03-17T11:48:04.055Z"
   },
   {
    "duration": 21,
    "start_time": "2023-03-17T11:48:04.086Z"
   },
   {
    "duration": 252,
    "start_time": "2023-03-17T11:48:04.110Z"
   },
   {
    "duration": 17,
    "start_time": "2023-03-17T11:48:04.364Z"
   },
   {
    "duration": 885,
    "start_time": "2023-03-17T11:48:04.384Z"
   },
   {
    "duration": 19,
    "start_time": "2023-03-17T11:48:05.271Z"
   },
   {
    "duration": 162,
    "start_time": "2023-03-17T11:48:05.292Z"
   },
   {
    "duration": 9,
    "start_time": "2023-03-17T11:48:05.456Z"
   },
   {
    "duration": 18,
    "start_time": "2023-03-17T11:48:05.466Z"
   },
   {
    "duration": 10,
    "start_time": "2023-03-17T11:48:05.490Z"
   },
   {
    "duration": 146,
    "start_time": "2023-03-17T11:48:05.502Z"
   },
   {
    "duration": 11,
    "start_time": "2023-03-17T11:48:05.650Z"
   },
   {
    "duration": 155,
    "start_time": "2023-03-17T11:48:05.662Z"
   },
   {
    "duration": 10,
    "start_time": "2023-03-17T11:48:05.819Z"
   },
   {
    "duration": 12,
    "start_time": "2023-03-17T11:48:05.831Z"
   },
   {
    "duration": 9,
    "start_time": "2023-03-17T11:48:05.845Z"
   },
   {
    "duration": 178,
    "start_time": "2023-03-17T11:48:05.856Z"
   },
   {
    "duration": 18,
    "start_time": "2023-03-17T11:48:06.036Z"
   },
   {
    "duration": 122,
    "start_time": "2023-03-17T11:48:06.057Z"
   },
   {
    "duration": 1467,
    "start_time": "2023-03-17T11:48:06.180Z"
   },
   {
    "duration": 13,
    "start_time": "2023-03-17T11:48:07.649Z"
   },
   {
    "duration": 196,
    "start_time": "2023-03-17T11:48:07.664Z"
   },
   {
    "duration": 3,
    "start_time": "2023-03-17T11:48:07.863Z"
   },
   {
    "duration": 12,
    "start_time": "2023-03-17T11:48:07.878Z"
   },
   {
    "duration": 1133,
    "start_time": "2023-03-17T11:48:07.892Z"
   },
   {
    "duration": 3,
    "start_time": "2023-03-17T11:48:09.027Z"
   },
   {
    "duration": 13,
    "start_time": "2023-03-17T11:48:09.032Z"
   },
   {
    "duration": 22,
    "start_time": "2023-03-17T11:48:09.048Z"
   },
   {
    "duration": 11,
    "start_time": "2023-03-17T11:48:09.072Z"
   },
   {
    "duration": 10,
    "start_time": "2023-03-17T11:48:09.085Z"
   },
   {
    "duration": 8,
    "start_time": "2023-03-17T11:48:09.097Z"
   },
   {
    "duration": 15,
    "start_time": "2023-03-17T11:48:09.107Z"
   },
   {
    "duration": 4,
    "start_time": "2023-03-17T11:48:09.124Z"
   },
   {
    "duration": 6,
    "start_time": "2023-03-17T11:48:09.130Z"
   },
   {
    "duration": 12,
    "start_time": "2023-03-17T11:48:09.138Z"
   },
   {
    "duration": 33,
    "start_time": "2023-03-17T11:48:09.153Z"
   },
   {
    "duration": 12,
    "start_time": "2023-03-17T12:03:17.275Z"
   },
   {
    "duration": 2,
    "start_time": "2023-03-17T12:03:29.059Z"
   },
   {
    "duration": 38,
    "start_time": "2023-03-17T12:03:29.064Z"
   },
   {
    "duration": 9,
    "start_time": "2023-03-17T12:03:29.104Z"
   },
   {
    "duration": 10,
    "start_time": "2023-03-17T12:03:29.115Z"
   },
   {
    "duration": 50,
    "start_time": "2023-03-17T12:03:29.128Z"
   },
   {
    "duration": 13,
    "start_time": "2023-03-17T12:03:29.180Z"
   },
   {
    "duration": 85,
    "start_time": "2023-03-17T12:03:29.195Z"
   },
   {
    "duration": 3,
    "start_time": "2023-03-17T12:03:29.282Z"
   },
   {
    "duration": 5,
    "start_time": "2023-03-17T12:03:29.287Z"
   },
   {
    "duration": 12,
    "start_time": "2023-03-17T12:03:29.294Z"
   },
   {
    "duration": 9,
    "start_time": "2023-03-17T12:03:29.308Z"
   },
   {
    "duration": 9,
    "start_time": "2023-03-17T12:03:29.319Z"
   },
   {
    "duration": 6,
    "start_time": "2023-03-17T12:03:29.329Z"
   },
   {
    "duration": 39,
    "start_time": "2023-03-17T12:03:29.338Z"
   },
   {
    "duration": 8,
    "start_time": "2023-03-17T12:03:29.379Z"
   },
   {
    "duration": 9,
    "start_time": "2023-03-17T12:03:29.390Z"
   },
   {
    "duration": 7,
    "start_time": "2023-03-17T12:03:29.401Z"
   },
   {
    "duration": 24,
    "start_time": "2023-03-17T12:03:33.340Z"
   },
   {
    "duration": 34,
    "start_time": "2023-03-17T12:03:35.684Z"
   },
   {
    "duration": 8,
    "start_time": "2023-03-17T12:03:38.586Z"
   },
   {
    "duration": 7,
    "start_time": "2023-03-17T12:03:38.976Z"
   },
   {
    "duration": 4,
    "start_time": "2023-03-17T12:04:29.926Z"
   },
   {
    "duration": 7,
    "start_time": "2023-03-17T12:04:30.244Z"
   },
   {
    "duration": 4,
    "start_time": "2023-03-17T12:04:31.516Z"
   },
   {
    "duration": 3,
    "start_time": "2023-03-17T12:04:36.118Z"
   },
   {
    "duration": 12,
    "start_time": "2023-03-17T12:04:36.123Z"
   },
   {
    "duration": 18,
    "start_time": "2023-03-17T12:04:36.137Z"
   },
   {
    "duration": 24,
    "start_time": "2023-03-17T12:04:36.158Z"
   },
   {
    "duration": 73,
    "start_time": "2023-03-17T12:04:36.186Z"
   },
   {
    "duration": 22,
    "start_time": "2023-03-17T12:04:36.261Z"
   },
   {
    "duration": 29,
    "start_time": "2023-03-17T12:04:36.285Z"
   },
   {
    "duration": 4,
    "start_time": "2023-03-17T12:04:36.316Z"
   },
   {
    "duration": 11,
    "start_time": "2023-03-17T12:04:36.321Z"
   },
   {
    "duration": 17,
    "start_time": "2023-03-17T12:04:36.334Z"
   },
   {
    "duration": 30,
    "start_time": "2023-03-17T12:04:36.352Z"
   },
   {
    "duration": 23,
    "start_time": "2023-03-17T12:04:36.385Z"
   },
   {
    "duration": 12,
    "start_time": "2023-03-17T12:04:36.410Z"
   },
   {
    "duration": 5,
    "start_time": "2023-03-17T12:04:36.426Z"
   },
   {
    "duration": 9,
    "start_time": "2023-03-17T12:04:36.432Z"
   },
   {
    "duration": 8,
    "start_time": "2023-03-17T12:04:36.443Z"
   },
   {
    "duration": 26,
    "start_time": "2023-03-17T12:04:36.453Z"
   },
   {
    "duration": 40,
    "start_time": "2023-03-17T12:04:36.480Z"
   },
   {
    "duration": 28,
    "start_time": "2023-03-17T12:04:36.522Z"
   },
   {
    "duration": 54,
    "start_time": "2023-03-17T12:04:36.552Z"
   },
   {
    "duration": 31,
    "start_time": "2023-03-17T12:04:36.607Z"
   },
   {
    "duration": 53,
    "start_time": "2023-03-17T12:04:36.640Z"
   },
   {
    "duration": 39,
    "start_time": "2023-03-17T12:04:36.695Z"
   },
   {
    "duration": 362,
    "start_time": "2023-03-17T12:04:36.735Z"
   },
   {
    "duration": 5,
    "start_time": "2023-03-17T12:04:37.098Z"
   },
   {
    "duration": 1242,
    "start_time": "2023-03-17T12:04:37.104Z"
   },
   {
    "duration": 7,
    "start_time": "2023-03-17T12:04:38.349Z"
   },
   {
    "duration": 19,
    "start_time": "2023-03-17T12:04:38.358Z"
   },
   {
    "duration": 17,
    "start_time": "2023-03-17T12:04:38.379Z"
   },
   {
    "duration": 269,
    "start_time": "2023-03-17T12:04:38.398Z"
   },
   {
    "duration": 18,
    "start_time": "2023-03-17T12:04:38.669Z"
   },
   {
    "duration": 13,
    "start_time": "2023-03-17T12:04:38.690Z"
   },
   {
    "duration": 5,
    "start_time": "2023-03-17T12:04:38.707Z"
   },
   {
    "duration": 274,
    "start_time": "2023-03-17T12:04:38.714Z"
   },
   {
    "duration": 9,
    "start_time": "2023-03-17T12:04:38.990Z"
   },
   {
    "duration": 864,
    "start_time": "2023-03-17T12:04:39.001Z"
   },
   {
    "duration": 19,
    "start_time": "2023-03-17T12:04:39.867Z"
   },
   {
    "duration": 148,
    "start_time": "2023-03-17T12:04:39.888Z"
   },
   {
    "duration": 7,
    "start_time": "2023-03-17T12:04:40.038Z"
   },
   {
    "duration": 18,
    "start_time": "2023-03-17T12:04:40.047Z"
   },
   {
    "duration": 8,
    "start_time": "2023-03-17T12:04:40.069Z"
   },
   {
    "duration": 156,
    "start_time": "2023-03-17T12:04:40.079Z"
   },
   {
    "duration": 11,
    "start_time": "2023-03-17T12:04:40.237Z"
   },
   {
    "duration": 170,
    "start_time": "2023-03-17T12:04:40.250Z"
   },
   {
    "duration": 8,
    "start_time": "2023-03-17T12:04:40.422Z"
   },
   {
    "duration": 9,
    "start_time": "2023-03-17T12:04:40.431Z"
   },
   {
    "duration": 15,
    "start_time": "2023-03-17T12:04:40.442Z"
   },
   {
    "duration": 156,
    "start_time": "2023-03-17T12:04:40.459Z"
   },
   {
    "duration": 11,
    "start_time": "2023-03-17T12:04:40.617Z"
   },
   {
    "duration": 7,
    "start_time": "2023-03-17T12:04:40.630Z"
   },
   {
    "duration": 1569,
    "start_time": "2023-03-17T12:04:40.639Z"
   },
   {
    "duration": 13,
    "start_time": "2023-03-17T12:04:42.209Z"
   },
   {
    "duration": 207,
    "start_time": "2023-03-17T12:04:42.224Z"
   },
   {
    "duration": 3,
    "start_time": "2023-03-17T12:04:42.434Z"
   },
   {
    "duration": 17,
    "start_time": "2023-03-17T12:04:42.440Z"
   },
   {
    "duration": 1048,
    "start_time": "2023-03-17T12:04:42.459Z"
   },
   {
    "duration": 3,
    "start_time": "2023-03-17T12:04:43.510Z"
   },
   {
    "duration": 13,
    "start_time": "2023-03-17T12:04:43.515Z"
   },
   {
    "duration": 21,
    "start_time": "2023-03-17T12:04:43.531Z"
   },
   {
    "duration": 35,
    "start_time": "2023-03-17T12:04:43.555Z"
   },
   {
    "duration": 8,
    "start_time": "2023-03-17T12:04:43.593Z"
   },
   {
    "duration": 9,
    "start_time": "2023-03-17T12:04:43.603Z"
   },
   {
    "duration": 19,
    "start_time": "2023-03-17T12:04:43.615Z"
   },
   {
    "duration": 4,
    "start_time": "2023-03-17T12:04:43.636Z"
   },
   {
    "duration": 12,
    "start_time": "2023-03-17T12:04:43.642Z"
   },
   {
    "duration": 22,
    "start_time": "2023-03-17T12:04:43.657Z"
   },
   {
    "duration": 11,
    "start_time": "2023-03-17T12:04:43.682Z"
   },
   {
    "duration": 5,
    "start_time": "2023-03-17T12:08:21.107Z"
   },
   {
    "duration": 101,
    "start_time": "2023-03-17T12:15:57.326Z"
   },
   {
    "duration": 3,
    "start_time": "2023-03-17T12:16:06.956Z"
   },
   {
    "duration": 30,
    "start_time": "2023-03-17T12:16:06.961Z"
   },
   {
    "duration": 14,
    "start_time": "2023-03-17T12:16:06.993Z"
   },
   {
    "duration": 32,
    "start_time": "2023-03-17T12:16:07.009Z"
   },
   {
    "duration": 71,
    "start_time": "2023-03-17T12:16:07.043Z"
   },
   {
    "duration": 16,
    "start_time": "2023-03-17T12:16:07.116Z"
   },
   {
    "duration": 32,
    "start_time": "2023-03-17T12:16:07.133Z"
   },
   {
    "duration": 19,
    "start_time": "2023-03-17T12:16:07.167Z"
   },
   {
    "duration": 16,
    "start_time": "2023-03-17T12:16:07.188Z"
   },
   {
    "duration": 23,
    "start_time": "2023-03-17T12:16:07.206Z"
   },
   {
    "duration": 28,
    "start_time": "2023-03-17T12:16:07.232Z"
   },
   {
    "duration": 15,
    "start_time": "2023-03-17T12:16:07.262Z"
   },
   {
    "duration": 30,
    "start_time": "2023-03-17T12:16:07.279Z"
   },
   {
    "duration": 38,
    "start_time": "2023-03-17T12:16:07.312Z"
   },
   {
    "duration": 20,
    "start_time": "2023-03-17T12:16:07.351Z"
   },
   {
    "duration": 26,
    "start_time": "2023-03-17T12:16:07.372Z"
   },
   {
    "duration": 27,
    "start_time": "2023-03-17T12:16:07.400Z"
   },
   {
    "duration": 56,
    "start_time": "2023-03-17T12:16:07.429Z"
   },
   {
    "duration": 19,
    "start_time": "2023-03-17T12:16:07.488Z"
   },
   {
    "duration": 31,
    "start_time": "2023-03-17T12:16:07.509Z"
   },
   {
    "duration": 20,
    "start_time": "2023-03-17T12:16:07.542Z"
   },
   {
    "duration": 22,
    "start_time": "2023-03-17T12:16:07.564Z"
   },
   {
    "duration": 29,
    "start_time": "2023-03-17T12:16:07.588Z"
   },
   {
    "duration": 470,
    "start_time": "2023-03-17T12:16:07.619Z"
   },
   {
    "duration": 4,
    "start_time": "2023-03-17T12:16:08.091Z"
   },
   {
    "duration": 1117,
    "start_time": "2023-03-17T12:16:08.096Z"
   },
   {
    "duration": 6,
    "start_time": "2023-03-17T12:16:09.215Z"
   },
   {
    "duration": 3,
    "start_time": "2023-03-17T12:16:10.804Z"
   },
   {
    "duration": 4,
    "start_time": "2023-03-17T12:16:11.539Z"
   },
   {
    "duration": 293,
    "start_time": "2023-03-17T12:16:12.514Z"
   },
   {
    "duration": 11,
    "start_time": "2023-03-17T12:16:16.916Z"
   },
   {
    "duration": 12,
    "start_time": "2023-03-17T12:16:50.200Z"
   },
   {
    "duration": 10,
    "start_time": "2023-03-17T12:17:05.434Z"
   },
   {
    "duration": 3,
    "start_time": "2023-03-17T12:17:07.656Z"
   },
   {
    "duration": 234,
    "start_time": "2023-03-17T12:17:14.136Z"
   },
   {
    "duration": 9,
    "start_time": "2023-03-17T12:17:19.110Z"
   },
   {
    "duration": 873,
    "start_time": "2023-03-17T12:18:35.125Z"
   },
   {
    "duration": 852,
    "start_time": "2023-03-17T12:20:01.806Z"
   },
   {
    "duration": 15,
    "start_time": "2023-03-17T12:20:08.646Z"
   },
   {
    "duration": 137,
    "start_time": "2023-03-17T12:25:39.192Z"
   },
   {
    "duration": 155,
    "start_time": "2023-03-17T12:27:34.546Z"
   },
   {
    "duration": 15,
    "start_time": "2023-03-17T12:32:05.357Z"
   },
   {
    "duration": 3,
    "start_time": "2023-03-17T12:32:14.865Z"
   },
   {
    "duration": 37,
    "start_time": "2023-03-17T12:32:14.871Z"
   },
   {
    "duration": 10,
    "start_time": "2023-03-17T12:32:14.911Z"
   },
   {
    "duration": 12,
    "start_time": "2023-03-17T12:32:14.923Z"
   },
   {
    "duration": 59,
    "start_time": "2023-03-17T12:32:14.938Z"
   },
   {
    "duration": 18,
    "start_time": "2023-03-17T12:32:14.999Z"
   },
   {
    "duration": 29,
    "start_time": "2023-03-17T12:32:15.019Z"
   },
   {
    "duration": 4,
    "start_time": "2023-03-17T12:32:15.050Z"
   },
   {
    "duration": 18,
    "start_time": "2023-03-17T12:32:15.078Z"
   },
   {
    "duration": 24,
    "start_time": "2023-03-17T12:32:15.099Z"
   },
   {
    "duration": 15,
    "start_time": "2023-03-17T12:32:15.125Z"
   },
   {
    "duration": 31,
    "start_time": "2023-03-17T12:32:15.141Z"
   },
   {
    "duration": 24,
    "start_time": "2023-03-17T12:32:15.176Z"
   },
   {
    "duration": 7,
    "start_time": "2023-03-17T12:32:15.204Z"
   },
   {
    "duration": 12,
    "start_time": "2023-03-17T12:32:15.213Z"
   },
   {
    "duration": 12,
    "start_time": "2023-03-17T12:32:15.227Z"
   },
   {
    "duration": 14,
    "start_time": "2023-03-17T12:32:15.241Z"
   },
   {
    "duration": 40,
    "start_time": "2023-03-17T12:32:15.257Z"
   },
   {
    "duration": 7,
    "start_time": "2023-03-17T12:32:15.299Z"
   },
   {
    "duration": 13,
    "start_time": "2023-03-17T12:32:15.308Z"
   },
   {
    "duration": 4,
    "start_time": "2023-03-17T12:32:15.324Z"
   },
   {
    "duration": 9,
    "start_time": "2023-03-17T12:32:15.331Z"
   },
   {
    "duration": 25,
    "start_time": "2023-03-17T12:32:15.343Z"
   },
   {
    "duration": 502,
    "start_time": "2023-03-17T12:32:15.370Z"
   },
   {
    "duration": 6,
    "start_time": "2023-03-17T12:32:15.874Z"
   },
   {
    "duration": 1276,
    "start_time": "2023-03-17T12:32:15.884Z"
   },
   {
    "duration": 21,
    "start_time": "2023-03-17T12:32:17.162Z"
   },
   {
    "duration": 17,
    "start_time": "2023-03-17T12:32:17.184Z"
   },
   {
    "duration": 9,
    "start_time": "2023-03-17T12:32:17.203Z"
   },
   {
    "duration": 292,
    "start_time": "2023-03-17T12:32:17.214Z"
   },
   {
    "duration": 13,
    "start_time": "2023-03-17T12:32:17.507Z"
   },
   {
    "duration": 11,
    "start_time": "2023-03-17T12:32:17.522Z"
   },
   {
    "duration": 3,
    "start_time": "2023-03-17T12:32:17.535Z"
   },
   {
    "duration": 286,
    "start_time": "2023-03-17T12:32:17.540Z"
   },
   {
    "duration": 9,
    "start_time": "2023-03-17T12:32:17.828Z"
   },
   {
    "duration": 1026,
    "start_time": "2023-03-17T12:32:17.839Z"
   },
   {
    "duration": 28,
    "start_time": "2023-03-17T12:32:18.867Z"
   },
   {
    "duration": 167,
    "start_time": "2023-03-17T12:32:18.896Z"
   },
   {
    "duration": 29,
    "start_time": "2023-03-17T12:32:19.064Z"
   },
   {
    "duration": 12,
    "start_time": "2023-03-17T12:32:19.099Z"
   },
   {
    "duration": 6,
    "start_time": "2023-03-17T12:32:19.115Z"
   },
   {
    "duration": 144,
    "start_time": "2023-03-17T12:32:19.123Z"
   },
   {
    "duration": 27,
    "start_time": "2023-03-17T12:32:19.270Z"
   },
   {
    "duration": 154,
    "start_time": "2023-03-17T12:32:19.299Z"
   },
   {
    "duration": 23,
    "start_time": "2023-03-17T12:32:19.456Z"
   },
   {
    "duration": 14,
    "start_time": "2023-03-17T12:32:19.480Z"
   },
   {
    "duration": 11,
    "start_time": "2023-03-17T12:32:19.500Z"
   },
   {
    "duration": 192,
    "start_time": "2023-03-17T12:32:19.516Z"
   },
   {
    "duration": 13,
    "start_time": "2023-03-17T12:32:19.710Z"
   },
   {
    "duration": 7,
    "start_time": "2023-03-17T12:32:19.725Z"
   },
   {
    "duration": 1682,
    "start_time": "2023-03-17T12:32:19.734Z"
   },
   {
    "duration": 19,
    "start_time": "2023-03-17T12:32:21.418Z"
   },
   {
    "duration": 217,
    "start_time": "2023-03-17T12:32:21.440Z"
   },
   {
    "duration": 4,
    "start_time": "2023-03-17T12:32:21.659Z"
   },
   {
    "duration": 33,
    "start_time": "2023-03-17T12:32:21.664Z"
   },
   {
    "duration": 1259,
    "start_time": "2023-03-17T12:32:21.702Z"
   },
   {
    "duration": 24,
    "start_time": "2023-03-17T12:32:22.964Z"
   },
   {
    "duration": 17,
    "start_time": "2023-03-17T12:32:22.994Z"
   },
   {
    "duration": 18,
    "start_time": "2023-03-17T12:32:23.013Z"
   },
   {
    "duration": 21,
    "start_time": "2023-03-17T12:32:23.033Z"
   },
   {
    "duration": 17,
    "start_time": "2023-03-17T12:32:23.056Z"
   },
   {
    "duration": 27,
    "start_time": "2023-03-17T12:32:23.076Z"
   },
   {
    "duration": 26,
    "start_time": "2023-03-17T12:32:23.106Z"
   },
   {
    "duration": 5,
    "start_time": "2023-03-17T12:32:23.134Z"
   },
   {
    "duration": 22,
    "start_time": "2023-03-17T12:32:23.141Z"
   },
   {
    "duration": 39,
    "start_time": "2023-03-17T12:32:23.165Z"
   },
   {
    "duration": 26,
    "start_time": "2023-03-17T12:32:23.206Z"
   },
   {
    "duration": 140,
    "start_time": "2023-03-17T12:33:30.438Z"
   },
   {
    "duration": 13,
    "start_time": "2023-03-17T12:33:34.276Z"
   },
   {
    "duration": 85,
    "start_time": "2023-03-17T18:55:30.959Z"
   },
   {
    "duration": 74,
    "start_time": "2023-03-17T18:58:02.365Z"
   },
   {
    "duration": 75,
    "start_time": "2023-03-17T18:59:15.724Z"
   },
   {
    "duration": 80,
    "start_time": "2023-03-17T19:04:04.019Z"
   },
   {
    "duration": 456,
    "start_time": "2023-03-19T06:51:01.594Z"
   },
   {
    "duration": 534,
    "start_time": "2023-03-19T06:51:02.130Z"
   },
   {
    "duration": 13,
    "start_time": "2023-03-19T06:51:02.666Z"
   },
   {
    "duration": 650,
    "start_time": "2023-03-19T06:51:02.764Z"
   },
   {
    "duration": 276,
    "start_time": "2023-03-19T06:52:04.299Z"
   },
   {
    "duration": 33,
    "start_time": "2023-03-19T06:52:05.535Z"
   },
   {
    "duration": 22,
    "start_time": "2023-03-19T06:52:07.962Z"
   },
   {
    "duration": 4,
    "start_time": "2023-03-19T07:01:10.075Z"
   },
   {
    "duration": 5,
    "start_time": "2023-03-19T07:01:13.902Z"
   },
   {
    "duration": 122,
    "start_time": "2023-03-19T07:01:50.108Z"
   },
   {
    "duration": 410,
    "start_time": "2023-03-19T07:02:25.274Z"
   },
   {
    "duration": 483,
    "start_time": "2023-03-19T07:02:25.686Z"
   },
   {
    "duration": 3,
    "start_time": "2023-03-19T07:02:26.172Z"
   },
   {
    "duration": 207,
    "start_time": "2023-03-19T07:02:26.177Z"
   },
   {
    "duration": 111,
    "start_time": "2023-03-19T07:02:26.386Z"
   },
   {
    "duration": 18,
    "start_time": "2023-03-19T07:02:26.499Z"
   },
   {
    "duration": 39,
    "start_time": "2023-03-19T07:02:26.519Z"
   },
   {
    "duration": 3,
    "start_time": "2023-03-19T07:02:26.560Z"
   },
   {
    "duration": 22,
    "start_time": "2023-03-19T07:02:26.565Z"
   },
   {
    "duration": 13,
    "start_time": "2023-03-19T07:03:37.970Z"
   },
   {
    "duration": 121,
    "start_time": "2023-03-19T07:04:25.470Z"
   },
   {
    "duration": 8,
    "start_time": "2023-03-19T07:04:32.912Z"
   },
   {
    "duration": 9,
    "start_time": "2023-03-19T07:04:41.298Z"
   },
   {
    "duration": 4,
    "start_time": "2023-03-19T07:04:57.493Z"
   },
   {
    "duration": 3,
    "start_time": "2023-03-19T07:05:02.466Z"
   },
   {
    "duration": 2,
    "start_time": "2023-03-19T07:05:09.301Z"
   },
   {
    "duration": 8,
    "start_time": "2023-03-19T07:05:14.174Z"
   },
   {
    "duration": 4,
    "start_time": "2023-03-19T07:05:14.732Z"
   },
   {
    "duration": 2,
    "start_time": "2023-03-19T07:05:15.198Z"
   },
   {
    "duration": 9,
    "start_time": "2023-03-19T07:05:19.638Z"
   },
   {
    "duration": 10,
    "start_time": "2023-03-19T07:05:37.272Z"
   },
   {
    "duration": 12,
    "start_time": "2023-03-19T07:07:36.903Z"
   },
   {
    "duration": 10,
    "start_time": "2023-03-19T07:07:52.905Z"
   },
   {
    "duration": 412,
    "start_time": "2023-03-19T07:29:39.036Z"
   },
   {
    "duration": 450,
    "start_time": "2023-03-19T07:29:39.451Z"
   },
   {
    "duration": 3,
    "start_time": "2023-03-19T07:29:39.903Z"
   },
   {
    "duration": 201,
    "start_time": "2023-03-19T07:29:39.908Z"
   },
   {
    "duration": 107,
    "start_time": "2023-03-19T07:29:40.113Z"
   },
   {
    "duration": 32,
    "start_time": "2023-03-19T07:29:40.221Z"
   },
   {
    "duration": 16,
    "start_time": "2023-03-19T07:29:40.254Z"
   },
   {
    "duration": 13,
    "start_time": "2023-03-19T07:29:40.271Z"
   },
   {
    "duration": 11,
    "start_time": "2023-03-19T07:29:40.286Z"
   },
   {
    "duration": 11,
    "start_time": "2023-03-19T07:29:40.299Z"
   },
   {
    "duration": 30,
    "start_time": "2023-03-19T07:29:40.312Z"
   },
   {
    "duration": 465,
    "start_time": "2023-03-19T07:29:48.218Z"
   },
   {
    "duration": 265,
    "start_time": "2023-03-19T07:30:31.492Z"
   },
   {
    "duration": 259,
    "start_time": "2023-03-19T07:31:09.789Z"
   },
   {
    "duration": 884,
    "start_time": "2023-03-19T07:31:59.350Z"
   },
   {
    "duration": 274,
    "start_time": "2023-03-19T07:32:29.984Z"
   },
   {
    "duration": 782,
    "start_time": "2023-03-19T07:33:30.322Z"
   },
   {
    "duration": 662,
    "start_time": "2023-03-19T07:34:06.512Z"
   },
   {
    "duration": 22,
    "start_time": "2023-03-19T07:36:06.206Z"
   },
   {
    "duration": 18,
    "start_time": "2023-03-19T07:36:51.564Z"
   },
   {
    "duration": 20,
    "start_time": "2023-03-19T07:37:09.841Z"
   },
   {
    "duration": 14,
    "start_time": "2023-03-19T07:37:33.945Z"
   },
   {
    "duration": 20,
    "start_time": "2023-03-19T07:37:42.672Z"
   },
   {
    "duration": 6,
    "start_time": "2023-03-19T07:38:17.305Z"
   },
   {
    "duration": 7,
    "start_time": "2023-03-19T07:38:42.058Z"
   },
   {
    "duration": 6,
    "start_time": "2023-03-19T07:38:49.437Z"
   },
   {
    "duration": 20,
    "start_time": "2023-03-19T07:38:57.465Z"
   },
   {
    "duration": 707,
    "start_time": "2023-03-19T07:42:56.711Z"
   },
   {
    "duration": 758,
    "start_time": "2023-03-19T07:43:25.980Z"
   },
   {
    "duration": 815,
    "start_time": "2023-03-19T07:45:42.693Z"
   },
   {
    "duration": 10,
    "start_time": "2023-03-19T07:48:25.711Z"
   },
   {
    "duration": 760,
    "start_time": "2023-03-19T07:48:35.143Z"
   },
   {
    "duration": 7,
    "start_time": "2023-03-19T07:48:52.566Z"
   },
   {
    "duration": 4,
    "start_time": "2023-03-19T07:49:23.002Z"
   },
   {
    "duration": 4,
    "start_time": "2023-03-19T07:49:28.586Z"
   },
   {
    "duration": 4,
    "start_time": "2023-03-19T07:49:35.042Z"
   },
   {
    "duration": 23,
    "start_time": "2023-03-19T07:49:35.362Z"
   },
   {
    "duration": 740,
    "start_time": "2023-03-19T07:50:08.402Z"
   },
   {
    "duration": 14,
    "start_time": "2023-03-19T07:50:49.734Z"
   },
   {
    "duration": 6,
    "start_time": "2023-03-19T07:51:07.097Z"
   },
   {
    "duration": 48,
    "start_time": "2023-03-19T07:51:08.699Z"
   },
   {
    "duration": 29,
    "start_time": "2023-03-19T07:51:12.209Z"
   },
   {
    "duration": 675,
    "start_time": "2023-03-19T07:51:19.184Z"
   },
   {
    "duration": 660,
    "start_time": "2023-03-19T07:51:31.885Z"
   },
   {
    "duration": 4,
    "start_time": "2023-03-19T07:51:41.022Z"
   },
   {
    "duration": 231,
    "start_time": "2023-03-19T07:53:39.121Z"
   },
   {
    "duration": 380,
    "start_time": "2023-03-19T07:55:21.399Z"
   },
   {
    "duration": 443,
    "start_time": "2023-03-19T07:55:21.781Z"
   },
   {
    "duration": 3,
    "start_time": "2023-03-19T07:55:22.227Z"
   },
   {
    "duration": 209,
    "start_time": "2023-03-19T07:55:22.231Z"
   },
   {
    "duration": 109,
    "start_time": "2023-03-19T07:55:22.443Z"
   },
   {
    "duration": 21,
    "start_time": "2023-03-19T07:55:22.554Z"
   },
   {
    "duration": 15,
    "start_time": "2023-03-19T07:55:22.577Z"
   },
   {
    "duration": 3,
    "start_time": "2023-03-19T07:55:22.594Z"
   },
   {
    "duration": 7,
    "start_time": "2023-03-19T07:55:22.598Z"
   },
   {
    "duration": 38,
    "start_time": "2023-03-19T07:55:22.606Z"
   },
   {
    "duration": 11,
    "start_time": "2023-03-19T07:55:22.646Z"
   },
   {
    "duration": 458,
    "start_time": "2023-03-19T07:55:26.345Z"
   },
   {
    "duration": 3,
    "start_time": "2023-03-19T07:55:41.890Z"
   },
   {
    "duration": 248,
    "start_time": "2023-03-19T07:55:42.413Z"
   },
   {
    "duration": 11,
    "start_time": "2023-03-19T07:55:56.403Z"
   },
   {
    "duration": 10,
    "start_time": "2023-03-19T07:58:38.997Z"
   },
   {
    "duration": 10,
    "start_time": "2023-03-19T07:58:39.692Z"
   },
   {
    "duration": 17,
    "start_time": "2023-03-19T07:59:54.380Z"
   },
   {
    "duration": 146,
    "start_time": "2023-03-19T08:03:41.115Z"
   },
   {
    "duration": 147,
    "start_time": "2023-03-19T08:03:51.306Z"
   },
   {
    "duration": 126,
    "start_time": "2023-03-19T08:05:43.637Z"
   },
   {
    "duration": 15,
    "start_time": "2023-03-19T08:08:29.040Z"
   },
   {
    "duration": 10,
    "start_time": "2023-03-19T08:09:10.602Z"
   },
   {
    "duration": 3,
    "start_time": "2023-03-19T08:19:24.640Z"
   },
   {
    "duration": 129,
    "start_time": "2023-03-19T08:19:29.694Z"
   },
   {
    "duration": 16,
    "start_time": "2023-03-19T08:21:59.414Z"
   },
   {
    "duration": 5,
    "start_time": "2023-03-19T08:23:24.981Z"
   },
   {
    "duration": 5,
    "start_time": "2023-03-19T08:23:32.578Z"
   },
   {
    "duration": 6,
    "start_time": "2023-03-19T08:23:33.007Z"
   },
   {
    "duration": 7,
    "start_time": "2023-03-19T08:24:32.520Z"
   },
   {
    "duration": 3,
    "start_time": "2023-03-19T08:24:45.326Z"
   },
   {
    "duration": 5,
    "start_time": "2023-03-19T08:24:46.554Z"
   },
   {
    "duration": 6,
    "start_time": "2023-03-19T08:27:31.059Z"
   },
   {
    "duration": 7,
    "start_time": "2023-03-19T08:28:28.318Z"
   },
   {
    "duration": 6,
    "start_time": "2023-03-19T08:28:57.546Z"
   },
   {
    "duration": 11,
    "start_time": "2023-03-19T08:29:20.913Z"
   },
   {
    "duration": 300,
    "start_time": "2023-03-19T08:31:03.230Z"
   },
   {
    "duration": 11,
    "start_time": "2023-03-19T08:31:48.214Z"
   },
   {
    "duration": 9,
    "start_time": "2023-03-19T08:31:55.514Z"
   },
   {
    "duration": 8,
    "start_time": "2023-03-19T08:32:04.936Z"
   },
   {
    "duration": 4,
    "start_time": "2023-03-19T08:32:29.976Z"
   },
   {
    "duration": 1260,
    "start_time": "2023-03-19T08:33:00.409Z"
   },
   {
    "duration": 4,
    "start_time": "2023-03-19T08:33:07.170Z"
   },
   {
    "duration": 1145,
    "start_time": "2023-03-19T08:33:10.275Z"
   },
   {
    "duration": 1115,
    "start_time": "2023-03-19T08:34:40.658Z"
   },
   {
    "duration": 1319,
    "start_time": "2023-03-19T08:35:04.267Z"
   },
   {
    "duration": 1178,
    "start_time": "2023-03-19T08:39:05.001Z"
   },
   {
    "duration": 1109,
    "start_time": "2023-03-19T08:39:13.070Z"
   },
   {
    "duration": 53,
    "start_time": "2023-03-19T08:39:31.703Z"
   },
   {
    "duration": 1279,
    "start_time": "2023-03-19T08:39:42.002Z"
   },
   {
    "duration": 1231,
    "start_time": "2023-03-19T08:39:47.138Z"
   },
   {
    "duration": 1253,
    "start_time": "2023-03-19T08:39:59.078Z"
   },
   {
    "duration": 1281,
    "start_time": "2023-03-19T08:40:03.491Z"
   },
   {
    "duration": 63,
    "start_time": "2023-03-19T08:40:22.218Z"
   },
   {
    "duration": 1335,
    "start_time": "2023-03-19T08:40:25.839Z"
   },
   {
    "duration": 28,
    "start_time": "2023-03-19T08:41:28.650Z"
   },
   {
    "duration": 1234,
    "start_time": "2023-03-19T08:41:31.216Z"
   },
   {
    "duration": 1142,
    "start_time": "2023-03-19T08:41:37.312Z"
   },
   {
    "duration": 1265,
    "start_time": "2023-03-19T08:41:50.030Z"
   },
   {
    "duration": 7739,
    "start_time": "2023-03-19T08:42:10.439Z"
   },
   {
    "duration": 1214,
    "start_time": "2023-03-19T08:42:37.757Z"
   },
   {
    "duration": 18,
    "start_time": "2023-03-19T08:46:16.158Z"
   },
   {
    "duration": 348,
    "start_time": "2023-03-19T08:46:22.367Z"
   },
   {
    "duration": 346,
    "start_time": "2023-03-19T08:46:36.198Z"
   },
   {
    "duration": 523,
    "start_time": "2023-03-19T08:46:39.926Z"
   },
   {
    "duration": 339,
    "start_time": "2023-03-19T08:46:43.532Z"
   },
   {
    "duration": 318,
    "start_time": "2023-03-19T08:46:48.486Z"
   },
   {
    "duration": 349,
    "start_time": "2023-03-19T08:46:52.699Z"
   },
   {
    "duration": 6,
    "start_time": "2023-03-19T08:50:52.418Z"
   },
   {
    "duration": 6,
    "start_time": "2023-03-19T08:51:01.875Z"
   },
   {
    "duration": 3,
    "start_time": "2023-03-19T08:51:02.996Z"
   },
   {
    "duration": 4,
    "start_time": "2023-03-19T08:51:03.497Z"
   },
   {
    "duration": 258,
    "start_time": "2023-03-19T08:51:09.494Z"
   },
   {
    "duration": 284,
    "start_time": "2023-03-19T08:51:25.392Z"
   },
   {
    "duration": 236,
    "start_time": "2023-03-19T08:52:29.181Z"
   },
   {
    "duration": 272,
    "start_time": "2023-03-19T08:52:43.259Z"
   },
   {
    "duration": 71,
    "start_time": "2023-03-19T08:52:49.240Z"
   },
   {
    "duration": 6,
    "start_time": "2023-03-19T08:52:55.579Z"
   },
   {
    "duration": 4,
    "start_time": "2023-03-19T08:52:56.295Z"
   },
   {
    "duration": 4,
    "start_time": "2023-03-19T08:52:56.594Z"
   },
   {
    "duration": 414,
    "start_time": "2023-03-19T08:52:59.644Z"
   },
   {
    "duration": 300,
    "start_time": "2023-03-19T08:53:09.890Z"
   },
   {
    "duration": 280,
    "start_time": "2023-03-19T08:53:14.262Z"
   },
   {
    "duration": 277,
    "start_time": "2023-03-19T08:53:28.424Z"
   },
   {
    "duration": 372,
    "start_time": "2023-03-19T08:55:35.455Z"
   },
   {
    "duration": 334,
    "start_time": "2023-03-19T08:56:00.247Z"
   },
   {
    "duration": 303,
    "start_time": "2023-03-19T08:56:55.632Z"
   },
   {
    "duration": 322,
    "start_time": "2023-03-19T08:58:02.869Z"
   },
   {
    "duration": 548,
    "start_time": "2023-03-19T08:58:25.573Z"
   },
   {
    "duration": 431,
    "start_time": "2023-03-19T08:58:35.252Z"
   },
   {
    "duration": 43,
    "start_time": "2023-03-19T11:04:49.917Z"
   },
   {
    "duration": 402,
    "start_time": "2023-03-19T11:04:55.338Z"
   },
   {
    "duration": 426,
    "start_time": "2023-03-19T11:04:55.742Z"
   },
   {
    "duration": 2,
    "start_time": "2023-03-19T11:04:56.170Z"
   },
   {
    "duration": 331,
    "start_time": "2023-03-19T11:04:56.173Z"
   },
   {
    "duration": 155,
    "start_time": "2023-03-19T11:04:56.506Z"
   },
   {
    "duration": 16,
    "start_time": "2023-03-19T11:04:56.663Z"
   },
   {
    "duration": 16,
    "start_time": "2023-03-19T11:04:56.680Z"
   },
   {
    "duration": 2,
    "start_time": "2023-03-19T11:04:56.698Z"
   },
   {
    "duration": 10,
    "start_time": "2023-03-19T11:04:56.701Z"
   },
   {
    "duration": 9,
    "start_time": "2023-03-19T11:04:56.713Z"
   },
   {
    "duration": 16,
    "start_time": "2023-03-19T11:04:56.723Z"
   },
   {
    "duration": 2,
    "start_time": "2023-03-19T11:04:56.741Z"
   },
   {
    "duration": 404,
    "start_time": "2023-03-19T11:04:56.744Z"
   },
   {
    "duration": 14,
    "start_time": "2023-03-19T11:04:57.150Z"
   },
   {
    "duration": 10,
    "start_time": "2023-03-19T11:04:57.165Z"
   },
   {
    "duration": 7,
    "start_time": "2023-03-19T11:04:57.177Z"
   },
   {
    "duration": 32,
    "start_time": "2023-03-19T11:04:57.186Z"
   },
   {
    "duration": 144,
    "start_time": "2023-03-19T11:04:57.220Z"
   },
   {
    "duration": 3,
    "start_time": "2023-03-19T11:04:57.365Z"
   },
   {
    "duration": 11,
    "start_time": "2023-03-19T11:04:57.369Z"
   },
   {
    "duration": 9,
    "start_time": "2023-03-19T11:04:57.381Z"
   },
   {
    "duration": 12,
    "start_time": "2023-03-19T11:04:57.391Z"
   },
   {
    "duration": 28,
    "start_time": "2023-03-19T11:04:57.404Z"
   },
   {
    "duration": 6,
    "start_time": "2023-03-19T11:04:57.434Z"
   },
   {
    "duration": 7,
    "start_time": "2023-03-19T11:04:57.441Z"
   },
   {
    "duration": 9,
    "start_time": "2023-03-19T11:04:57.449Z"
   },
   {
    "duration": 5,
    "start_time": "2023-03-19T11:04:57.460Z"
   },
   {
    "duration": 6,
    "start_time": "2023-03-19T11:04:57.468Z"
   },
   {
    "duration": 7,
    "start_time": "2023-03-19T11:04:57.475Z"
   },
   {
    "duration": 263,
    "start_time": "2023-03-19T11:04:57.484Z"
   },
   {
    "duration": 13,
    "start_time": "2023-03-19T11:04:57.750Z"
   },
   {
    "duration": 3,
    "start_time": "2023-03-19T11:04:57.765Z"
   },
   {
    "duration": 975,
    "start_time": "2023-03-19T11:04:57.769Z"
   },
   {
    "duration": 244,
    "start_time": "2023-03-19T11:04:58.745Z"
   },
   {
    "duration": 4,
    "start_time": "2023-03-19T11:04:58.991Z"
   },
   {
    "duration": 21,
    "start_time": "2023-03-19T11:04:58.996Z"
   },
   {
    "duration": 12,
    "start_time": "2023-03-19T11:04:59.019Z"
   },
   {
    "duration": 255,
    "start_time": "2023-03-19T11:04:59.032Z"
   },
   {
    "duration": 9,
    "start_time": "2023-03-19T11:04:59.398Z"
   },
   {
    "duration": 7,
    "start_time": "2023-03-19T11:05:21.153Z"
   },
   {
    "duration": 3,
    "start_time": "2023-03-19T11:05:22.328Z"
   },
   {
    "duration": 11,
    "start_time": "2023-03-19T11:07:29.219Z"
   },
   {
    "duration": 8,
    "start_time": "2023-03-19T11:07:48.956Z"
   },
   {
    "duration": 3,
    "start_time": "2023-03-19T11:07:49.496Z"
   },
   {
    "duration": 214,
    "start_time": "2023-03-19T11:07:52.517Z"
   },
   {
    "duration": 227,
    "start_time": "2023-03-19T11:08:52.407Z"
   },
   {
    "duration": 244,
    "start_time": "2023-03-19T11:09:10.370Z"
   },
   {
    "duration": 230,
    "start_time": "2023-03-19T11:09:25.530Z"
   },
   {
    "duration": 239,
    "start_time": "2023-03-19T11:09:40.864Z"
   },
   {
    "duration": 162,
    "start_time": "2023-03-19T11:11:21.751Z"
   },
   {
    "duration": 344,
    "start_time": "2023-03-19T11:11:28.353Z"
   },
   {
    "duration": 275,
    "start_time": "2023-03-19T11:11:43.109Z"
   },
   {
    "duration": 250,
    "start_time": "2023-03-19T11:12:42.315Z"
   },
   {
    "duration": 279,
    "start_time": "2023-03-19T11:13:26.429Z"
   },
   {
    "duration": 7,
    "start_time": "2023-03-19T11:14:16.100Z"
   },
   {
    "duration": 3,
    "start_time": "2023-03-19T11:14:16.384Z"
   },
   {
    "duration": 262,
    "start_time": "2023-03-19T11:14:16.649Z"
   },
   {
    "duration": 8,
    "start_time": "2023-03-19T11:16:52.639Z"
   },
   {
    "duration": 12,
    "start_time": "2023-03-19T11:17:23.402Z"
   },
   {
    "duration": 9,
    "start_time": "2023-03-19T11:17:59.243Z"
   },
   {
    "duration": 9,
    "start_time": "2023-03-19T11:18:22.119Z"
   },
   {
    "duration": 8,
    "start_time": "2023-03-19T11:18:57.980Z"
   },
   {
    "duration": 402,
    "start_time": "2023-03-19T12:43:55.961Z"
   },
   {
    "duration": 464,
    "start_time": "2023-03-19T12:43:56.364Z"
   },
   {
    "duration": 2,
    "start_time": "2023-03-19T12:43:56.830Z"
   },
   {
    "duration": 362,
    "start_time": "2023-03-19T12:43:56.834Z"
   },
   {
    "duration": 252,
    "start_time": "2023-03-19T12:43:57.199Z"
   },
   {
    "duration": 19,
    "start_time": "2023-03-19T12:43:57.453Z"
   },
   {
    "duration": 15,
    "start_time": "2023-03-19T12:43:57.475Z"
   },
   {
    "duration": 3,
    "start_time": "2023-03-19T12:43:57.491Z"
   },
   {
    "duration": 6,
    "start_time": "2023-03-19T12:43:57.496Z"
   },
   {
    "duration": 21,
    "start_time": "2023-03-19T12:43:57.503Z"
   },
   {
    "duration": 11,
    "start_time": "2023-03-19T12:43:57.526Z"
   },
   {
    "duration": 3,
    "start_time": "2023-03-19T12:43:57.538Z"
   },
   {
    "duration": 439,
    "start_time": "2023-03-19T12:43:57.542Z"
   },
   {
    "duration": 9,
    "start_time": "2023-03-19T12:43:57.984Z"
   },
   {
    "duration": 11,
    "start_time": "2023-03-19T12:43:57.995Z"
   },
   {
    "duration": 19,
    "start_time": "2023-03-19T12:43:58.008Z"
   },
   {
    "duration": 14,
    "start_time": "2023-03-19T12:43:58.029Z"
   },
   {
    "duration": 164,
    "start_time": "2023-03-19T12:43:58.045Z"
   },
   {
    "duration": 3,
    "start_time": "2023-03-19T12:43:58.210Z"
   },
   {
    "duration": 12,
    "start_time": "2023-03-19T12:43:58.214Z"
   },
   {
    "duration": 15,
    "start_time": "2023-03-19T12:43:58.227Z"
   },
   {
    "duration": 9,
    "start_time": "2023-03-19T12:43:58.244Z"
   },
   {
    "duration": 24,
    "start_time": "2023-03-19T12:43:58.255Z"
   },
   {
    "duration": 8,
    "start_time": "2023-03-19T12:43:58.280Z"
   },
   {
    "duration": 3,
    "start_time": "2023-03-19T12:43:58.290Z"
   },
   {
    "duration": 6,
    "start_time": "2023-03-19T12:43:58.295Z"
   },
   {
    "duration": 24,
    "start_time": "2023-03-19T12:43:58.303Z"
   },
   {
    "duration": 8,
    "start_time": "2023-03-19T12:43:58.328Z"
   },
   {
    "duration": 9,
    "start_time": "2023-03-19T12:43:58.337Z"
   },
   {
    "duration": 307,
    "start_time": "2023-03-19T12:43:58.348Z"
   },
   {
    "duration": 8,
    "start_time": "2023-03-19T12:43:58.657Z"
   },
   {
    "duration": 4,
    "start_time": "2023-03-19T12:43:58.667Z"
   },
   {
    "duration": 1116,
    "start_time": "2023-03-19T12:43:58.672Z"
   },
   {
    "duration": 286,
    "start_time": "2023-03-19T12:43:59.789Z"
   },
   {
    "duration": 6,
    "start_time": "2023-03-19T12:44:00.076Z"
   },
   {
    "duration": 16,
    "start_time": "2023-03-19T12:44:00.083Z"
   },
   {
    "duration": 7,
    "start_time": "2023-03-19T12:44:00.100Z"
   },
   {
    "duration": 324,
    "start_time": "2023-03-19T12:44:00.109Z"
   },
   {
    "duration": 14,
    "start_time": "2023-03-19T12:44:00.435Z"
   },
   {
    "duration": 39,
    "start_time": "2023-03-19T12:44:00.452Z"
   },
   {
    "duration": 21,
    "start_time": "2023-03-19T12:44:00.496Z"
   },
   {
    "duration": 370,
    "start_time": "2023-03-19T12:44:00.519Z"
   },
   {
    "duration": 10,
    "start_time": "2023-03-19T12:44:00.891Z"
   },
   {
    "duration": 334,
    "start_time": "2023-03-19T12:50:23.160Z"
   },
   {
    "duration": 44,
    "start_time": "2023-03-19T12:53:41.428Z"
   },
   {
    "duration": 52,
    "start_time": "2023-03-19T12:54:34.434Z"
   },
   {
    "duration": 7,
    "start_time": "2023-03-19T12:58:20.612Z"
   },
   {
    "duration": 100,
    "start_time": "2023-03-19T12:58:51.825Z"
   },
   {
    "duration": 15,
    "start_time": "2023-03-19T12:59:05.362Z"
   },
   {
    "duration": 7,
    "start_time": "2023-03-19T12:59:24.665Z"
   },
   {
    "duration": 182,
    "start_time": "2023-03-19T12:59:51.654Z"
   },
   {
    "duration": 184,
    "start_time": "2023-03-19T13:00:03.079Z"
   },
   {
    "duration": 202,
    "start_time": "2023-03-19T13:00:22.615Z"
   },
   {
    "duration": 283,
    "start_time": "2023-03-19T13:00:42.326Z"
   },
   {
    "duration": 186,
    "start_time": "2023-03-19T13:01:59.726Z"
   },
   {
    "duration": 15,
    "start_time": "2023-03-19T13:02:48.433Z"
   },
   {
    "duration": 8,
    "start_time": "2023-03-19T13:03:29.233Z"
   },
   {
    "duration": 159,
    "start_time": "2023-03-19T13:03:31.756Z"
   },
   {
    "duration": 156,
    "start_time": "2023-03-19T13:03:39.245Z"
   },
   {
    "duration": 165,
    "start_time": "2023-03-19T13:03:45.161Z"
   },
   {
    "duration": 9,
    "start_time": "2023-03-19T13:04:06.124Z"
   },
   {
    "duration": 154,
    "start_time": "2023-03-19T13:04:07.132Z"
   },
   {
    "duration": 21,
    "start_time": "2023-03-19T13:04:15.533Z"
   },
   {
    "duration": 170,
    "start_time": "2023-03-19T13:04:18.994Z"
   },
   {
    "duration": 168,
    "start_time": "2023-03-19T13:04:31.637Z"
   },
   {
    "duration": 12,
    "start_time": "2023-03-19T13:04:38.580Z"
   },
   {
    "duration": 16,
    "start_time": "2023-03-19T13:05:32.895Z"
   },
   {
    "duration": 9,
    "start_time": "2023-03-19T13:05:37.354Z"
   },
   {
    "duration": 9,
    "start_time": "2023-03-19T13:05:46.878Z"
   },
   {
    "duration": 2,
    "start_time": "2023-03-19T13:05:51.482Z"
   },
   {
    "duration": 6,
    "start_time": "2023-03-19T13:05:51.486Z"
   },
   {
    "duration": 4,
    "start_time": "2023-03-19T13:05:51.493Z"
   },
   {
    "duration": 5,
    "start_time": "2023-03-19T13:05:51.498Z"
   },
   {
    "duration": 54,
    "start_time": "2023-03-19T13:05:51.504Z"
   },
   {
    "duration": 14,
    "start_time": "2023-03-19T13:05:51.560Z"
   },
   {
    "duration": 13,
    "start_time": "2023-03-19T13:05:51.576Z"
   },
   {
    "duration": 2,
    "start_time": "2023-03-19T13:05:51.591Z"
   },
   {
    "duration": 7,
    "start_time": "2023-03-19T13:05:51.594Z"
   },
   {
    "duration": 29,
    "start_time": "2023-03-19T13:05:51.602Z"
   },
   {
    "duration": 11,
    "start_time": "2023-03-19T13:05:51.633Z"
   },
   {
    "duration": 4,
    "start_time": "2023-03-19T13:05:51.646Z"
   },
   {
    "duration": 484,
    "start_time": "2023-03-19T13:05:51.653Z"
   },
   {
    "duration": 10,
    "start_time": "2023-03-19T13:05:52.139Z"
   },
   {
    "duration": 8,
    "start_time": "2023-03-19T13:05:52.151Z"
   },
   {
    "duration": 9,
    "start_time": "2023-03-19T13:05:52.161Z"
   },
   {
    "duration": 16,
    "start_time": "2023-03-19T13:05:52.172Z"
   },
   {
    "duration": 176,
    "start_time": "2023-03-19T13:05:52.189Z"
   },
   {
    "duration": 3,
    "start_time": "2023-03-19T13:05:52.367Z"
   },
   {
    "duration": 10,
    "start_time": "2023-03-19T13:05:52.372Z"
   },
   {
    "duration": 17,
    "start_time": "2023-03-19T13:05:52.384Z"
   },
   {
    "duration": 9,
    "start_time": "2023-03-19T13:05:52.403Z"
   },
   {
    "duration": 38,
    "start_time": "2023-03-19T13:05:52.414Z"
   },
   {
    "duration": 7,
    "start_time": "2023-03-19T13:05:52.456Z"
   },
   {
    "duration": 6,
    "start_time": "2023-03-19T13:05:52.465Z"
   },
   {
    "duration": 4,
    "start_time": "2023-03-19T13:05:52.473Z"
   },
   {
    "duration": 4,
    "start_time": "2023-03-19T13:05:52.479Z"
   },
   {
    "duration": 5,
    "start_time": "2023-03-19T13:05:52.485Z"
   },
   {
    "duration": 8,
    "start_time": "2023-03-19T13:05:52.491Z"
   },
   {
    "duration": 295,
    "start_time": "2023-03-19T13:05:52.523Z"
   },
   {
    "duration": 9,
    "start_time": "2023-03-19T13:05:52.820Z"
   },
   {
    "duration": 3,
    "start_time": "2023-03-19T13:05:52.831Z"
   },
   {
    "duration": 1116,
    "start_time": "2023-03-19T13:05:52.835Z"
   },
   {
    "duration": 306,
    "start_time": "2023-03-19T13:05:53.953Z"
   },
   {
    "duration": 6,
    "start_time": "2023-03-19T13:05:54.260Z"
   },
   {
    "duration": 10,
    "start_time": "2023-03-19T13:05:54.267Z"
   },
   {
    "duration": 5,
    "start_time": "2023-03-19T13:05:54.279Z"
   },
   {
    "duration": 287,
    "start_time": "2023-03-19T13:05:54.285Z"
   },
   {
    "duration": 11,
    "start_time": "2023-03-19T13:05:54.573Z"
   },
   {
    "duration": 11,
    "start_time": "2023-03-19T13:05:54.586Z"
   },
   {
    "duration": 3,
    "start_time": "2023-03-19T13:05:54.599Z"
   },
   {
    "duration": 321,
    "start_time": "2023-03-19T13:05:54.603Z"
   },
   {
    "duration": 9,
    "start_time": "2023-03-19T13:05:54.926Z"
   },
   {
    "duration": 449,
    "start_time": "2023-03-19T13:05:54.937Z"
   },
   {
    "duration": 314,
    "start_time": "2023-03-19T13:05:57.486Z"
   },
   {
    "duration": 10,
    "start_time": "2023-03-19T13:06:00.614Z"
   },
   {
    "duration": 3,
    "start_time": "2023-03-19T13:06:10.205Z"
   },
   {
    "duration": 395,
    "start_time": "2023-03-19T13:06:29.964Z"
   },
   {
    "duration": 476,
    "start_time": "2023-03-19T13:06:30.361Z"
   },
   {
    "duration": 2,
    "start_time": "2023-03-19T13:06:30.839Z"
   },
   {
    "duration": 230,
    "start_time": "2023-03-19T13:06:30.843Z"
   },
   {
    "duration": 110,
    "start_time": "2023-03-19T13:06:31.075Z"
   },
   {
    "duration": 19,
    "start_time": "2023-03-19T13:06:31.187Z"
   },
   {
    "duration": 41,
    "start_time": "2023-03-19T13:06:31.208Z"
   },
   {
    "duration": 29,
    "start_time": "2023-03-19T13:06:31.250Z"
   },
   {
    "duration": 34,
    "start_time": "2023-03-19T13:06:31.281Z"
   },
   {
    "duration": 41,
    "start_time": "2023-03-19T13:06:31.316Z"
   },
   {
    "duration": 38,
    "start_time": "2023-03-19T13:06:31.359Z"
   },
   {
    "duration": 21,
    "start_time": "2023-03-19T13:06:31.398Z"
   },
   {
    "duration": 449,
    "start_time": "2023-03-19T13:06:31.421Z"
   },
   {
    "duration": 10,
    "start_time": "2023-03-19T13:06:31.873Z"
   },
   {
    "duration": 17,
    "start_time": "2023-03-19T13:06:31.885Z"
   },
   {
    "duration": 25,
    "start_time": "2023-03-19T13:06:31.904Z"
   },
   {
    "duration": 15,
    "start_time": "2023-03-19T13:06:31.931Z"
   },
   {
    "duration": 161,
    "start_time": "2023-03-19T13:06:31.948Z"
   },
   {
    "duration": 3,
    "start_time": "2023-03-19T13:06:32.111Z"
   },
   {
    "duration": 15,
    "start_time": "2023-03-19T13:06:32.115Z"
   },
   {
    "duration": 26,
    "start_time": "2023-03-19T13:06:32.131Z"
   },
   {
    "duration": 23,
    "start_time": "2023-03-19T13:06:32.159Z"
   },
   {
    "duration": 41,
    "start_time": "2023-03-19T13:06:32.184Z"
   },
   {
    "duration": 8,
    "start_time": "2023-03-19T13:06:32.227Z"
   },
   {
    "duration": 18,
    "start_time": "2023-03-19T13:06:32.236Z"
   },
   {
    "duration": 22,
    "start_time": "2023-03-19T13:06:32.256Z"
   },
   {
    "duration": 9,
    "start_time": "2023-03-19T13:06:32.280Z"
   },
   {
    "duration": 5,
    "start_time": "2023-03-19T13:06:32.291Z"
   },
   {
    "duration": 9,
    "start_time": "2023-03-19T13:06:32.297Z"
   },
   {
    "duration": 290,
    "start_time": "2023-03-19T13:06:32.307Z"
   },
   {
    "duration": 8,
    "start_time": "2023-03-19T13:06:32.599Z"
   },
   {
    "duration": 18,
    "start_time": "2023-03-19T13:06:32.609Z"
   },
   {
    "duration": 1116,
    "start_time": "2023-03-19T13:06:32.628Z"
   },
   {
    "duration": 283,
    "start_time": "2023-03-19T13:06:33.745Z"
   },
   {
    "duration": 7,
    "start_time": "2023-03-19T13:06:34.029Z"
   },
   {
    "duration": 5,
    "start_time": "2023-03-19T13:06:34.037Z"
   },
   {
    "duration": 7,
    "start_time": "2023-03-19T13:06:34.043Z"
   },
   {
    "duration": 290,
    "start_time": "2023-03-19T13:06:34.052Z"
   },
   {
    "duration": 10,
    "start_time": "2023-03-19T13:06:34.344Z"
   },
   {
    "duration": 13,
    "start_time": "2023-03-19T13:06:34.356Z"
   },
   {
    "duration": 10,
    "start_time": "2023-03-19T13:06:34.372Z"
   },
   {
    "duration": 318,
    "start_time": "2023-03-19T13:06:34.384Z"
   },
   {
    "duration": 9,
    "start_time": "2023-03-19T13:06:34.703Z"
   },
   {
    "duration": 349,
    "start_time": "2023-03-19T13:06:34.724Z"
   },
   {
    "duration": 321,
    "start_time": "2023-03-19T13:06:37.953Z"
   },
   {
    "duration": 9,
    "start_time": "2023-03-19T13:06:39.931Z"
   },
   {
    "duration": 3,
    "start_time": "2023-03-19T13:06:40.679Z"
   },
   {
    "duration": 3,
    "start_time": "2023-03-19T13:07:40.448Z"
   },
   {
    "duration": 15,
    "start_time": "2023-03-19T13:07:40.453Z"
   },
   {
    "duration": 10,
    "start_time": "2023-03-19T13:07:40.470Z"
   },
   {
    "duration": 11,
    "start_time": "2023-03-19T13:07:40.482Z"
   },
   {
    "duration": 57,
    "start_time": "2023-03-19T13:07:40.496Z"
   },
   {
    "duration": 15,
    "start_time": "2023-03-19T13:07:40.556Z"
   },
   {
    "duration": 27,
    "start_time": "2023-03-19T13:07:40.572Z"
   },
   {
    "duration": 3,
    "start_time": "2023-03-19T13:07:40.601Z"
   },
   {
    "duration": 18,
    "start_time": "2023-03-19T13:07:40.606Z"
   },
   {
    "duration": 11,
    "start_time": "2023-03-19T13:07:40.625Z"
   },
   {
    "duration": 10,
    "start_time": "2023-03-19T13:07:40.638Z"
   },
   {
    "duration": 3,
    "start_time": "2023-03-19T13:07:40.651Z"
   },
   {
    "duration": 463,
    "start_time": "2023-03-19T13:07:40.656Z"
   },
   {
    "duration": 10,
    "start_time": "2023-03-19T13:07:41.123Z"
   },
   {
    "duration": 8,
    "start_time": "2023-03-19T13:07:41.134Z"
   },
   {
    "duration": 7,
    "start_time": "2023-03-19T13:07:41.144Z"
   },
   {
    "duration": 14,
    "start_time": "2023-03-19T13:07:41.153Z"
   },
   {
    "duration": 178,
    "start_time": "2023-03-19T13:07:41.168Z"
   },
   {
    "duration": 3,
    "start_time": "2023-03-19T13:07:41.348Z"
   },
   {
    "duration": 7,
    "start_time": "2023-03-19T13:07:41.353Z"
   },
   {
    "duration": 5,
    "start_time": "2023-03-19T13:07:41.361Z"
   },
   {
    "duration": 5,
    "start_time": "2023-03-19T13:07:41.367Z"
   },
   {
    "duration": 50,
    "start_time": "2023-03-19T13:07:41.374Z"
   },
   {
    "duration": 7,
    "start_time": "2023-03-19T13:07:41.427Z"
   },
   {
    "duration": 3,
    "start_time": "2023-03-19T13:07:41.436Z"
   },
   {
    "duration": 5,
    "start_time": "2023-03-19T13:07:41.441Z"
   },
   {
    "duration": 12,
    "start_time": "2023-03-19T13:07:41.448Z"
   },
   {
    "duration": 8,
    "start_time": "2023-03-19T13:07:41.461Z"
   },
   {
    "duration": 16,
    "start_time": "2023-03-19T13:07:41.471Z"
   },
   {
    "duration": 415,
    "start_time": "2023-03-19T13:07:41.488Z"
   },
   {
    "duration": 8,
    "start_time": "2023-03-19T13:07:41.905Z"
   },
   {
    "duration": 3,
    "start_time": "2023-03-19T13:07:41.927Z"
   },
   {
    "duration": 1226,
    "start_time": "2023-03-19T13:07:41.932Z"
   },
   {
    "duration": 400,
    "start_time": "2023-03-19T13:07:43.161Z"
   },
   {
    "duration": 5,
    "start_time": "2023-03-19T13:07:43.563Z"
   },
   {
    "duration": 4,
    "start_time": "2023-03-19T13:07:43.570Z"
   },
   {
    "duration": 9,
    "start_time": "2023-03-19T13:07:43.575Z"
   },
   {
    "duration": 288,
    "start_time": "2023-03-19T13:07:43.585Z"
   },
   {
    "duration": 13,
    "start_time": "2023-03-19T13:07:43.875Z"
   },
   {
    "duration": 8,
    "start_time": "2023-03-19T13:07:43.889Z"
   },
   {
    "duration": 3,
    "start_time": "2023-03-19T13:07:43.898Z"
   },
   {
    "duration": 304,
    "start_time": "2023-03-19T13:07:43.924Z"
   },
   {
    "duration": 11,
    "start_time": "2023-03-19T13:07:44.230Z"
   },
   {
    "duration": 363,
    "start_time": "2023-03-19T13:07:44.244Z"
   },
   {
    "duration": 330,
    "start_time": "2023-03-19T13:07:45.665Z"
   },
   {
    "duration": 9,
    "start_time": "2023-03-19T13:07:46.697Z"
   },
   {
    "duration": 8,
    "start_time": "2023-03-19T13:07:47.448Z"
   },
   {
    "duration": 317,
    "start_time": "2023-03-19T13:07:50.312Z"
   },
   {
    "duration": 176,
    "start_time": "2023-03-19T13:08:04.524Z"
   },
   {
    "duration": 161,
    "start_time": "2023-03-19T13:08:15.953Z"
   },
   {
    "duration": 925,
    "start_time": "2023-03-19T13:09:28.353Z"
   },
   {
    "duration": 333,
    "start_time": "2023-03-19T13:09:38.459Z"
   },
   {
    "duration": 331,
    "start_time": "2023-03-19T13:10:13.096Z"
   },
   {
    "duration": 342,
    "start_time": "2023-03-19T13:10:25.014Z"
   },
   {
    "duration": 448,
    "start_time": "2023-03-19T13:10:45.133Z"
   },
   {
    "duration": 286,
    "start_time": "2023-03-19T13:10:59.008Z"
   },
   {
    "duration": 322,
    "start_time": "2023-03-19T13:11:06.691Z"
   },
   {
    "duration": 305,
    "start_time": "2023-03-19T13:14:03.119Z"
   },
   {
    "duration": 326,
    "start_time": "2023-03-19T13:14:37.724Z"
   },
   {
    "duration": 323,
    "start_time": "2023-03-19T13:18:01.864Z"
   },
   {
    "duration": 189,
    "start_time": "2023-03-19T13:30:07.567Z"
   },
   {
    "duration": 2,
    "start_time": "2023-03-19T13:30:07.759Z"
   },
   {
    "duration": 16,
    "start_time": "2023-03-19T13:30:07.763Z"
   },
   {
    "duration": 19,
    "start_time": "2023-03-19T13:30:07.781Z"
   },
   {
    "duration": 4,
    "start_time": "2023-03-19T13:30:07.802Z"
   },
   {
    "duration": 49,
    "start_time": "2023-03-19T13:30:07.808Z"
   },
   {
    "duration": 13,
    "start_time": "2023-03-19T13:30:07.859Z"
   },
   {
    "duration": 17,
    "start_time": "2023-03-19T13:30:07.874Z"
   },
   {
    "duration": 3,
    "start_time": "2023-03-19T13:30:07.893Z"
   },
   {
    "duration": 5,
    "start_time": "2023-03-19T13:30:07.899Z"
   },
   {
    "duration": 18,
    "start_time": "2023-03-19T13:30:07.906Z"
   },
   {
    "duration": 10,
    "start_time": "2023-03-19T13:30:07.925Z"
   },
   {
    "duration": 5,
    "start_time": "2023-03-19T13:30:07.936Z"
   },
   {
    "duration": 452,
    "start_time": "2023-03-19T13:30:07.942Z"
   },
   {
    "duration": 9,
    "start_time": "2023-03-19T13:30:08.395Z"
   },
   {
    "duration": 17,
    "start_time": "2023-03-19T13:30:08.406Z"
   },
   {
    "duration": 24,
    "start_time": "2023-03-19T13:30:08.425Z"
   },
   {
    "duration": 21,
    "start_time": "2023-03-19T13:30:08.450Z"
   },
   {
    "duration": 140,
    "start_time": "2023-03-19T13:30:08.473Z"
   },
   {
    "duration": 2,
    "start_time": "2023-03-19T13:30:08.624Z"
   },
   {
    "duration": 10,
    "start_time": "2023-03-19T13:30:08.629Z"
   },
   {
    "duration": 10,
    "start_time": "2023-03-19T13:30:08.641Z"
   },
   {
    "duration": 7,
    "start_time": "2023-03-19T13:30:08.653Z"
   },
   {
    "duration": 36,
    "start_time": "2023-03-19T13:30:08.662Z"
   },
   {
    "duration": 7,
    "start_time": "2023-03-19T13:30:08.724Z"
   },
   {
    "duration": 5,
    "start_time": "2023-03-19T13:30:08.733Z"
   },
   {
    "duration": 15,
    "start_time": "2023-03-19T13:30:08.740Z"
   },
   {
    "duration": 6,
    "start_time": "2023-03-19T13:30:08.760Z"
   },
   {
    "duration": 5,
    "start_time": "2023-03-19T13:30:08.769Z"
   },
   {
    "duration": 9,
    "start_time": "2023-03-19T13:30:08.776Z"
   },
   {
    "duration": 319,
    "start_time": "2023-03-19T13:30:08.787Z"
   },
   {
    "duration": 19,
    "start_time": "2023-03-19T13:30:09.108Z"
   },
   {
    "duration": 18,
    "start_time": "2023-03-19T13:30:09.129Z"
   },
   {
    "duration": 1224,
    "start_time": "2023-03-19T13:30:09.148Z"
   },
   {
    "duration": 359,
    "start_time": "2023-03-19T13:30:10.374Z"
   },
   {
    "duration": 187,
    "start_time": "2023-03-19T13:37:58.284Z"
   },
   {
    "duration": 4,
    "start_time": "2023-03-19T13:45:35.481Z"
   },
   {
    "duration": 4,
    "start_time": "2023-03-19T13:45:35.487Z"
   },
   {
    "duration": 5,
    "start_time": "2023-03-19T13:45:35.492Z"
   },
   {
    "duration": 9,
    "start_time": "2023-03-19T13:45:35.499Z"
   },
   {
    "duration": 50,
    "start_time": "2023-03-19T13:45:35.510Z"
   },
   {
    "duration": 14,
    "start_time": "2023-03-19T13:45:35.562Z"
   },
   {
    "duration": 17,
    "start_time": "2023-03-19T13:45:35.578Z"
   },
   {
    "duration": 3,
    "start_time": "2023-03-19T13:45:35.596Z"
   },
   {
    "duration": 5,
    "start_time": "2023-03-19T13:45:35.602Z"
   },
   {
    "duration": 22,
    "start_time": "2023-03-19T13:45:35.609Z"
   },
   {
    "duration": 11,
    "start_time": "2023-03-19T13:45:35.633Z"
   },
   {
    "duration": 3,
    "start_time": "2023-03-19T13:45:35.646Z"
   },
   {
    "duration": 473,
    "start_time": "2023-03-19T13:45:35.650Z"
   },
   {
    "duration": 10,
    "start_time": "2023-03-19T13:45:36.124Z"
   },
   {
    "duration": 9,
    "start_time": "2023-03-19T13:45:36.136Z"
   },
   {
    "duration": 9,
    "start_time": "2023-03-19T13:45:36.147Z"
   },
   {
    "duration": 15,
    "start_time": "2023-03-19T13:45:36.158Z"
   },
   {
    "duration": 174,
    "start_time": "2023-03-19T13:45:36.175Z"
   },
   {
    "duration": 3,
    "start_time": "2023-03-19T13:45:36.351Z"
   },
   {
    "duration": 7,
    "start_time": "2023-03-19T13:45:36.355Z"
   },
   {
    "duration": 5,
    "start_time": "2023-03-19T13:45:36.364Z"
   },
   {
    "duration": 5,
    "start_time": "2023-03-19T13:45:36.371Z"
   },
   {
    "duration": 49,
    "start_time": "2023-03-19T13:45:36.379Z"
   },
   {
    "duration": 7,
    "start_time": "2023-03-19T13:45:36.430Z"
   },
   {
    "duration": 4,
    "start_time": "2023-03-19T13:45:36.438Z"
   },
   {
    "duration": 5,
    "start_time": "2023-03-19T13:45:36.443Z"
   },
   {
    "duration": 5,
    "start_time": "2023-03-19T13:45:36.450Z"
   },
   {
    "duration": 3,
    "start_time": "2023-03-19T13:45:36.457Z"
   },
   {
    "duration": 6,
    "start_time": "2023-03-19T13:45:36.462Z"
   },
   {
    "duration": 347,
    "start_time": "2023-03-19T13:45:36.469Z"
   },
   {
    "duration": 12,
    "start_time": "2023-03-19T13:45:36.818Z"
   },
   {
    "duration": 4,
    "start_time": "2023-03-19T13:45:36.832Z"
   },
   {
    "duration": 1225,
    "start_time": "2023-03-19T13:45:36.837Z"
   },
   {
    "duration": 284,
    "start_time": "2023-03-19T13:45:41.521Z"
   },
   {
    "duration": 8,
    "start_time": "2023-03-19T13:45:56.415Z"
   },
   {
    "duration": 4,
    "start_time": "2023-03-19T13:45:57.236Z"
   },
   {
    "duration": 4,
    "start_time": "2023-03-19T13:45:57.620Z"
   },
   {
    "duration": 6,
    "start_time": "2023-03-19T13:46:00.187Z"
   },
   {
    "duration": 346,
    "start_time": "2023-03-19T13:46:10.113Z"
   },
   {
    "duration": 396,
    "start_time": "2023-03-19T13:47:10.270Z"
   },
   {
    "duration": 226,
    "start_time": "2023-03-19T13:48:40.419Z"
   },
   {
    "duration": 11,
    "start_time": "2023-03-19T13:50:06.838Z"
   },
   {
    "duration": 9,
    "start_time": "2023-03-19T13:51:23.998Z"
   },
   {
    "duration": 3,
    "start_time": "2023-03-19T13:51:24.630Z"
   },
   {
    "duration": 431,
    "start_time": "2023-03-19T13:51:25.953Z"
   },
   {
    "duration": 14,
    "start_time": "2023-03-19T13:52:47.047Z"
   },
   {
    "duration": 298,
    "start_time": "2023-03-19T13:54:17.843Z"
   },
   {
    "duration": 468,
    "start_time": "2023-03-19T13:54:23.898Z"
   },
   {
    "duration": 308,
    "start_time": "2023-03-19T13:54:24.797Z"
   },
   {
    "duration": 292,
    "start_time": "2023-03-19T13:54:31.957Z"
   },
   {
    "duration": 9,
    "start_time": "2023-03-19T13:56:41.209Z"
   },
   {
    "duration": 4,
    "start_time": "2023-03-19T13:56:41.401Z"
   },
   {
    "duration": 281,
    "start_time": "2023-03-19T13:56:41.848Z"
   },
   {
    "duration": 10,
    "start_time": "2023-03-19T13:57:03.270Z"
   },
   {
    "duration": 33,
    "start_time": "2023-03-19T14:01:15.382Z"
   },
   {
    "duration": 46,
    "start_time": "2023-03-19T14:01:31.601Z"
   },
   {
    "duration": 13,
    "start_time": "2023-03-19T14:01:57.696Z"
   },
   {
    "duration": 3,
    "start_time": "2023-03-19T14:01:57.782Z"
   },
   {
    "duration": 41,
    "start_time": "2023-03-19T14:02:25.641Z"
   },
   {
    "duration": 250,
    "start_time": "2023-03-19T14:03:05.420Z"
   },
   {
    "duration": 255,
    "start_time": "2023-03-19T14:03:34.449Z"
   },
   {
    "duration": 174,
    "start_time": "2023-03-19T14:23:09.779Z"
   },
   {
    "duration": 8,
    "start_time": "2023-03-19T14:24:39.211Z"
   },
   {
    "duration": 4,
    "start_time": "2023-03-19T14:24:40.138Z"
   },
   {
    "duration": 11,
    "start_time": "2023-03-19T14:31:09.160Z"
   },
   {
    "duration": 144,
    "start_time": "2023-03-19T14:31:35.659Z"
   },
   {
    "duration": 2,
    "start_time": "2023-03-19T14:33:25.816Z"
   },
   {
    "duration": 5,
    "start_time": "2023-03-19T14:34:24.211Z"
   },
   {
    "duration": 136,
    "start_time": "2023-03-19T14:50:58.064Z"
   },
   {
    "duration": 135,
    "start_time": "2023-03-19T14:51:01.429Z"
   },
   {
    "duration": 6,
    "start_time": "2023-03-19T14:51:04.576Z"
   },
   {
    "duration": 50,
    "start_time": "2023-03-20T03:36:32.225Z"
   },
   {
    "duration": 429,
    "start_time": "2023-03-20T03:36:36.511Z"
   },
   {
    "duration": 450,
    "start_time": "2023-03-20T03:36:36.943Z"
   },
   {
    "duration": 2,
    "start_time": "2023-03-20T03:36:37.395Z"
   },
   {
    "duration": 363,
    "start_time": "2023-03-20T03:36:37.399Z"
   },
   {
    "duration": 254,
    "start_time": "2023-03-20T03:36:37.764Z"
   },
   {
    "duration": 19,
    "start_time": "2023-03-20T03:36:38.020Z"
   },
   {
    "duration": 18,
    "start_time": "2023-03-20T03:36:38.041Z"
   },
   {
    "duration": 3,
    "start_time": "2023-03-20T03:36:38.061Z"
   },
   {
    "duration": 6,
    "start_time": "2023-03-20T03:36:38.066Z"
   },
   {
    "duration": 26,
    "start_time": "2023-03-20T03:36:38.074Z"
   },
   {
    "duration": 26,
    "start_time": "2023-03-20T03:36:38.102Z"
   },
   {
    "duration": 3,
    "start_time": "2023-03-20T03:36:38.131Z"
   },
   {
    "duration": 486,
    "start_time": "2023-03-20T03:36:38.136Z"
   },
   {
    "duration": 14,
    "start_time": "2023-03-20T03:36:38.627Z"
   },
   {
    "duration": 24,
    "start_time": "2023-03-20T03:36:38.643Z"
   },
   {
    "duration": 12,
    "start_time": "2023-03-20T03:36:38.669Z"
   },
   {
    "duration": 21,
    "start_time": "2023-03-20T03:36:38.684Z"
   },
   {
    "duration": 210,
    "start_time": "2023-03-20T03:36:38.707Z"
   },
   {
    "duration": 5,
    "start_time": "2023-03-20T03:36:38.919Z"
   },
   {
    "duration": 10,
    "start_time": "2023-03-20T03:36:38.926Z"
   },
   {
    "duration": 14,
    "start_time": "2023-03-20T03:36:38.937Z"
   },
   {
    "duration": 11,
    "start_time": "2023-03-20T03:36:38.953Z"
   },
   {
    "duration": 34,
    "start_time": "2023-03-20T03:36:38.967Z"
   },
   {
    "duration": 22,
    "start_time": "2023-03-20T03:36:39.003Z"
   },
   {
    "duration": 4,
    "start_time": "2023-03-20T03:36:39.027Z"
   },
   {
    "duration": 5,
    "start_time": "2023-03-20T03:36:39.032Z"
   },
   {
    "duration": 14,
    "start_time": "2023-03-20T03:36:39.038Z"
   },
   {
    "duration": 9,
    "start_time": "2023-03-20T03:36:39.053Z"
   },
   {
    "duration": 8,
    "start_time": "2023-03-20T03:36:39.063Z"
   },
   {
    "duration": 326,
    "start_time": "2023-03-20T03:36:39.073Z"
   },
   {
    "duration": 9,
    "start_time": "2023-03-20T03:36:39.400Z"
   },
   {
    "duration": 13,
    "start_time": "2023-03-20T03:36:39.410Z"
   },
   {
    "duration": 1272,
    "start_time": "2023-03-20T03:36:39.424Z"
   },
   {
    "duration": 337,
    "start_time": "2023-03-20T03:36:40.698Z"
   },
   {
    "duration": 8,
    "start_time": "2023-03-20T03:36:41.037Z"
   },
   {
    "duration": 3,
    "start_time": "2023-03-20T03:36:41.048Z"
   },
   {
    "duration": 10,
    "start_time": "2023-03-20T03:36:41.054Z"
   },
   {
    "duration": 324,
    "start_time": "2023-03-20T03:36:41.066Z"
   },
   {
    "duration": 200,
    "start_time": "2023-03-20T03:36:41.392Z"
   },
   {
    "duration": 11,
    "start_time": "2023-03-20T03:36:41.594Z"
   },
   {
    "duration": 17,
    "start_time": "2023-03-20T03:36:41.610Z"
   },
   {
    "duration": 4,
    "start_time": "2023-03-20T03:36:41.629Z"
   },
   {
    "duration": 301,
    "start_time": "2023-03-20T03:36:41.634Z"
   },
   {
    "duration": 11,
    "start_time": "2023-03-20T03:36:41.936Z"
   },
   {
    "duration": 250,
    "start_time": "2023-03-20T03:36:41.949Z"
   },
   {
    "duration": 311,
    "start_time": "2023-03-20T03:36:42.201Z"
   },
   {
    "duration": 6,
    "start_time": "2023-03-20T03:36:43.391Z"
   },
   {
    "duration": 149,
    "start_time": "2023-03-20T03:36:45.640Z"
   },
   {
    "duration": 5,
    "start_time": "2023-03-20T03:36:55.291Z"
   },
   {
    "duration": 146,
    "start_time": "2023-03-20T03:37:08.990Z"
   },
   {
    "duration": 64,
    "start_time": "2023-03-20T03:37:11.285Z"
   },
   {
    "duration": 5,
    "start_time": "2023-03-20T03:37:16.782Z"
   },
   {
    "duration": 104,
    "start_time": "2023-03-20T03:37:50.956Z"
   },
   {
    "duration": 1086,
    "start_time": "2023-03-20T03:37:52.606Z"
   },
   {
    "duration": 15,
    "start_time": "2023-03-20T03:41:34.312Z"
   },
   {
    "duration": 186,
    "start_time": "2023-03-20T03:42:40.502Z"
   },
   {
    "duration": 338,
    "start_time": "2023-03-20T03:45:32.651Z"
   },
   {
    "duration": 138,
    "start_time": "2023-03-20T03:45:42.793Z"
   },
   {
    "duration": 133,
    "start_time": "2023-03-20T03:45:56.389Z"
   },
   {
    "duration": 155,
    "start_time": "2023-03-20T03:47:38.503Z"
   },
   {
    "duration": 19,
    "start_time": "2023-03-20T03:55:43.289Z"
   },
   {
    "duration": 107,
    "start_time": "2023-03-20T03:55:54.332Z"
   },
   {
    "duration": 470,
    "start_time": "2023-03-20T03:57:06.723Z"
   },
   {
    "duration": 351,
    "start_time": "2023-03-20T03:57:37.145Z"
   },
   {
    "duration": 389,
    "start_time": "2023-03-20T03:58:32.949Z"
   },
   {
    "duration": 357,
    "start_time": "2023-03-20T03:58:48.281Z"
   },
   {
    "duration": 367,
    "start_time": "2023-03-20T03:58:56.523Z"
   },
   {
    "duration": 25,
    "start_time": "2023-03-20T04:08:55.558Z"
   },
   {
    "duration": 19,
    "start_time": "2023-03-20T04:09:33.814Z"
   },
   {
    "duration": 24,
    "start_time": "2023-03-20T04:09:47.427Z"
   },
   {
    "duration": 10,
    "start_time": "2023-03-20T04:10:05.767Z"
   },
   {
    "duration": 11,
    "start_time": "2023-03-20T04:10:29.247Z"
   },
   {
    "duration": 10,
    "start_time": "2023-03-20T04:13:14.546Z"
   },
   {
    "duration": 10,
    "start_time": "2023-03-20T04:13:36.808Z"
   },
   {
    "duration": 10,
    "start_time": "2023-03-20T04:13:48.575Z"
   },
   {
    "duration": 9,
    "start_time": "2023-03-20T04:15:06.621Z"
   },
   {
    "duration": 7,
    "start_time": "2023-03-20T04:26:16.501Z"
   },
   {
    "duration": 148,
    "start_time": "2023-03-20T04:26:17.046Z"
   },
   {
    "duration": 5,
    "start_time": "2023-03-20T04:26:27.531Z"
   },
   {
    "duration": 288,
    "start_time": "2023-03-20T04:26:30.081Z"
   },
   {
    "duration": 5,
    "start_time": "2023-03-20T04:26:31.606Z"
   },
   {
    "duration": 6,
    "start_time": "2023-03-20T04:27:37.181Z"
   },
   {
    "duration": 1088,
    "start_time": "2023-03-20T04:27:37.748Z"
   },
   {
    "duration": 8,
    "start_time": "2023-03-20T04:32:25.191Z"
   },
   {
    "duration": 11,
    "start_time": "2023-03-20T04:32:25.672Z"
   },
   {
    "duration": 3,
    "start_time": "2023-03-20T04:32:29.291Z"
   },
   {
    "duration": 7,
    "start_time": "2023-03-20T04:32:29.951Z"
   },
   {
    "duration": 1014,
    "start_time": "2023-03-20T04:32:30.251Z"
   },
   {
    "duration": 10,
    "start_time": "2023-03-20T04:34:10.608Z"
   },
   {
    "duration": 1009,
    "start_time": "2023-03-20T04:34:11.090Z"
   },
   {
    "duration": 7,
    "start_time": "2023-03-20T04:34:16.730Z"
   },
   {
    "duration": 868,
    "start_time": "2023-03-20T04:34:17.088Z"
   },
   {
    "duration": 7,
    "start_time": "2023-03-20T04:34:29.611Z"
   },
   {
    "duration": 1110,
    "start_time": "2023-03-20T04:34:30.218Z"
   },
   {
    "duration": 20,
    "start_time": "2023-03-20T04:53:37.680Z"
   },
   {
    "duration": 19,
    "start_time": "2023-03-20T04:54:06.758Z"
   },
   {
    "duration": 15,
    "start_time": "2023-03-20T05:03:56.462Z"
   },
   {
    "duration": 17,
    "start_time": "2023-03-20T05:04:34.796Z"
   },
   {
    "duration": 18,
    "start_time": "2023-03-20T05:04:38.438Z"
   },
   {
    "duration": 25,
    "start_time": "2023-03-20T05:04:42.979Z"
   },
   {
    "duration": 23,
    "start_time": "2023-03-20T05:04:54.014Z"
   },
   {
    "duration": 20,
    "start_time": "2023-03-20T05:04:58.713Z"
   },
   {
    "duration": 4,
    "start_time": "2023-03-20T05:05:03.978Z"
   },
   {
    "duration": 28,
    "start_time": "2023-03-20T05:05:13.144Z"
   },
   {
    "duration": 17,
    "start_time": "2023-03-20T05:05:22.994Z"
   },
   {
    "duration": 22,
    "start_time": "2023-03-20T05:05:32.259Z"
   },
   {
    "duration": 17,
    "start_time": "2023-03-20T05:05:57.119Z"
   },
   {
    "duration": 23,
    "start_time": "2023-03-20T05:06:27.850Z"
   },
   {
    "duration": 16,
    "start_time": "2023-03-20T05:07:46.305Z"
   },
   {
    "duration": 21,
    "start_time": "2023-03-20T05:09:09.972Z"
   },
   {
    "duration": 10,
    "start_time": "2023-03-20T05:09:40.999Z"
   },
   {
    "duration": 10,
    "start_time": "2023-03-20T05:11:41.624Z"
   },
   {
    "duration": 11,
    "start_time": "2023-03-20T05:11:47.741Z"
   },
   {
    "duration": 3,
    "start_time": "2023-03-20T05:12:06.252Z"
   },
   {
    "duration": 2,
    "start_time": "2023-03-20T05:12:06.260Z"
   },
   {
    "duration": 2,
    "start_time": "2023-03-20T05:12:06.266Z"
   },
   {
    "duration": 2,
    "start_time": "2023-03-20T05:12:06.272Z"
   },
   {
    "duration": 49,
    "start_time": "2023-03-20T05:12:06.276Z"
   },
   {
    "duration": 15,
    "start_time": "2023-03-20T05:12:06.327Z"
   },
   {
    "duration": 19,
    "start_time": "2023-03-20T05:12:06.344Z"
   },
   {
    "duration": 3,
    "start_time": "2023-03-20T05:12:06.366Z"
   },
   {
    "duration": 6,
    "start_time": "2023-03-20T05:12:06.371Z"
   },
   {
    "duration": 45,
    "start_time": "2023-03-20T05:12:06.379Z"
   },
   {
    "duration": 12,
    "start_time": "2023-03-20T05:12:06.426Z"
   },
   {
    "duration": 5,
    "start_time": "2023-03-20T05:12:06.439Z"
   },
   {
    "duration": 512,
    "start_time": "2023-03-20T05:12:06.445Z"
   },
   {
    "duration": 10,
    "start_time": "2023-03-20T05:12:06.960Z"
   },
   {
    "duration": 11,
    "start_time": "2023-03-20T05:12:06.971Z"
   },
   {
    "duration": 8,
    "start_time": "2023-03-20T05:12:06.984Z"
   },
   {
    "duration": 37,
    "start_time": "2023-03-20T05:12:06.993Z"
   },
   {
    "duration": 147,
    "start_time": "2023-03-20T05:12:07.031Z"
   },
   {
    "duration": 3,
    "start_time": "2023-03-20T05:12:07.179Z"
   },
   {
    "duration": 9,
    "start_time": "2023-03-20T05:12:07.183Z"
   },
   {
    "duration": 6,
    "start_time": "2023-03-20T05:12:07.193Z"
   },
   {
    "duration": 5,
    "start_time": "2023-03-20T05:12:07.201Z"
   },
   {
    "duration": 26,
    "start_time": "2023-03-20T05:12:07.223Z"
   },
   {
    "duration": 15,
    "start_time": "2023-03-20T05:12:07.251Z"
   },
   {
    "duration": 10,
    "start_time": "2023-03-20T05:12:07.267Z"
   },
   {
    "duration": 8,
    "start_time": "2023-03-20T05:12:07.279Z"
   },
   {
    "duration": 8,
    "start_time": "2023-03-20T05:12:07.288Z"
   },
   {
    "duration": 8,
    "start_time": "2023-03-20T05:12:07.297Z"
   },
   {
    "duration": 7,
    "start_time": "2023-03-20T05:12:07.307Z"
   },
   {
    "duration": 312,
    "start_time": "2023-03-20T05:12:07.315Z"
   },
   {
    "duration": 9,
    "start_time": "2023-03-20T05:12:07.629Z"
   },
   {
    "duration": 11,
    "start_time": "2023-03-20T05:12:07.643Z"
   },
   {
    "duration": 1187,
    "start_time": "2023-03-20T05:12:07.655Z"
   },
   {
    "duration": 303,
    "start_time": "2023-03-20T05:12:08.844Z"
   },
   {
    "duration": 5,
    "start_time": "2023-03-20T05:12:09.149Z"
   },
   {
    "duration": 15,
    "start_time": "2023-03-20T05:12:09.155Z"
   },
   {
    "duration": 10,
    "start_time": "2023-03-20T05:12:09.171Z"
   },
   {
    "duration": 267,
    "start_time": "2023-03-20T05:12:09.182Z"
   },
   {
    "duration": 211,
    "start_time": "2023-03-20T05:12:09.451Z"
   },
   {
    "duration": 11,
    "start_time": "2023-03-20T05:12:09.664Z"
   },
   {
    "duration": 8,
    "start_time": "2023-03-20T05:12:09.676Z"
   },
   {
    "duration": 4,
    "start_time": "2023-03-20T05:12:09.685Z"
   },
   {
    "duration": 295,
    "start_time": "2023-03-20T05:12:09.690Z"
   },
   {
    "duration": 9,
    "start_time": "2023-03-20T05:12:09.987Z"
   },
   {
    "duration": 244,
    "start_time": "2023-03-20T05:12:09.997Z"
   },
   {
    "duration": 313,
    "start_time": "2023-03-20T05:12:10.243Z"
   },
   {
    "duration": 10,
    "start_time": "2023-03-20T05:12:10.558Z"
   },
   {
    "duration": 163,
    "start_time": "2023-03-20T05:12:10.569Z"
   },
   {
    "duration": 6,
    "start_time": "2023-03-20T05:12:10.734Z"
   },
   {
    "duration": 181,
    "start_time": "2023-03-20T05:12:10.742Z"
   },
   {
    "duration": 5,
    "start_time": "2023-03-20T05:12:10.925Z"
   },
   {
    "duration": 2,
    "start_time": "2023-03-20T05:12:10.932Z"
   },
   {
    "duration": 3,
    "start_time": "2023-03-20T05:12:10.936Z"
   },
   {
    "duration": 4,
    "start_time": "2023-03-20T05:12:10.941Z"
   },
   {
    "duration": 8,
    "start_time": "2023-03-20T05:12:10.947Z"
   },
   {
    "duration": 7,
    "start_time": "2023-03-20T05:12:10.957Z"
   },
   {
    "duration": 3,
    "start_time": "2023-03-20T05:12:10.966Z"
   },
   {
    "duration": 4,
    "start_time": "2023-03-20T05:12:10.971Z"
   },
   {
    "duration": 7,
    "start_time": "2023-03-20T05:12:10.977Z"
   },
   {
    "duration": 4,
    "start_time": "2023-03-20T05:12:10.986Z"
   },
   {
    "duration": 32,
    "start_time": "2023-03-20T05:12:10.992Z"
   },
   {
    "duration": 3,
    "start_time": "2023-03-20T05:12:11.025Z"
   },
   {
    "duration": 6,
    "start_time": "2023-03-20T05:12:11.030Z"
   },
   {
    "duration": 1266,
    "start_time": "2023-03-20T05:12:11.038Z"
   },
   {
    "duration": 187,
    "start_time": "2023-03-20T05:12:12.306Z"
   },
   {
    "duration": 356,
    "start_time": "2023-03-20T05:12:12.494Z"
   },
   {
    "duration": 11,
    "start_time": "2023-03-20T05:12:12.851Z"
   },
   {
    "duration": 10,
    "start_time": "2023-03-20T05:12:12.863Z"
   },
   {
    "duration": 10,
    "start_time": "2023-03-20T05:12:12.874Z"
   },
   {
    "duration": 38,
    "start_time": "2023-03-20T05:12:12.886Z"
   },
   {
    "duration": 3,
    "start_time": "2023-03-20T05:12:12.926Z"
   },
   {
    "duration": 8,
    "start_time": "2023-03-20T05:12:12.931Z"
   },
   {
    "duration": 877,
    "start_time": "2023-03-20T05:12:12.940Z"
   },
   {
    "duration": 1009,
    "start_time": "2023-03-20T05:12:16.162Z"
   },
   {
    "duration": 8,
    "start_time": "2023-03-20T05:12:17.173Z"
   },
   {
    "duration": 10,
    "start_time": "2023-03-20T05:12:18.513Z"
   },
   {
    "duration": 9,
    "start_time": "2023-03-20T05:12:33.428Z"
   },
   {
    "duration": 10,
    "start_time": "2023-03-20T05:12:33.812Z"
   },
   {
    "duration": 4,
    "start_time": "2023-03-20T05:14:34.699Z"
   },
   {
    "duration": 5,
    "start_time": "2023-03-20T05:14:41.947Z"
   },
   {
    "duration": 42,
    "start_time": "2023-03-20T05:14:53.663Z"
   },
   {
    "duration": 53,
    "start_time": "2023-03-20T05:14:56.709Z"
   },
   {
    "duration": 45,
    "start_time": "2023-03-20T05:14:58.877Z"
   },
   {
    "duration": 5,
    "start_time": "2023-03-20T05:15:09.260Z"
   },
   {
    "duration": 5,
    "start_time": "2023-03-20T05:15:09.744Z"
   },
   {
    "duration": 4,
    "start_time": "2023-03-20T05:17:21.403Z"
   },
   {
    "duration": 4,
    "start_time": "2023-03-20T05:17:21.825Z"
   },
   {
    "duration": 48,
    "start_time": "2023-03-20T05:17:29.234Z"
   },
   {
    "duration": 8,
    "start_time": "2023-03-20T05:17:31.062Z"
   },
   {
    "duration": 7,
    "start_time": "2023-03-20T05:17:35.263Z"
   },
   {
    "duration": 9,
    "start_time": "2023-03-20T05:31:01.012Z"
   },
   {
    "duration": 9,
    "start_time": "2023-03-20T05:31:32.074Z"
   },
   {
    "duration": 9,
    "start_time": "2023-03-20T05:33:40.448Z"
   },
   {
    "duration": 44,
    "start_time": "2023-03-20T05:33:50.988Z"
   },
   {
    "duration": 10,
    "start_time": "2023-03-20T05:33:55.551Z"
   },
   {
    "duration": 3,
    "start_time": "2023-03-20T05:34:08.924Z"
   },
   {
    "duration": 3,
    "start_time": "2023-03-20T05:34:08.946Z"
   },
   {
    "duration": 5,
    "start_time": "2023-03-20T05:34:08.951Z"
   },
   {
    "duration": 5,
    "start_time": "2023-03-20T05:34:08.958Z"
   },
   {
    "duration": 56,
    "start_time": "2023-03-20T05:34:08.964Z"
   },
   {
    "duration": 17,
    "start_time": "2023-03-20T05:34:09.022Z"
   },
   {
    "duration": 21,
    "start_time": "2023-03-20T05:34:09.041Z"
   },
   {
    "duration": 4,
    "start_time": "2023-03-20T05:34:09.063Z"
   },
   {
    "duration": 6,
    "start_time": "2023-03-20T05:34:09.068Z"
   },
   {
    "duration": 12,
    "start_time": "2023-03-20T05:34:09.076Z"
   },
   {
    "duration": 35,
    "start_time": "2023-03-20T05:34:09.090Z"
   },
   {
    "duration": 3,
    "start_time": "2023-03-20T05:34:09.127Z"
   },
   {
    "duration": 513,
    "start_time": "2023-03-20T05:34:09.132Z"
   },
   {
    "duration": 11,
    "start_time": "2023-03-20T05:34:09.647Z"
   },
   {
    "duration": 10,
    "start_time": "2023-03-20T05:34:09.659Z"
   },
   {
    "duration": 8,
    "start_time": "2023-03-20T05:34:09.671Z"
   },
   {
    "duration": 42,
    "start_time": "2023-03-20T05:34:09.681Z"
   },
   {
    "duration": 160,
    "start_time": "2023-03-20T05:34:09.725Z"
   },
   {
    "duration": 3,
    "start_time": "2023-03-20T05:34:09.886Z"
   },
   {
    "duration": 10,
    "start_time": "2023-03-20T05:34:09.890Z"
   },
   {
    "duration": 13,
    "start_time": "2023-03-20T05:34:09.902Z"
   },
   {
    "duration": 4,
    "start_time": "2023-03-20T05:34:09.924Z"
   },
   {
    "duration": 25,
    "start_time": "2023-03-20T05:34:09.930Z"
   },
   {
    "duration": 7,
    "start_time": "2023-03-20T05:34:09.956Z"
   },
   {
    "duration": 4,
    "start_time": "2023-03-20T05:34:09.965Z"
   },
   {
    "duration": 5,
    "start_time": "2023-03-20T05:34:09.970Z"
   },
   {
    "duration": 4,
    "start_time": "2023-03-20T05:34:09.977Z"
   },
   {
    "duration": 3,
    "start_time": "2023-03-20T05:34:09.985Z"
   },
   {
    "duration": 7,
    "start_time": "2023-03-20T05:34:10.024Z"
   },
   {
    "duration": 348,
    "start_time": "2023-03-20T05:34:10.032Z"
   },
   {
    "duration": 11,
    "start_time": "2023-03-20T05:34:10.382Z"
   },
   {
    "duration": 7,
    "start_time": "2023-03-20T05:34:10.394Z"
   },
   {
    "duration": 1220,
    "start_time": "2023-03-20T05:34:10.403Z"
   },
   {
    "duration": 321,
    "start_time": "2023-03-20T05:34:11.626Z"
   },
   {
    "duration": 6,
    "start_time": "2023-03-20T05:34:11.949Z"
   },
   {
    "duration": 3,
    "start_time": "2023-03-20T05:34:11.957Z"
   },
   {
    "duration": 8,
    "start_time": "2023-03-20T05:34:11.962Z"
   },
   {
    "duration": 306,
    "start_time": "2023-03-20T05:34:11.972Z"
   },
   {
    "duration": 191,
    "start_time": "2023-03-20T05:34:12.280Z"
   },
   {
    "duration": 12,
    "start_time": "2023-03-20T05:34:12.472Z"
   },
   {
    "duration": 20,
    "start_time": "2023-03-20T05:34:12.485Z"
   },
   {
    "duration": 2,
    "start_time": "2023-03-20T05:34:12.507Z"
   },
   {
    "duration": 294,
    "start_time": "2023-03-20T05:34:12.511Z"
   },
   {
    "duration": 9,
    "start_time": "2023-03-20T05:34:12.807Z"
   },
   {
    "duration": 217,
    "start_time": "2023-03-20T05:34:12.824Z"
   },
   {
    "duration": 238,
    "start_time": "2023-03-20T05:34:13.042Z"
   },
   {
    "duration": 8,
    "start_time": "2023-03-20T05:34:13.282Z"
   },
   {
    "duration": 156,
    "start_time": "2023-03-20T05:34:13.292Z"
   },
   {
    "duration": 6,
    "start_time": "2023-03-20T05:34:13.450Z"
   },
   {
    "duration": 173,
    "start_time": "2023-03-20T05:34:13.458Z"
   },
   {
    "duration": 6,
    "start_time": "2023-03-20T05:34:13.633Z"
   },
   {
    "duration": 4,
    "start_time": "2023-03-20T05:34:13.640Z"
   },
   {
    "duration": 4,
    "start_time": "2023-03-20T05:34:13.646Z"
   },
   {
    "duration": 4,
    "start_time": "2023-03-20T05:34:13.651Z"
   },
   {
    "duration": 3,
    "start_time": "2023-03-20T05:34:13.656Z"
   },
   {
    "duration": 9,
    "start_time": "2023-03-20T05:34:13.661Z"
   },
   {
    "duration": 12,
    "start_time": "2023-03-20T05:34:13.671Z"
   },
   {
    "duration": 13,
    "start_time": "2023-03-20T05:34:13.684Z"
   },
   {
    "duration": 4,
    "start_time": "2023-03-20T05:34:13.698Z"
   },
   {
    "duration": 5,
    "start_time": "2023-03-20T05:34:13.703Z"
   },
   {
    "duration": 3,
    "start_time": "2023-03-20T05:34:13.723Z"
   },
   {
    "duration": 3,
    "start_time": "2023-03-20T05:34:13.727Z"
   },
   {
    "duration": 9,
    "start_time": "2023-03-20T05:34:13.732Z"
   },
   {
    "duration": 1262,
    "start_time": "2023-03-20T05:34:13.742Z"
   },
   {
    "duration": 187,
    "start_time": "2023-03-20T05:34:15.006Z"
   },
   {
    "duration": 355,
    "start_time": "2023-03-20T05:34:15.195Z"
   },
   {
    "duration": 10,
    "start_time": "2023-03-20T05:34:15.552Z"
   },
   {
    "duration": 9,
    "start_time": "2023-03-20T05:34:15.563Z"
   },
   {
    "duration": 9,
    "start_time": "2023-03-20T05:34:15.574Z"
   },
   {
    "duration": 39,
    "start_time": "2023-03-20T05:34:15.584Z"
   },
   {
    "duration": 2,
    "start_time": "2023-03-20T05:34:15.625Z"
   },
   {
    "duration": 6,
    "start_time": "2023-03-20T05:34:15.632Z"
   },
   {
    "duration": 876,
    "start_time": "2023-03-20T05:34:16.523Z"
   },
   {
    "duration": 9,
    "start_time": "2023-03-20T05:34:18.668Z"
   },
   {
    "duration": 9,
    "start_time": "2023-03-20T05:34:19.794Z"
   },
   {
    "duration": 2,
    "start_time": "2023-03-20T05:34:25.786Z"
   },
   {
    "duration": 2,
    "start_time": "2023-03-20T05:34:37.228Z"
   },
   {
    "duration": 3,
    "start_time": "2023-03-20T05:34:37.252Z"
   },
   {
    "duration": 11,
    "start_time": "2023-03-20T05:34:37.258Z"
   },
   {
    "duration": 5,
    "start_time": "2023-03-20T05:34:37.271Z"
   },
   {
    "duration": 53,
    "start_time": "2023-03-20T05:34:37.278Z"
   },
   {
    "duration": 17,
    "start_time": "2023-03-20T05:34:37.333Z"
   },
   {
    "duration": 23,
    "start_time": "2023-03-20T05:34:37.352Z"
   },
   {
    "duration": 4,
    "start_time": "2023-03-20T05:34:37.378Z"
   },
   {
    "duration": 6,
    "start_time": "2023-03-20T05:34:37.384Z"
   },
   {
    "duration": 37,
    "start_time": "2023-03-20T05:34:37.392Z"
   },
   {
    "duration": 12,
    "start_time": "2023-03-20T05:34:37.431Z"
   },
   {
    "duration": 3,
    "start_time": "2023-03-20T05:34:37.445Z"
   },
   {
    "duration": 539,
    "start_time": "2023-03-20T05:34:37.450Z"
   },
   {
    "duration": 11,
    "start_time": "2023-03-20T05:34:37.991Z"
   },
   {
    "duration": 10,
    "start_time": "2023-03-20T05:34:38.003Z"
   },
   {
    "duration": 17,
    "start_time": "2023-03-20T05:34:38.016Z"
   },
   {
    "duration": 16,
    "start_time": "2023-03-20T05:34:38.035Z"
   },
   {
    "duration": 161,
    "start_time": "2023-03-20T05:34:38.053Z"
   },
   {
    "duration": 7,
    "start_time": "2023-03-20T05:34:38.216Z"
   },
   {
    "duration": 12,
    "start_time": "2023-03-20T05:34:38.225Z"
   },
   {
    "duration": 8,
    "start_time": "2023-03-20T05:34:38.239Z"
   },
   {
    "duration": 16,
    "start_time": "2023-03-20T05:34:38.248Z"
   },
   {
    "duration": 26,
    "start_time": "2023-03-20T05:34:38.265Z"
   },
   {
    "duration": 7,
    "start_time": "2023-03-20T05:34:38.293Z"
   },
   {
    "duration": 23,
    "start_time": "2023-03-20T05:34:38.301Z"
   },
   {
    "duration": 6,
    "start_time": "2023-03-20T05:34:38.326Z"
   },
   {
    "duration": 4,
    "start_time": "2023-03-20T05:34:38.333Z"
   },
   {
    "duration": 3,
    "start_time": "2023-03-20T05:34:38.339Z"
   },
   {
    "duration": 7,
    "start_time": "2023-03-20T05:34:38.343Z"
   },
   {
    "duration": 463,
    "start_time": "2023-03-20T05:34:38.351Z"
   },
   {
    "duration": 12,
    "start_time": "2023-03-20T05:34:38.816Z"
   },
   {
    "duration": 4,
    "start_time": "2023-03-20T05:34:38.829Z"
   },
   {
    "duration": 1014,
    "start_time": "2023-03-20T05:34:38.835Z"
   },
   {
    "duration": 311,
    "start_time": "2023-03-20T05:34:39.851Z"
   },
   {
    "duration": 6,
    "start_time": "2023-03-20T05:34:40.164Z"
   },
   {
    "duration": 3,
    "start_time": "2023-03-20T05:34:40.171Z"
   },
   {
    "duration": 9,
    "start_time": "2023-03-20T05:34:40.176Z"
   },
   {
    "duration": 376,
    "start_time": "2023-03-20T05:34:40.186Z"
   },
   {
    "duration": 187,
    "start_time": "2023-03-20T05:34:40.564Z"
   },
   {
    "duration": 12,
    "start_time": "2023-03-20T05:34:40.757Z"
   },
   {
    "duration": 10,
    "start_time": "2023-03-20T05:34:40.771Z"
   },
   {
    "duration": 3,
    "start_time": "2023-03-20T05:34:40.783Z"
   },
   {
    "duration": 319,
    "start_time": "2023-03-20T05:34:40.788Z"
   },
   {
    "duration": 15,
    "start_time": "2023-03-20T05:34:41.109Z"
   },
   {
    "duration": 397,
    "start_time": "2023-03-20T05:34:41.126Z"
   },
   {
    "duration": 253,
    "start_time": "2023-03-20T05:34:41.525Z"
   },
   {
    "duration": 7,
    "start_time": "2023-03-20T05:34:41.780Z"
   },
   {
    "duration": 161,
    "start_time": "2023-03-20T05:34:41.789Z"
   },
   {
    "duration": 6,
    "start_time": "2023-03-20T05:34:41.951Z"
   },
   {
    "duration": 168,
    "start_time": "2023-03-20T05:34:41.959Z"
   },
   {
    "duration": 5,
    "start_time": "2023-03-20T05:34:42.129Z"
   },
   {
    "duration": 3,
    "start_time": "2023-03-20T05:34:42.136Z"
   },
   {
    "duration": 4,
    "start_time": "2023-03-20T05:34:42.140Z"
   },
   {
    "duration": 5,
    "start_time": "2023-03-20T05:34:42.145Z"
   },
   {
    "duration": 10,
    "start_time": "2023-03-20T05:34:42.151Z"
   },
   {
    "duration": 4,
    "start_time": "2023-03-20T05:34:42.163Z"
   },
   {
    "duration": 10,
    "start_time": "2023-03-20T05:34:42.168Z"
   },
   {
    "duration": 4,
    "start_time": "2023-03-20T05:34:42.180Z"
   },
   {
    "duration": 4,
    "start_time": "2023-03-20T05:34:42.185Z"
   },
   {
    "duration": 4,
    "start_time": "2023-03-20T05:34:42.190Z"
   },
   {
    "duration": 28,
    "start_time": "2023-03-20T05:34:42.195Z"
   },
   {
    "duration": 3,
    "start_time": "2023-03-20T05:34:42.225Z"
   },
   {
    "duration": 7,
    "start_time": "2023-03-20T05:34:42.229Z"
   },
   {
    "duration": 1133,
    "start_time": "2023-03-20T05:34:42.238Z"
   },
   {
    "duration": 186,
    "start_time": "2023-03-20T05:34:43.374Z"
   },
   {
    "duration": 362,
    "start_time": "2023-03-20T05:34:43.562Z"
   },
   {
    "duration": 10,
    "start_time": "2023-03-20T05:34:43.926Z"
   },
   {
    "duration": 9,
    "start_time": "2023-03-20T05:34:43.938Z"
   },
   {
    "duration": 9,
    "start_time": "2023-03-20T05:34:43.949Z"
   },
   {
    "duration": 8,
    "start_time": "2023-03-20T05:34:43.960Z"
   },
   {
    "duration": 3,
    "start_time": "2023-03-20T05:34:43.970Z"
   },
   {
    "duration": 7,
    "start_time": "2023-03-20T05:34:43.974Z"
   },
   {
    "duration": 897,
    "start_time": "2023-03-20T05:34:43.983Z"
   },
   {
    "duration": 1085,
    "start_time": "2023-03-20T05:34:45.940Z"
   },
   {
    "duration": 8,
    "start_time": "2023-03-20T05:34:48.968Z"
   },
   {
    "duration": 7,
    "start_time": "2023-03-20T05:34:49.366Z"
   },
   {
    "duration": 8,
    "start_time": "2023-03-20T05:34:59.390Z"
   },
   {
    "duration": 9,
    "start_time": "2023-03-20T05:35:04.361Z"
   },
   {
    "duration": 14,
    "start_time": "2023-03-20T05:35:49.204Z"
   },
   {
    "duration": 14,
    "start_time": "2023-03-20T05:36:17.060Z"
   },
   {
    "duration": 14,
    "start_time": "2023-03-20T05:37:43.256Z"
   },
   {
    "duration": 55,
    "start_time": "2023-03-20T05:37:54.324Z"
   },
   {
    "duration": 15,
    "start_time": "2023-03-20T05:38:05.484Z"
   },
   {
    "duration": 8,
    "start_time": "2023-03-20T05:38:43.828Z"
   },
   {
    "duration": 15,
    "start_time": "2023-03-20T05:38:48.400Z"
   },
   {
    "duration": 9,
    "start_time": "2023-03-20T05:39:33.801Z"
   },
   {
    "duration": 9,
    "start_time": "2023-03-20T05:39:34.370Z"
   },
   {
    "duration": 11,
    "start_time": "2023-03-20T05:39:58.384Z"
   },
   {
    "duration": 12,
    "start_time": "2023-03-20T05:40:19.135Z"
   },
   {
    "duration": 9,
    "start_time": "2023-03-20T05:40:38.287Z"
   },
   {
    "duration": 8,
    "start_time": "2023-03-20T05:41:25.246Z"
   },
   {
    "duration": 9,
    "start_time": "2023-03-20T05:41:25.592Z"
   },
   {
    "duration": 10,
    "start_time": "2023-03-20T05:41:25.904Z"
   },
   {
    "duration": 9,
    "start_time": "2023-03-20T05:41:55.021Z"
   },
   {
    "duration": 9,
    "start_time": "2023-03-20T05:41:55.356Z"
   },
   {
    "duration": 9,
    "start_time": "2023-03-20T05:41:55.667Z"
   },
   {
    "duration": 9,
    "start_time": "2023-03-20T08:46:46.726Z"
   },
   {
    "duration": 466,
    "start_time": "2023-03-20T08:46:52.679Z"
   },
   {
    "duration": 484,
    "start_time": "2023-03-20T08:46:53.147Z"
   },
   {
    "duration": 4,
    "start_time": "2023-03-20T08:46:53.633Z"
   },
   {
    "duration": 432,
    "start_time": "2023-03-20T08:46:53.638Z"
   },
   {
    "duration": 298,
    "start_time": "2023-03-20T08:46:54.073Z"
   },
   {
    "duration": 22,
    "start_time": "2023-03-20T08:46:54.373Z"
   },
   {
    "duration": 22,
    "start_time": "2023-03-20T08:46:54.397Z"
   },
   {
    "duration": 3,
    "start_time": "2023-03-20T08:46:54.421Z"
   },
   {
    "duration": 6,
    "start_time": "2023-03-20T08:46:54.426Z"
   },
   {
    "duration": 12,
    "start_time": "2023-03-20T08:46:54.433Z"
   },
   {
    "duration": 40,
    "start_time": "2023-03-20T08:46:54.447Z"
   },
   {
    "duration": 3,
    "start_time": "2023-03-20T08:46:54.490Z"
   },
   {
    "duration": 469,
    "start_time": "2023-03-20T08:46:54.495Z"
   },
   {
    "duration": 21,
    "start_time": "2023-03-20T08:46:54.967Z"
   },
   {
    "duration": 12,
    "start_time": "2023-03-20T08:46:54.991Z"
   },
   {
    "duration": 13,
    "start_time": "2023-03-20T08:46:55.005Z"
   },
   {
    "duration": 16,
    "start_time": "2023-03-20T08:46:55.020Z"
   },
   {
    "duration": 225,
    "start_time": "2023-03-20T08:46:55.038Z"
   },
   {
    "duration": 3,
    "start_time": "2023-03-20T08:46:55.265Z"
   },
   {
    "duration": 55,
    "start_time": "2023-03-20T08:46:55.269Z"
   },
   {
    "duration": 23,
    "start_time": "2023-03-20T08:46:55.326Z"
   },
   {
    "duration": 22,
    "start_time": "2023-03-20T08:46:55.351Z"
   },
   {
    "duration": 39,
    "start_time": "2023-03-20T08:46:55.375Z"
   },
   {
    "duration": 10,
    "start_time": "2023-03-20T08:46:55.416Z"
   },
   {
    "duration": 5,
    "start_time": "2023-03-20T08:46:55.428Z"
   },
   {
    "duration": 5,
    "start_time": "2023-03-20T08:46:55.435Z"
   },
   {
    "duration": 11,
    "start_time": "2023-03-20T08:46:55.442Z"
   },
   {
    "duration": 5,
    "start_time": "2023-03-20T08:46:55.455Z"
   },
   {
    "duration": 33,
    "start_time": "2023-03-20T08:46:55.461Z"
   },
   {
    "duration": 330,
    "start_time": "2023-03-20T08:46:55.496Z"
   },
   {
    "duration": 9,
    "start_time": "2023-03-20T08:46:55.828Z"
   },
   {
    "duration": 6,
    "start_time": "2023-03-20T08:46:55.838Z"
   },
   {
    "duration": 1172,
    "start_time": "2023-03-20T08:46:55.846Z"
   },
   {
    "duration": 318,
    "start_time": "2023-03-20T08:46:57.020Z"
   },
   {
    "duration": 6,
    "start_time": "2023-03-20T08:46:57.339Z"
   },
   {
    "duration": 4,
    "start_time": "2023-03-20T08:46:57.347Z"
   },
   {
    "duration": 6,
    "start_time": "2023-03-20T08:46:57.353Z"
   },
   {
    "duration": 314,
    "start_time": "2023-03-20T08:46:57.361Z"
   },
   {
    "duration": 231,
    "start_time": "2023-03-20T08:46:57.677Z"
   },
   {
    "duration": 10,
    "start_time": "2023-03-20T08:46:57.910Z"
   },
   {
    "duration": 8,
    "start_time": "2023-03-20T08:46:57.925Z"
   },
   {
    "duration": 4,
    "start_time": "2023-03-20T08:46:57.934Z"
   },
   {
    "duration": 320,
    "start_time": "2023-03-20T08:46:57.941Z"
   },
   {
    "duration": 11,
    "start_time": "2023-03-20T08:46:58.263Z"
   },
   {
    "duration": 253,
    "start_time": "2023-03-20T08:46:58.288Z"
   },
   {
    "duration": 263,
    "start_time": "2023-03-20T08:46:58.543Z"
   },
   {
    "duration": 10,
    "start_time": "2023-03-20T08:46:58.808Z"
   },
   {
    "duration": 187,
    "start_time": "2023-03-20T08:46:58.820Z"
   },
   {
    "duration": 5,
    "start_time": "2023-03-20T08:46:59.009Z"
   },
   {
    "duration": 187,
    "start_time": "2023-03-20T08:46:59.016Z"
   },
   {
    "duration": 6,
    "start_time": "2023-03-20T08:46:59.205Z"
   },
   {
    "duration": 6,
    "start_time": "2023-03-20T08:46:59.213Z"
   },
   {
    "duration": 6,
    "start_time": "2023-03-20T08:46:59.221Z"
   },
   {
    "duration": 7,
    "start_time": "2023-03-20T08:46:59.229Z"
   },
   {
    "duration": 16,
    "start_time": "2023-03-20T08:46:59.238Z"
   },
   {
    "duration": 20,
    "start_time": "2023-03-20T08:46:59.257Z"
   },
   {
    "duration": 11,
    "start_time": "2023-03-20T08:46:59.279Z"
   },
   {
    "duration": 7,
    "start_time": "2023-03-20T08:46:59.292Z"
   },
   {
    "duration": 10,
    "start_time": "2023-03-20T08:46:59.302Z"
   },
   {
    "duration": 16,
    "start_time": "2023-03-20T08:46:59.314Z"
   },
   {
    "duration": 21,
    "start_time": "2023-03-20T08:46:59.332Z"
   },
   {
    "duration": 28,
    "start_time": "2023-03-20T08:46:59.355Z"
   },
   {
    "duration": 130,
    "start_time": "2023-03-20T08:46:59.386Z"
   },
   {
    "duration": 1459,
    "start_time": "2023-03-20T08:46:59.518Z"
   },
   {
    "duration": 287,
    "start_time": "2023-03-20T08:47:00.979Z"
   },
   {
    "duration": 514,
    "start_time": "2023-03-20T08:47:01.269Z"
   },
   {
    "duration": 16,
    "start_time": "2023-03-20T08:47:01.785Z"
   },
   {
    "duration": 156,
    "start_time": "2023-03-20T08:47:01.803Z"
   },
   {
    "duration": 61,
    "start_time": "2023-03-20T08:47:01.961Z"
   },
   {
    "duration": 146,
    "start_time": "2023-03-20T08:47:02.024Z"
   },
   {
    "duration": 47,
    "start_time": "2023-03-20T08:47:02.172Z"
   },
   {
    "duration": 33,
    "start_time": "2023-03-20T08:47:02.222Z"
   },
   {
    "duration": 1031,
    "start_time": "2023-03-20T08:47:02.257Z"
   },
   {
    "duration": 9,
    "start_time": "2023-03-20T08:47:03.291Z"
   },
   {
    "duration": 12,
    "start_time": "2023-03-20T08:47:03.303Z"
   },
   {
    "duration": 12,
    "start_time": "2023-03-20T08:47:03.317Z"
   },
   {
    "duration": 10,
    "start_time": "2023-03-20T08:47:03.331Z"
   },
   {
    "duration": 10,
    "start_time": "2023-03-20T08:47:03.344Z"
   },
   {
    "duration": 43,
    "start_time": "2023-03-20T08:47:03.356Z"
   },
   {
    "duration": 9,
    "start_time": "2023-03-20T08:47:03.401Z"
   },
   {
    "duration": 27,
    "start_time": "2023-03-20T08:47:03.412Z"
   },
   {
    "duration": 10,
    "start_time": "2023-03-20T08:47:03.441Z"
   },
   {
    "duration": 3,
    "start_time": "2023-03-20T08:47:03.456Z"
   },
   {
    "duration": 13,
    "start_time": "2023-03-20T08:47:06.794Z"
   },
   {
    "duration": 4,
    "start_time": "2023-03-20T08:47:07.900Z"
   },
   {
    "duration": 4,
    "start_time": "2023-03-20T08:47:08.701Z"
   },
   {
    "duration": 13,
    "start_time": "2023-03-20T08:47:23.295Z"
   },
   {
    "duration": 4,
    "start_time": "2023-03-20T08:47:23.621Z"
   },
   {
    "duration": 427,
    "start_time": "2023-03-20T08:52:13.300Z"
   },
   {
    "duration": 492,
    "start_time": "2023-03-20T08:52:13.729Z"
   },
   {
    "duration": 3,
    "start_time": "2023-03-20T08:52:14.224Z"
   },
   {
    "duration": 196,
    "start_time": "2023-03-20T08:52:14.229Z"
   },
   {
    "duration": 104,
    "start_time": "2023-03-20T08:52:14.426Z"
   },
   {
    "duration": 17,
    "start_time": "2023-03-20T08:52:14.532Z"
   },
   {
    "duration": 14,
    "start_time": "2023-03-20T08:52:14.550Z"
   },
   {
    "duration": 3,
    "start_time": "2023-03-20T08:52:14.565Z"
   },
   {
    "duration": 4,
    "start_time": "2023-03-20T08:52:14.588Z"
   },
   {
    "duration": 10,
    "start_time": "2023-03-20T08:52:14.594Z"
   },
   {
    "duration": 15,
    "start_time": "2023-03-20T08:52:14.606Z"
   },
   {
    "duration": 2,
    "start_time": "2023-03-20T08:52:14.623Z"
   },
   {
    "duration": 490,
    "start_time": "2023-03-20T08:52:14.626Z"
   },
   {
    "duration": 10,
    "start_time": "2023-03-20T08:52:15.119Z"
   },
   {
    "duration": 29,
    "start_time": "2023-03-20T08:52:15.132Z"
   },
   {
    "duration": 13,
    "start_time": "2023-03-20T08:52:15.162Z"
   },
   {
    "duration": 20,
    "start_time": "2023-03-20T08:52:15.177Z"
   },
   {
    "duration": 164,
    "start_time": "2023-03-20T08:52:15.199Z"
   },
   {
    "duration": 3,
    "start_time": "2023-03-20T08:52:15.365Z"
   },
   {
    "duration": 20,
    "start_time": "2023-03-20T08:52:15.369Z"
   },
   {
    "duration": 4,
    "start_time": "2023-03-20T08:52:15.391Z"
   },
   {
    "duration": 6,
    "start_time": "2023-03-20T08:52:15.397Z"
   },
   {
    "duration": 30,
    "start_time": "2023-03-20T08:52:15.405Z"
   },
   {
    "duration": 8,
    "start_time": "2023-03-20T08:52:15.437Z"
   },
   {
    "duration": 7,
    "start_time": "2023-03-20T08:52:15.447Z"
   },
   {
    "duration": 32,
    "start_time": "2023-03-20T08:52:15.456Z"
   },
   {
    "duration": 5,
    "start_time": "2023-03-20T08:52:15.490Z"
   },
   {
    "duration": 3,
    "start_time": "2023-03-20T08:52:15.499Z"
   },
   {
    "duration": 21,
    "start_time": "2023-03-20T08:52:15.503Z"
   },
   {
    "duration": 324,
    "start_time": "2023-03-20T08:52:15.526Z"
   },
   {
    "duration": 9,
    "start_time": "2023-03-20T08:52:15.852Z"
   },
   {
    "duration": 4,
    "start_time": "2023-03-20T08:52:15.864Z"
   },
   {
    "duration": 1105,
    "start_time": "2023-03-20T08:52:15.889Z"
   },
   {
    "duration": 292,
    "start_time": "2023-03-20T08:52:16.996Z"
   },
   {
    "duration": 5,
    "start_time": "2023-03-20T08:52:17.290Z"
   },
   {
    "duration": 3,
    "start_time": "2023-03-20T08:52:17.297Z"
   },
   {
    "duration": 7,
    "start_time": "2023-03-20T08:52:17.302Z"
   },
   {
    "duration": 286,
    "start_time": "2023-03-20T08:52:17.311Z"
   },
   {
    "duration": 178,
    "start_time": "2023-03-20T08:52:17.598Z"
   },
   {
    "duration": 13,
    "start_time": "2023-03-20T08:52:17.778Z"
   },
   {
    "duration": 12,
    "start_time": "2023-03-20T08:52:17.793Z"
   },
   {
    "duration": 7,
    "start_time": "2023-03-20T08:52:17.807Z"
   },
   {
    "duration": 272,
    "start_time": "2023-03-20T08:52:17.816Z"
   },
   {
    "duration": 8,
    "start_time": "2023-03-20T08:52:18.090Z"
   },
   {
    "duration": 221,
    "start_time": "2023-03-20T08:52:18.100Z"
   },
   {
    "duration": 237,
    "start_time": "2023-03-20T08:52:18.323Z"
   },
   {
    "duration": 8,
    "start_time": "2023-03-20T08:52:18.562Z"
   },
   {
    "duration": 159,
    "start_time": "2023-03-20T08:52:18.572Z"
   },
   {
    "duration": 5,
    "start_time": "2023-03-20T08:52:18.733Z"
   },
   {
    "duration": 159,
    "start_time": "2023-03-20T08:52:18.739Z"
   },
   {
    "duration": 6,
    "start_time": "2023-03-20T08:52:18.900Z"
   },
   {
    "duration": 6,
    "start_time": "2023-03-20T08:52:18.907Z"
   },
   {
    "duration": 6,
    "start_time": "2023-03-20T08:52:18.914Z"
   },
   {
    "duration": 4,
    "start_time": "2023-03-20T08:52:18.922Z"
   },
   {
    "duration": 3,
    "start_time": "2023-03-20T08:52:18.928Z"
   },
   {
    "duration": 5,
    "start_time": "2023-03-20T08:52:18.933Z"
   },
   {
    "duration": 5,
    "start_time": "2023-03-20T08:52:18.939Z"
   },
   {
    "duration": 4,
    "start_time": "2023-03-20T08:52:18.946Z"
   },
   {
    "duration": 5,
    "start_time": "2023-03-20T08:52:18.951Z"
   },
   {
    "duration": 3,
    "start_time": "2023-03-20T08:52:18.989Z"
   },
   {
    "duration": 4,
    "start_time": "2023-03-20T08:52:18.994Z"
   },
   {
    "duration": 5,
    "start_time": "2023-03-20T08:52:19.000Z"
   },
   {
    "duration": 118,
    "start_time": "2023-03-20T08:52:19.006Z"
   },
   {
    "duration": 1130,
    "start_time": "2023-03-20T08:52:19.125Z"
   },
   {
    "duration": 171,
    "start_time": "2023-03-20T08:52:20.257Z"
   },
   {
    "duration": 352,
    "start_time": "2023-03-20T08:52:20.429Z"
   },
   {
    "duration": 14,
    "start_time": "2023-03-20T08:52:20.783Z"
   },
   {
    "duration": 40,
    "start_time": "2023-03-20T08:52:20.799Z"
   },
   {
    "duration": 20,
    "start_time": "2023-03-20T08:52:20.841Z"
   },
   {
    "duration": 37,
    "start_time": "2023-03-20T08:52:20.863Z"
   },
   {
    "duration": 10,
    "start_time": "2023-03-20T08:52:20.902Z"
   },
   {
    "duration": 50,
    "start_time": "2023-03-20T08:52:20.914Z"
   },
   {
    "duration": 932,
    "start_time": "2023-03-20T08:52:20.966Z"
   },
   {
    "duration": 9,
    "start_time": "2023-03-20T08:52:21.900Z"
   },
   {
    "duration": 9,
    "start_time": "2023-03-20T08:52:21.911Z"
   },
   {
    "duration": 25,
    "start_time": "2023-03-20T08:52:21.922Z"
   },
   {
    "duration": 14,
    "start_time": "2023-03-20T08:52:21.949Z"
   },
   {
    "duration": 22,
    "start_time": "2023-03-20T08:52:21.964Z"
   },
   {
    "duration": 27,
    "start_time": "2023-03-20T08:52:21.988Z"
   },
   {
    "duration": 16,
    "start_time": "2023-03-20T08:52:22.017Z"
   },
   {
    "duration": 8,
    "start_time": "2023-03-20T08:52:22.035Z"
   },
   {
    "duration": 22,
    "start_time": "2023-03-20T08:52:22.048Z"
   },
   {
    "duration": 2,
    "start_time": "2023-03-20T08:52:35.068Z"
   },
   {
    "duration": 14,
    "start_time": "2023-03-20T08:52:36.198Z"
   },
   {
    "duration": 4,
    "start_time": "2023-03-20T08:52:37.052Z"
   },
   {
    "duration": 15,
    "start_time": "2023-03-20T08:52:52.148Z"
   },
   {
    "duration": 4,
    "start_time": "2023-03-20T08:52:52.541Z"
   },
   {
    "duration": 26,
    "start_time": "2023-03-20T08:53:39.606Z"
   },
   {
    "duration": 26,
    "start_time": "2023-03-20T08:53:48.908Z"
   },
   {
    "duration": 25,
    "start_time": "2023-03-20T09:04:23.036Z"
   },
   {
    "duration": 24,
    "start_time": "2023-03-20T09:04:34.124Z"
   },
   {
    "duration": 14,
    "start_time": "2023-03-20T09:05:12.964Z"
   },
   {
    "duration": 4,
    "start_time": "2023-03-20T09:05:13.436Z"
   },
   {
    "duration": 4,
    "start_time": "2023-03-20T09:05:20.252Z"
   },
   {
    "duration": 10,
    "start_time": "2023-03-20T09:05:57.060Z"
   },
   {
    "duration": 10,
    "start_time": "2023-03-20T09:06:09.210Z"
   },
   {
    "duration": 14,
    "start_time": "2023-03-20T09:06:40.585Z"
   },
   {
    "duration": 3,
    "start_time": "2023-03-20T09:06:40.955Z"
   },
   {
    "duration": 4,
    "start_time": "2023-03-20T09:06:42.244Z"
   },
   {
    "duration": 18,
    "start_time": "2023-03-20T09:07:13.305Z"
   },
   {
    "duration": 4,
    "start_time": "2023-03-20T09:07:13.876Z"
   },
   {
    "duration": 4,
    "start_time": "2023-03-20T09:07:14.612Z"
   },
   {
    "duration": 3,
    "start_time": "2023-03-20T09:18:22.962Z"
   },
   {
    "duration": 18,
    "start_time": "2023-03-20T09:18:24.001Z"
   },
   {
    "duration": 5,
    "start_time": "2023-03-20T09:18:25.779Z"
   },
   {
    "duration": 3,
    "start_time": "2023-03-20T09:18:26.724Z"
   },
   {
    "duration": 10,
    "start_time": "2023-03-20T09:23:07.842Z"
   },
   {
    "duration": 12,
    "start_time": "2023-03-20T09:23:08.418Z"
   },
   {
    "duration": 3,
    "start_time": "2023-03-20T09:24:16.509Z"
   },
   {
    "duration": 14,
    "start_time": "2023-03-20T09:24:16.903Z"
   },
   {
    "duration": 4,
    "start_time": "2023-03-20T09:24:17.033Z"
   },
   {
    "duration": 4,
    "start_time": "2023-03-20T09:24:17.178Z"
   },
   {
    "duration": 10,
    "start_time": "2023-03-20T09:24:17.922Z"
   },
   {
    "duration": 3,
    "start_time": "2023-03-20T09:32:44.905Z"
   },
   {
    "duration": 13,
    "start_time": "2023-03-20T09:32:45.409Z"
   },
   {
    "duration": 4,
    "start_time": "2023-03-20T09:32:46.274Z"
   },
   {
    "duration": 3,
    "start_time": "2023-03-20T09:32:55.901Z"
   },
   {
    "duration": 10,
    "start_time": "2023-03-20T09:35:44.643Z"
   },
   {
    "duration": 15,
    "start_time": "2023-03-20T09:35:56.106Z"
   },
   {
    "duration": 3,
    "start_time": "2023-03-20T09:36:35.745Z"
   },
   {
    "duration": 15,
    "start_time": "2023-03-20T09:36:36.074Z"
   },
   {
    "duration": 4,
    "start_time": "2023-03-20T09:36:36.406Z"
   },
   {
    "duration": 4,
    "start_time": "2023-03-20T09:36:37.050Z"
   },
   {
    "duration": 8,
    "start_time": "2023-03-20T09:40:07.978Z"
   },
   {
    "duration": 9,
    "start_time": "2023-03-20T09:40:08.458Z"
   },
   {
    "duration": 3,
    "start_time": "2023-03-20T10:01:30.313Z"
   },
   {
    "duration": 14,
    "start_time": "2023-03-20T10:01:30.594Z"
   },
   {
    "duration": 3,
    "start_time": "2023-03-20T10:01:30.842Z"
   },
   {
    "duration": 4,
    "start_time": "2023-03-20T10:01:31.602Z"
   },
   {
    "duration": 4,
    "start_time": "2023-03-20T10:01:35.133Z"
   },
   {
    "duration": 147,
    "start_time": "2023-03-21T09:59:59.498Z"
   },
   {
    "duration": 449,
    "start_time": "2023-03-21T10:20:10.419Z"
   },
   {
    "duration": 481,
    "start_time": "2023-03-21T10:20:10.871Z"
   },
   {
    "duration": 3,
    "start_time": "2023-03-21T10:20:11.353Z"
   },
   {
    "duration": 498,
    "start_time": "2023-03-21T10:20:11.358Z"
   },
   {
    "duration": 196,
    "start_time": "2023-03-21T10:20:11.859Z"
   },
   {
    "duration": 19,
    "start_time": "2023-03-21T10:20:12.057Z"
   },
   {
    "duration": 36,
    "start_time": "2023-03-21T10:20:12.078Z"
   },
   {
    "duration": 30,
    "start_time": "2023-03-21T10:20:12.116Z"
   },
   {
    "duration": 26,
    "start_time": "2023-03-21T10:20:12.149Z"
   },
   {
    "duration": 37,
    "start_time": "2023-03-21T10:20:12.177Z"
   },
   {
    "duration": 43,
    "start_time": "2023-03-21T10:20:12.217Z"
   },
   {
    "duration": 18,
    "start_time": "2023-03-21T10:20:12.261Z"
   },
   {
    "duration": 661,
    "start_time": "2023-03-21T10:20:12.280Z"
   },
   {
    "duration": 18,
    "start_time": "2023-03-21T10:20:12.946Z"
   },
   {
    "duration": 71,
    "start_time": "2023-03-21T10:20:12.966Z"
   },
   {
    "duration": 58,
    "start_time": "2023-03-21T10:20:13.039Z"
   },
   {
    "duration": 59,
    "start_time": "2023-03-21T10:20:13.099Z"
   },
   {
    "duration": 196,
    "start_time": "2023-03-21T10:20:13.160Z"
   },
   {
    "duration": 3,
    "start_time": "2023-03-21T10:20:13.358Z"
   },
   {
    "duration": 12,
    "start_time": "2023-03-21T10:20:13.362Z"
   },
   {
    "duration": 22,
    "start_time": "2023-03-21T10:20:13.376Z"
   },
   {
    "duration": 28,
    "start_time": "2023-03-21T10:20:13.400Z"
   },
   {
    "duration": 49,
    "start_time": "2023-03-21T10:20:13.431Z"
   },
   {
    "duration": 8,
    "start_time": "2023-03-21T10:20:13.481Z"
   },
   {
    "duration": 36,
    "start_time": "2023-03-21T10:20:13.491Z"
   },
   {
    "duration": 32,
    "start_time": "2023-03-21T10:20:13.529Z"
   },
   {
    "duration": 20,
    "start_time": "2023-03-21T10:20:13.564Z"
   },
   {
    "duration": 33,
    "start_time": "2023-03-21T10:20:13.586Z"
   },
   {
    "duration": 28,
    "start_time": "2023-03-21T10:20:13.621Z"
   },
   {
    "duration": 361,
    "start_time": "2023-03-21T10:20:13.652Z"
   },
   {
    "duration": 12,
    "start_time": "2023-03-21T10:20:14.015Z"
   },
   {
    "duration": 21,
    "start_time": "2023-03-21T10:20:14.029Z"
   },
   {
    "duration": 1362,
    "start_time": "2023-03-21T10:20:14.052Z"
   },
   {
    "duration": 345,
    "start_time": "2023-03-21T10:20:15.417Z"
   },
   {
    "duration": 7,
    "start_time": "2023-03-21T10:20:15.764Z"
   },
   {
    "duration": 20,
    "start_time": "2023-03-21T10:20:15.772Z"
   },
   {
    "duration": 35,
    "start_time": "2023-03-21T10:20:15.794Z"
   },
   {
    "duration": 309,
    "start_time": "2023-03-21T10:20:15.831Z"
   },
   {
    "duration": 210,
    "start_time": "2023-03-21T10:20:16.142Z"
   },
   {
    "duration": 11,
    "start_time": "2023-03-21T10:20:16.355Z"
   },
   {
    "duration": 27,
    "start_time": "2023-03-21T10:20:16.371Z"
   },
   {
    "duration": 5,
    "start_time": "2023-03-21T10:20:16.400Z"
   },
   {
    "duration": 395,
    "start_time": "2023-03-21T10:20:16.406Z"
   },
   {
    "duration": 11,
    "start_time": "2023-03-21T10:20:16.808Z"
   },
   {
    "duration": 279,
    "start_time": "2023-03-21T10:20:16.821Z"
   },
   {
    "duration": 287,
    "start_time": "2023-03-21T10:20:17.108Z"
   },
   {
    "duration": 11,
    "start_time": "2023-03-21T10:20:17.397Z"
   },
   {
    "duration": 197,
    "start_time": "2023-03-21T10:20:17.409Z"
   },
   {
    "duration": 6,
    "start_time": "2023-03-21T10:20:17.608Z"
   },
   {
    "duration": 215,
    "start_time": "2023-03-21T10:20:17.620Z"
   },
   {
    "duration": 7,
    "start_time": "2023-03-21T10:20:17.838Z"
   },
   {
    "duration": 39,
    "start_time": "2023-03-21T10:20:17.867Z"
   },
   {
    "duration": 23,
    "start_time": "2023-03-21T10:20:17.908Z"
   },
   {
    "duration": 18,
    "start_time": "2023-03-21T10:20:17.934Z"
   },
   {
    "duration": 20,
    "start_time": "2023-03-21T10:20:17.954Z"
   },
   {
    "duration": 11,
    "start_time": "2023-03-21T10:20:17.976Z"
   },
   {
    "duration": 25,
    "start_time": "2023-03-21T10:20:17.989Z"
   },
   {
    "duration": 15,
    "start_time": "2023-03-21T10:20:18.016Z"
   },
   {
    "duration": 21,
    "start_time": "2023-03-21T10:20:18.034Z"
   },
   {
    "duration": 24,
    "start_time": "2023-03-21T10:20:18.057Z"
   },
   {
    "duration": 30,
    "start_time": "2023-03-21T10:20:18.083Z"
   },
   {
    "duration": 22,
    "start_time": "2023-03-21T10:20:18.115Z"
   },
   {
    "duration": 121,
    "start_time": "2023-03-21T10:20:18.139Z"
   },
   {
    "duration": 1324,
    "start_time": "2023-03-21T10:20:18.264Z"
   },
   {
    "duration": 234,
    "start_time": "2023-03-21T10:20:19.591Z"
   },
   {
    "duration": 439,
    "start_time": "2023-03-21T10:20:19.827Z"
   },
   {
    "duration": 13,
    "start_time": "2023-03-21T10:20:20.268Z"
   },
   {
    "duration": 30,
    "start_time": "2023-03-21T10:20:20.297Z"
   },
   {
    "duration": 24,
    "start_time": "2023-03-21T10:20:20.329Z"
   },
   {
    "duration": 12,
    "start_time": "2023-03-21T10:20:20.355Z"
   },
   {
    "duration": 14,
    "start_time": "2023-03-21T10:20:20.369Z"
   },
   {
    "duration": 32,
    "start_time": "2023-03-21T10:20:20.386Z"
   },
   {
    "duration": 1200,
    "start_time": "2023-03-21T10:20:20.421Z"
   },
   {
    "duration": 16,
    "start_time": "2023-03-21T10:20:21.623Z"
   },
   {
    "duration": 26,
    "start_time": "2023-03-21T10:20:21.641Z"
   },
   {
    "duration": 45,
    "start_time": "2023-03-21T10:20:21.670Z"
   },
   {
    "duration": 26,
    "start_time": "2023-03-21T10:20:21.719Z"
   },
   {
    "duration": 27,
    "start_time": "2023-03-21T10:20:21.748Z"
   },
   {
    "duration": 33,
    "start_time": "2023-03-21T10:20:21.778Z"
   },
   {
    "duration": 41,
    "start_time": "2023-03-21T10:20:21.815Z"
   },
   {
    "duration": 21,
    "start_time": "2023-03-21T10:20:21.858Z"
   },
   {
    "duration": 23,
    "start_time": "2023-03-21T10:20:21.882Z"
   },
   {
    "duration": 39,
    "start_time": "2023-03-21T10:20:21.907Z"
   },
   {
    "duration": 33,
    "start_time": "2023-03-21T10:20:21.952Z"
   },
   {
    "duration": 5,
    "start_time": "2023-03-21T10:20:21.987Z"
   },
   {
    "duration": 30,
    "start_time": "2023-03-21T10:20:21.993Z"
   },
   {
    "duration": 25,
    "start_time": "2023-03-21T10:20:22.025Z"
   },
   {
    "duration": 30,
    "start_time": "2023-03-21T10:20:22.051Z"
   },
   {
    "duration": 8,
    "start_time": "2023-03-21T10:20:22.083Z"
   },
   {
    "duration": 42,
    "start_time": "2023-03-21T10:20:22.093Z"
   },
   {
    "duration": 4,
    "start_time": "2023-03-21T10:20:22.137Z"
   },
   {
    "duration": 6,
    "start_time": "2023-03-21T10:20:22.142Z"
   },
   {
    "duration": 31,
    "start_time": "2023-03-21T10:20:22.149Z"
   },
   {
    "duration": 25,
    "start_time": "2023-03-21T10:20:22.182Z"
   },
   {
    "duration": 23,
    "start_time": "2023-03-21T10:20:22.211Z"
   },
   {
    "duration": 14,
    "start_time": "2023-03-21T10:20:22.237Z"
   },
   {
    "duration": 99,
    "start_time": "2023-03-21T10:23:16.518Z"
   },
   {
    "duration": 7,
    "start_time": "2023-03-21T14:20:21.347Z"
   },
   {
    "duration": 42,
    "start_time": "2023-03-21T14:20:22.131Z"
   },
   {
    "duration": 459,
    "start_time": "2023-03-21T14:20:26.586Z"
   },
   {
    "duration": 481,
    "start_time": "2023-03-21T14:20:27.047Z"
   },
   {
    "duration": 2,
    "start_time": "2023-03-21T14:20:27.530Z"
   },
   {
    "duration": 407,
    "start_time": "2023-03-21T14:20:27.534Z"
   },
   {
    "duration": 258,
    "start_time": "2023-03-21T14:20:27.945Z"
   },
   {
    "duration": 22,
    "start_time": "2023-03-21T14:20:28.210Z"
   },
   {
    "duration": 21,
    "start_time": "2023-03-21T14:20:28.234Z"
   },
   {
    "duration": 4,
    "start_time": "2023-03-21T14:20:28.257Z"
   },
   {
    "duration": 10,
    "start_time": "2023-03-21T14:20:28.263Z"
   },
   {
    "duration": 25,
    "start_time": "2023-03-21T14:20:28.275Z"
   },
   {
    "duration": 16,
    "start_time": "2023-03-21T14:20:28.303Z"
   },
   {
    "duration": 6,
    "start_time": "2023-03-21T14:20:28.321Z"
   },
   {
    "duration": 538,
    "start_time": "2023-03-21T14:20:28.329Z"
   },
   {
    "duration": 11,
    "start_time": "2023-03-21T14:20:28.871Z"
   },
   {
    "duration": 34,
    "start_time": "2023-03-21T14:20:28.884Z"
   },
   {
    "duration": 18,
    "start_time": "2023-03-21T14:20:28.920Z"
   },
   {
    "duration": 18,
    "start_time": "2023-03-21T14:20:28.941Z"
   },
   {
    "duration": 195,
    "start_time": "2023-03-21T14:20:28.961Z"
   },
   {
    "duration": 3,
    "start_time": "2023-03-21T14:20:29.158Z"
   },
   {
    "duration": 11,
    "start_time": "2023-03-21T14:20:29.163Z"
   },
   {
    "duration": 40,
    "start_time": "2023-03-21T14:20:29.176Z"
   },
   {
    "duration": 16,
    "start_time": "2023-03-21T14:20:29.218Z"
   },
   {
    "duration": 28,
    "start_time": "2023-03-21T14:20:29.236Z"
   },
   {
    "duration": 7,
    "start_time": "2023-03-21T14:20:29.266Z"
   },
   {
    "duration": 6,
    "start_time": "2023-03-21T14:20:29.275Z"
   },
   {
    "duration": 6,
    "start_time": "2023-03-21T14:20:29.283Z"
   },
   {
    "duration": 12,
    "start_time": "2023-03-21T14:20:29.296Z"
   },
   {
    "duration": 16,
    "start_time": "2023-03-21T14:20:29.310Z"
   },
   {
    "duration": 11,
    "start_time": "2023-03-21T14:20:29.328Z"
   },
   {
    "duration": 375,
    "start_time": "2023-03-21T14:20:29.342Z"
   },
   {
    "duration": 11,
    "start_time": "2023-03-21T14:20:29.718Z"
   },
   {
    "duration": 15,
    "start_time": "2023-03-21T14:20:29.730Z"
   },
   {
    "duration": 1244,
    "start_time": "2023-03-21T14:20:29.747Z"
   },
   {
    "duration": 320,
    "start_time": "2023-03-21T14:20:30.993Z"
   },
   {
    "duration": 5,
    "start_time": "2023-03-21T14:20:31.315Z"
   },
   {
    "duration": 18,
    "start_time": "2023-03-21T14:20:31.322Z"
   },
   {
    "duration": 23,
    "start_time": "2023-03-21T14:20:31.342Z"
   },
   {
    "duration": 305,
    "start_time": "2023-03-21T14:20:31.366Z"
   },
   {
    "duration": 191,
    "start_time": "2023-03-21T14:20:31.673Z"
   },
   {
    "duration": 10,
    "start_time": "2023-03-21T14:20:31.865Z"
   },
   {
    "duration": 30,
    "start_time": "2023-03-21T14:20:31.879Z"
   },
   {
    "duration": 7,
    "start_time": "2023-03-21T14:20:31.911Z"
   },
   {
    "duration": 289,
    "start_time": "2023-03-21T14:20:31.920Z"
   },
   {
    "duration": 9,
    "start_time": "2023-03-21T14:20:32.211Z"
   },
   {
    "duration": 230,
    "start_time": "2023-03-21T14:20:32.221Z"
   },
   {
    "duration": 254,
    "start_time": "2023-03-21T14:20:32.452Z"
   },
   {
    "duration": 7,
    "start_time": "2023-03-21T14:20:32.708Z"
   },
   {
    "duration": 155,
    "start_time": "2023-03-21T14:20:32.716Z"
   },
   {
    "duration": 5,
    "start_time": "2023-03-21T14:20:32.873Z"
   },
   {
    "duration": 170,
    "start_time": "2023-03-21T14:20:32.879Z"
   },
   {
    "duration": 6,
    "start_time": "2023-03-21T14:20:33.051Z"
   },
   {
    "duration": 5,
    "start_time": "2023-03-21T14:20:33.058Z"
   },
   {
    "duration": 5,
    "start_time": "2023-03-21T14:20:33.065Z"
   },
   {
    "duration": 5,
    "start_time": "2023-03-21T14:20:33.072Z"
   },
   {
    "duration": 28,
    "start_time": "2023-03-21T14:20:33.079Z"
   },
   {
    "duration": 6,
    "start_time": "2023-03-21T14:20:33.109Z"
   },
   {
    "duration": 5,
    "start_time": "2023-03-21T14:20:33.117Z"
   },
   {
    "duration": 5,
    "start_time": "2023-03-21T14:20:33.124Z"
   },
   {
    "duration": 7,
    "start_time": "2023-03-21T14:20:33.130Z"
   },
   {
    "duration": 5,
    "start_time": "2023-03-21T14:20:33.139Z"
   },
   {
    "duration": 7,
    "start_time": "2023-03-21T14:20:33.146Z"
   },
   {
    "duration": 5,
    "start_time": "2023-03-21T14:20:33.155Z"
   },
   {
    "duration": 102,
    "start_time": "2023-03-21T14:20:33.162Z"
   },
   {
    "duration": 1184,
    "start_time": "2023-03-21T14:20:33.265Z"
   },
   {
    "duration": 194,
    "start_time": "2023-03-21T14:20:34.451Z"
   },
   {
    "duration": 379,
    "start_time": "2023-03-21T14:20:34.646Z"
   },
   {
    "duration": 11,
    "start_time": "2023-03-21T14:20:35.027Z"
   },
   {
    "duration": 19,
    "start_time": "2023-03-21T14:20:35.040Z"
   },
   {
    "duration": 11,
    "start_time": "2023-03-21T14:20:35.061Z"
   },
   {
    "duration": 30,
    "start_time": "2023-03-21T14:20:35.074Z"
   },
   {
    "duration": 7,
    "start_time": "2023-03-21T14:20:35.105Z"
   },
   {
    "duration": 11,
    "start_time": "2023-03-21T14:20:35.114Z"
   },
   {
    "duration": 1020,
    "start_time": "2023-03-21T14:20:35.127Z"
   },
   {
    "duration": 8,
    "start_time": "2023-03-21T14:20:36.148Z"
   },
   {
    "duration": 8,
    "start_time": "2023-03-21T14:20:36.158Z"
   },
   {
    "duration": 33,
    "start_time": "2023-03-21T14:20:36.168Z"
   },
   {
    "duration": 18,
    "start_time": "2023-03-21T14:20:36.203Z"
   },
   {
    "duration": 8,
    "start_time": "2023-03-21T14:20:36.222Z"
   },
   {
    "duration": 12,
    "start_time": "2023-03-21T14:20:36.231Z"
   },
   {
    "duration": 9,
    "start_time": "2023-03-21T14:20:36.245Z"
   },
   {
    "duration": 8,
    "start_time": "2023-03-21T14:20:36.255Z"
   },
   {
    "duration": 10,
    "start_time": "2023-03-21T14:20:36.265Z"
   },
   {
    "duration": 24,
    "start_time": "2023-03-21T14:20:36.277Z"
   },
   {
    "duration": 23,
    "start_time": "2023-03-21T14:20:36.303Z"
   },
   {
    "duration": 3,
    "start_time": "2023-03-21T14:20:36.327Z"
   },
   {
    "duration": 13,
    "start_time": "2023-03-21T14:20:36.332Z"
   },
   {
    "duration": 20,
    "start_time": "2023-03-21T14:20:36.346Z"
   },
   {
    "duration": 12,
    "start_time": "2023-03-21T14:20:36.367Z"
   },
   {
    "duration": 5,
    "start_time": "2023-03-21T14:20:36.380Z"
   },
   {
    "duration": 3,
    "start_time": "2023-03-21T14:21:39.333Z"
   },
   {
    "duration": 22,
    "start_time": "2023-03-21T14:21:39.694Z"
   },
   {
    "duration": 4,
    "start_time": "2023-03-21T14:21:40.923Z"
   },
   {
    "duration": 3,
    "start_time": "2023-03-21T14:21:48.857Z"
   },
   {
    "duration": 9,
    "start_time": "2023-03-21T14:23:53.248Z"
   },
   {
    "duration": 10,
    "start_time": "2023-03-21T14:23:53.673Z"
   },
   {
    "duration": 7,
    "start_time": "2023-03-21T14:23:58.856Z"
   },
   {
    "duration": 8,
    "start_time": "2023-03-21T14:23:59.233Z"
   }
  ],
  "celltoolbar": "Raw Cell Format",
  "kernelspec": {
   "display_name": "Python 3 (ipykernel)",
   "language": "python",
   "name": "python3"
  },
  "language_info": {
   "codemirror_mode": {
    "name": "ipython",
    "version": 3
   },
   "file_extension": ".py",
   "mimetype": "text/x-python",
   "name": "python",
   "nbconvert_exporter": "python",
   "pygments_lexer": "ipython3",
   "version": "3.9.13"
  },
  "toc": {
   "base_numbering": 1,
   "nav_menu": {},
   "number_sections": true,
   "sideBar": true,
   "skip_h1_title": true,
   "title_cell": "Table of Contents",
   "title_sidebar": "Contents",
   "toc_cell": false,
   "toc_position": {},
   "toc_section_display": true,
   "toc_window_display": false
  }
 },
 "nbformat": 4,
 "nbformat_minor": 2
}
